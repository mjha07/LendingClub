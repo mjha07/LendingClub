{
 "cells": [
  {
   "cell_type": "code",
   "execution_count": 1,
   "metadata": {},
   "outputs": [],
   "source": [
    "import numpy as np\n",
    "import pandas as pd\n",
    "import seaborn as sns\n",
    "import matplotlib.pyplot as plt\n",
    "\n",
    "% matplotlib inline"
   ]
  },
  {
   "cell_type": "code",
   "execution_count": 2,
   "metadata": {},
   "outputs": [],
   "source": [
    "df = pd.read_csv('LoanStats_2016Q1.csv', engine = 'python', skipinitialspace=True, skiprows = 1)"
   ]
  },
  {
   "cell_type": "code",
   "execution_count": 3,
   "metadata": {},
   "outputs": [
    {
     "data": {
      "text/html": [
       "<div>\n",
       "<style scoped>\n",
       "    .dataframe tbody tr th:only-of-type {\n",
       "        vertical-align: middle;\n",
       "    }\n",
       "\n",
       "    .dataframe tbody tr th {\n",
       "        vertical-align: top;\n",
       "    }\n",
       "\n",
       "    .dataframe thead th {\n",
       "        text-align: right;\n",
       "    }\n",
       "</style>\n",
       "<table border=\"1\" class=\"dataframe\">\n",
       "  <thead>\n",
       "    <tr style=\"text-align: right;\">\n",
       "      <th></th>\n",
       "      <th>id</th>\n",
       "      <th>member_id</th>\n",
       "      <th>loan_amnt</th>\n",
       "      <th>funded_amnt</th>\n",
       "      <th>funded_amnt_inv</th>\n",
       "      <th>term</th>\n",
       "      <th>int_rate</th>\n",
       "      <th>installment</th>\n",
       "      <th>grade</th>\n",
       "      <th>sub_grade</th>\n",
       "      <th>...</th>\n",
       "      <th>hardship_payoff_balance_amount</th>\n",
       "      <th>hardship_last_payment_amount</th>\n",
       "      <th>disbursement_method</th>\n",
       "      <th>debt_settlement_flag</th>\n",
       "      <th>debt_settlement_flag_date</th>\n",
       "      <th>settlement_status</th>\n",
       "      <th>settlement_date</th>\n",
       "      <th>settlement_amount</th>\n",
       "      <th>settlement_percentage</th>\n",
       "      <th>settlement_term</th>\n",
       "    </tr>\n",
       "  </thead>\n",
       "  <tbody>\n",
       "    <tr>\n",
       "      <th>0</th>\n",
       "      <td>NaN</td>\n",
       "      <td>NaN</td>\n",
       "      <td>34000.0</td>\n",
       "      <td>34000.0</td>\n",
       "      <td>34000.0</td>\n",
       "      <td>60 months</td>\n",
       "      <td>15.31%</td>\n",
       "      <td>814.41</td>\n",
       "      <td>C</td>\n",
       "      <td>C5</td>\n",
       "      <td>...</td>\n",
       "      <td>NaN</td>\n",
       "      <td>NaN</td>\n",
       "      <td>Cash</td>\n",
       "      <td>N</td>\n",
       "      <td>NaN</td>\n",
       "      <td>NaN</td>\n",
       "      <td>NaN</td>\n",
       "      <td>NaN</td>\n",
       "      <td>NaN</td>\n",
       "      <td>NaN</td>\n",
       "    </tr>\n",
       "    <tr>\n",
       "      <th>1</th>\n",
       "      <td>NaN</td>\n",
       "      <td>NaN</td>\n",
       "      <td>12200.0</td>\n",
       "      <td>12200.0</td>\n",
       "      <td>12200.0</td>\n",
       "      <td>60 months</td>\n",
       "      <td>11.47%</td>\n",
       "      <td>268.13</td>\n",
       "      <td>B</td>\n",
       "      <td>B5</td>\n",
       "      <td>...</td>\n",
       "      <td>NaN</td>\n",
       "      <td>NaN</td>\n",
       "      <td>Cash</td>\n",
       "      <td>N</td>\n",
       "      <td>NaN</td>\n",
       "      <td>NaN</td>\n",
       "      <td>NaN</td>\n",
       "      <td>NaN</td>\n",
       "      <td>NaN</td>\n",
       "      <td>NaN</td>\n",
       "    </tr>\n",
       "    <tr>\n",
       "      <th>2</th>\n",
       "      <td>NaN</td>\n",
       "      <td>NaN</td>\n",
       "      <td>10000.0</td>\n",
       "      <td>10000.0</td>\n",
       "      <td>10000.0</td>\n",
       "      <td>36 months</td>\n",
       "      <td>11.47%</td>\n",
       "      <td>329.62</td>\n",
       "      <td>B</td>\n",
       "      <td>B5</td>\n",
       "      <td>...</td>\n",
       "      <td>NaN</td>\n",
       "      <td>NaN</td>\n",
       "      <td>Cash</td>\n",
       "      <td>N</td>\n",
       "      <td>NaN</td>\n",
       "      <td>NaN</td>\n",
       "      <td>NaN</td>\n",
       "      <td>NaN</td>\n",
       "      <td>NaN</td>\n",
       "      <td>NaN</td>\n",
       "    </tr>\n",
       "    <tr>\n",
       "      <th>3</th>\n",
       "      <td>NaN</td>\n",
       "      <td>NaN</td>\n",
       "      <td>21000.0</td>\n",
       "      <td>21000.0</td>\n",
       "      <td>21000.0</td>\n",
       "      <td>36 months</td>\n",
       "      <td>11.47%</td>\n",
       "      <td>692.20</td>\n",
       "      <td>B</td>\n",
       "      <td>B5</td>\n",
       "      <td>...</td>\n",
       "      <td>NaN</td>\n",
       "      <td>NaN</td>\n",
       "      <td>Cash</td>\n",
       "      <td>N</td>\n",
       "      <td>NaN</td>\n",
       "      <td>NaN</td>\n",
       "      <td>NaN</td>\n",
       "      <td>NaN</td>\n",
       "      <td>NaN</td>\n",
       "      <td>NaN</td>\n",
       "    </tr>\n",
       "    <tr>\n",
       "      <th>4</th>\n",
       "      <td>NaN</td>\n",
       "      <td>NaN</td>\n",
       "      <td>35000.0</td>\n",
       "      <td>35000.0</td>\n",
       "      <td>35000.0</td>\n",
       "      <td>60 months</td>\n",
       "      <td>21.18%</td>\n",
       "      <td>950.42</td>\n",
       "      <td>E</td>\n",
       "      <td>E3</td>\n",
       "      <td>...</td>\n",
       "      <td>NaN</td>\n",
       "      <td>NaN</td>\n",
       "      <td>Cash</td>\n",
       "      <td>N</td>\n",
       "      <td>NaN</td>\n",
       "      <td>NaN</td>\n",
       "      <td>NaN</td>\n",
       "      <td>NaN</td>\n",
       "      <td>NaN</td>\n",
       "      <td>NaN</td>\n",
       "    </tr>\n",
       "  </tbody>\n",
       "</table>\n",
       "<p>5 rows × 145 columns</p>\n",
       "</div>"
      ],
      "text/plain": [
       "    id  member_id  loan_amnt  funded_amnt  funded_amnt_inv        term  \\\n",
       "0  NaN        NaN    34000.0      34000.0          34000.0   60 months   \n",
       "1  NaN        NaN    12200.0      12200.0          12200.0   60 months   \n",
       "2  NaN        NaN    10000.0      10000.0          10000.0   36 months   \n",
       "3  NaN        NaN    21000.0      21000.0          21000.0   36 months   \n",
       "4  NaN        NaN    35000.0      35000.0          35000.0   60 months   \n",
       "\n",
       "  int_rate  installment grade sub_grade       ...        \\\n",
       "0   15.31%       814.41     C        C5       ...         \n",
       "1   11.47%       268.13     B        B5       ...         \n",
       "2   11.47%       329.62     B        B5       ...         \n",
       "3   11.47%       692.20     B        B5       ...         \n",
       "4   21.18%       950.42     E        E3       ...         \n",
       "\n",
       "  hardship_payoff_balance_amount hardship_last_payment_amount  \\\n",
       "0                            NaN                          NaN   \n",
       "1                            NaN                          NaN   \n",
       "2                            NaN                          NaN   \n",
       "3                            NaN                          NaN   \n",
       "4                            NaN                          NaN   \n",
       "\n",
       "  disbursement_method  debt_settlement_flag debt_settlement_flag_date  \\\n",
       "0                Cash                     N                       NaN   \n",
       "1                Cash                     N                       NaN   \n",
       "2                Cash                     N                       NaN   \n",
       "3                Cash                     N                       NaN   \n",
       "4                Cash                     N                       NaN   \n",
       "\n",
       "  settlement_status settlement_date settlement_amount  settlement_percentage  \\\n",
       "0               NaN             NaN               NaN                    NaN   \n",
       "1               NaN             NaN               NaN                    NaN   \n",
       "2               NaN             NaN               NaN                    NaN   \n",
       "3               NaN             NaN               NaN                    NaN   \n",
       "4               NaN             NaN               NaN                    NaN   \n",
       "\n",
       "  settlement_term  \n",
       "0             NaN  \n",
       "1             NaN  \n",
       "2             NaN  \n",
       "3             NaN  \n",
       "4             NaN  \n",
       "\n",
       "[5 rows x 145 columns]"
      ]
     },
     "execution_count": 3,
     "metadata": {},
     "output_type": "execute_result"
    }
   ],
   "source": [
    "df.head()"
   ]
  },
  {
   "cell_type": "code",
   "execution_count": 4,
   "metadata": {},
   "outputs": [
    {
     "data": {
      "text/plain": [
       "Index(['id', 'member_id', 'loan_amnt', 'funded_amnt', 'funded_amnt_inv',\n",
       "       'term', 'int_rate', 'installment', 'grade', 'sub_grade',\n",
       "       ...\n",
       "       'hardship_payoff_balance_amount', 'hardship_last_payment_amount',\n",
       "       'disbursement_method', 'debt_settlement_flag',\n",
       "       'debt_settlement_flag_date', 'settlement_status', 'settlement_date',\n",
       "       'settlement_amount', 'settlement_percentage', 'settlement_term'],\n",
       "      dtype='object', length=145)"
      ]
     },
     "execution_count": 4,
     "metadata": {},
     "output_type": "execute_result"
    }
   ],
   "source": [
    "df.columns"
   ]
  },
  {
   "cell_type": "code",
   "execution_count": 5,
   "metadata": {},
   "outputs": [
    {
     "data": {
      "text/plain": [
       "id                                            133887\n",
       "member_id                                     133889\n",
       "loan_amnt                                          2\n",
       "funded_amnt                                        2\n",
       "funded_amnt_inv                                    2\n",
       "term                                               2\n",
       "int_rate                                           2\n",
       "installment                                        2\n",
       "grade                                              2\n",
       "sub_grade                                          2\n",
       "emp_title                                       8983\n",
       "emp_length                                      8946\n",
       "home_ownership                                     2\n",
       "annual_inc                                         2\n",
       "verification_status                                2\n",
       "issue_d                                            2\n",
       "loan_status                                        2\n",
       "pymnt_plan                                         2\n",
       "url                                           133889\n",
       "desc                                          133879\n",
       "purpose                                            2\n",
       "title                                          10623\n",
       "zip_code                                           2\n",
       "addr_state                                         2\n",
       "dti                                               19\n",
       "delinq_2yrs                                        2\n",
       "earliest_cr_line                                   2\n",
       "inq_last_6mths                                     3\n",
       "mths_since_last_delinq                         64567\n",
       "mths_since_last_record                        110218\n",
       "                                               ...  \n",
       "sec_app_open_acc                              133889\n",
       "sec_app_revol_util                            133889\n",
       "sec_app_open_act_il                           133889\n",
       "sec_app_num_rev_accts                         133889\n",
       "sec_app_chargeoff_within_12_mths              133889\n",
       "sec_app_collections_12_mths_ex_med            133889\n",
       "sec_app_mths_since_last_major_derog           133889\n",
       "hardship_flag                                      2\n",
       "hardship_type                                 132937\n",
       "hardship_reason                               132937\n",
       "hardship_status                               132937\n",
       "deferral_term                                 132937\n",
       "hardship_amount                               132937\n",
       "hardship_start_date                           132937\n",
       "hardship_end_date                             132937\n",
       "payment_plan_start_date                       132937\n",
       "hardship_length                               132937\n",
       "hardship_dpd                                  132937\n",
       "hardship_loan_status                          132937\n",
       "orig_projected_additional_accrued_interest    133143\n",
       "hardship_payoff_balance_amount                132937\n",
       "hardship_last_payment_amount                  132937\n",
       "disbursement_method                                2\n",
       "debt_settlement_flag                               2\n",
       "debt_settlement_flag_date                     132015\n",
       "settlement_status                             132015\n",
       "settlement_date                               132015\n",
       "settlement_amount                             132015\n",
       "settlement_percentage                         132015\n",
       "settlement_term                               132015\n",
       "Length: 145, dtype: int64"
      ]
     },
     "execution_count": 5,
     "metadata": {},
     "output_type": "execute_result"
    }
   ],
   "source": [
    "#Checking null values in the dataset\n",
    "df.isnull().sum()"
   ]
  },
  {
   "cell_type": "code",
   "execution_count": 6,
   "metadata": {},
   "outputs": [
    {
     "data": {
      "text/plain": [
       "(133889, 145)"
      ]
     },
     "execution_count": 6,
     "metadata": {},
     "output_type": "execute_result"
    }
   ],
   "source": [
    "df.shape"
   ]
  },
  {
   "cell_type": "code",
   "execution_count": 29,
   "metadata": {},
   "outputs": [
    {
     "data": {
      "text/plain": [
       "0         140xx\n",
       "1         773xx\n",
       "2         913xx\n",
       "3         481xx\n",
       "4         871xx\n",
       "5         206xx\n",
       "6         478xx\n",
       "7         581xx\n",
       "8         325xx\n",
       "9         761xx\n",
       "10        743xx\n",
       "11        871xx\n",
       "12        100xx\n",
       "13        952xx\n",
       "14        551xx\n",
       "15        850xx\n",
       "16        211xx\n",
       "17        900xx\n",
       "18        656xx\n",
       "19        851xx\n",
       "20        334xx\n",
       "21        740xx\n",
       "22        299xx\n",
       "23        760xx\n",
       "24        370xx\n",
       "25        330xx\n",
       "26        945xx\n",
       "27        554xx\n",
       "28        300xx\n",
       "29        326xx\n",
       "          ...  \n",
       "133859    075xx\n",
       "133860    430xx\n",
       "133861    623xx\n",
       "133862    906xx\n",
       "133863    198xx\n",
       "133864    119xx\n",
       "133865    472xx\n",
       "133866    328xx\n",
       "133867    941xx\n",
       "133868    291xx\n",
       "133869    925xx\n",
       "133870    331xx\n",
       "133871    228xx\n",
       "133872    551xx\n",
       "133873    292xx\n",
       "133874    622xx\n",
       "133875    672xx\n",
       "133876    751xx\n",
       "133877    104xx\n",
       "133878    302xx\n",
       "133879    293xx\n",
       "133880    554xx\n",
       "133881    926xx\n",
       "133882    600xx\n",
       "133883    432xx\n",
       "133884    531xx\n",
       "133885    212xx\n",
       "133886    201xx\n",
       "133887     None\n",
       "133888     None\n",
       "Name: zip_code, Length: 133889, dtype: object"
      ]
     },
     "execution_count": 29,
     "metadata": {},
     "output_type": "execute_result"
    }
   ],
   "source": [
    "df.zip_code"
   ]
  },
  {
   "cell_type": "code",
   "execution_count": 25,
   "metadata": {},
   "outputs": [],
   "source": [
    "# loc_df = pd.DataFrame()\n",
    "# from pyzipcode import ZipCodeDatabase\n",
    "# zcdb = ZipCodeDatabase() "
   ]
  },
  {
   "cell_type": "code",
   "execution_count": 28,
   "metadata": {},
   "outputs": [
    {
     "ename": "IndexError",
     "evalue": "Couldn't find ZIP",
     "output_type": "error",
     "traceback": [
      "\u001b[0;31m---------------------------------------------------------------------------\u001b[0m",
      "\u001b[0;31mIndexError\u001b[0m                                Traceback (most recent call last)",
      "\u001b[0;32m<ipython-input-28-1bc780f96f66>\u001b[0m in \u001b[0;36m<module>\u001b[0;34m()\u001b[0m\n\u001b[1;32m      1\u001b[0m \u001b[0;32mfor\u001b[0m \u001b[0mindex\u001b[0m\u001b[0;34m,\u001b[0m \u001b[0mrows\u001b[0m \u001b[0;32min\u001b[0m \u001b[0mdf\u001b[0m\u001b[0;34m.\u001b[0m\u001b[0miterrows\u001b[0m\u001b[0;34m(\u001b[0m\u001b[0;34m)\u001b[0m\u001b[0;34m:\u001b[0m\u001b[0;34m\u001b[0m\u001b[0m\n\u001b[1;32m      2\u001b[0m     \u001b[0mval\u001b[0m \u001b[0;34m=\u001b[0m \u001b[0mrows\u001b[0m\u001b[0;34m[\u001b[0m\u001b[0;34m'zip_code'\u001b[0m\u001b[0;34m]\u001b[0m\u001b[0;34m\u001b[0m\u001b[0m\n\u001b[0;32m----> 3\u001b[0;31m     \u001b[0mzipcode\u001b[0m \u001b[0;34m=\u001b[0m \u001b[0mzcdb\u001b[0m\u001b[0;34m[\u001b[0m\u001b[0mval\u001b[0m\u001b[0;34m]\u001b[0m\u001b[0;34m\u001b[0m\u001b[0m\n\u001b[0m\u001b[1;32m      4\u001b[0m     \u001b[0mloc_df\u001b[0m\u001b[0;34m[\u001b[0m\u001b[0;34m'longitude'\u001b[0m\u001b[0;34m]\u001b[0m \u001b[0;34m=\u001b[0m \u001b[0mzipcode\u001b[0m\u001b[0;34m.\u001b[0m\u001b[0mlongitude\u001b[0m\u001b[0;34m\u001b[0m\u001b[0m\n\u001b[1;32m      5\u001b[0m     \u001b[0mloc_df\u001b[0m\u001b[0;34m[\u001b[0m\u001b[0;34m'latitude'\u001b[0m\u001b[0;34m]\u001b[0m \u001b[0;34m=\u001b[0m \u001b[0mzipcode\u001b[0m\u001b[0;34m.\u001b[0m\u001b[0mlatitude\u001b[0m\u001b[0;34m\u001b[0m\u001b[0m\n",
      "\u001b[0;32m/anaconda3/lib/python3.6/site-packages/pyzipcode/__init__.py\u001b[0m in \u001b[0;36m__getitem__\u001b[0;34m(self, zip_code)\u001b[0m\n\u001b[1;32m    108\u001b[0m         \u001b[0mzip_code\u001b[0m \u001b[0;34m=\u001b[0m \u001b[0mself\u001b[0m\u001b[0;34m.\u001b[0m\u001b[0mget\u001b[0m\u001b[0;34m(\u001b[0m\u001b[0mstr\u001b[0m\u001b[0;34m(\u001b[0m\u001b[0mzip_code\u001b[0m\u001b[0;34m)\u001b[0m\u001b[0;34m)\u001b[0m\u001b[0;34m\u001b[0m\u001b[0m\n\u001b[1;32m    109\u001b[0m         \u001b[0;32mif\u001b[0m \u001b[0mzip_code\u001b[0m \u001b[0;32mis\u001b[0m \u001b[0;32mNone\u001b[0m\u001b[0;34m:\u001b[0m\u001b[0;34m\u001b[0m\u001b[0m\n\u001b[0;32m--> 110\u001b[0;31m             \u001b[0;32mraise\u001b[0m \u001b[0mIndexError\u001b[0m\u001b[0;34m(\u001b[0m\u001b[0;34m\"Couldn't find ZIP\"\u001b[0m\u001b[0;34m)\u001b[0m\u001b[0;34m\u001b[0m\u001b[0m\n\u001b[0m\u001b[1;32m    111\u001b[0m         \u001b[0;32melse\u001b[0m\u001b[0;34m:\u001b[0m\u001b[0;34m\u001b[0m\u001b[0m\n\u001b[1;32m    112\u001b[0m             \u001b[0;32mreturn\u001b[0m \u001b[0mzip_code\u001b[0m\u001b[0;34m[\u001b[0m\u001b[0;36m0\u001b[0m\u001b[0;34m]\u001b[0m\u001b[0;34m\u001b[0m\u001b[0m\n",
      "\u001b[0;31mIndexError\u001b[0m: Couldn't find ZIP"
     ]
    }
   ],
   "source": [
    "# for index, rows in df.iterrows():\n",
    "#     val = rows['zip_code']\n",
    "#     zipcode = zcdb[val]\n",
    "#     loc_df['longitude'] = zipcode.longitude\n",
    "#     loc_df['latitude'] = zipcode.latitude"
   ]
  },
  {
   "cell_type": "code",
   "execution_count": 9,
   "metadata": {},
   "outputs": [],
   "source": [
    "df_select = df[['loan_amnt', 'term', 'int_rate', 'installment', 'grade', 'home_ownership'\n",
    "              , 'annual_inc', 'verification_status', 'issue_d', 'loan_status', 'pymnt_plan', 'purpose','zip_code'\n",
    "              , 'addr_state']]"
   ]
  },
  {
   "cell_type": "code",
   "execution_count": 10,
   "metadata": {},
   "outputs": [
    {
     "data": {
      "text/html": [
       "<div>\n",
       "<style scoped>\n",
       "    .dataframe tbody tr th:only-of-type {\n",
       "        vertical-align: middle;\n",
       "    }\n",
       "\n",
       "    .dataframe tbody tr th {\n",
       "        vertical-align: top;\n",
       "    }\n",
       "\n",
       "    .dataframe thead th {\n",
       "        text-align: right;\n",
       "    }\n",
       "</style>\n",
       "<table border=\"1\" class=\"dataframe\">\n",
       "  <thead>\n",
       "    <tr style=\"text-align: right;\">\n",
       "      <th></th>\n",
       "      <th>loan_amnt</th>\n",
       "      <th>term</th>\n",
       "      <th>int_rate</th>\n",
       "      <th>installment</th>\n",
       "      <th>grade</th>\n",
       "      <th>home_ownership</th>\n",
       "      <th>annual_inc</th>\n",
       "      <th>verification_status</th>\n",
       "      <th>issue_d</th>\n",
       "      <th>loan_status</th>\n",
       "      <th>pymnt_plan</th>\n",
       "      <th>purpose</th>\n",
       "      <th>zip_code</th>\n",
       "      <th>addr_state</th>\n",
       "    </tr>\n",
       "  </thead>\n",
       "  <tbody>\n",
       "    <tr>\n",
       "      <th>0</th>\n",
       "      <td>34000.0</td>\n",
       "      <td>60 months</td>\n",
       "      <td>15.31%</td>\n",
       "      <td>814.41</td>\n",
       "      <td>C</td>\n",
       "      <td>MORTGAGE</td>\n",
       "      <td>150000.0</td>\n",
       "      <td>Source Verified</td>\n",
       "      <td>Mar-2016</td>\n",
       "      <td>Current</td>\n",
       "      <td>n</td>\n",
       "      <td>debt_consolidation</td>\n",
       "      <td>140xx</td>\n",
       "      <td>NY</td>\n",
       "    </tr>\n",
       "    <tr>\n",
       "      <th>1</th>\n",
       "      <td>12200.0</td>\n",
       "      <td>60 months</td>\n",
       "      <td>11.47%</td>\n",
       "      <td>268.13</td>\n",
       "      <td>B</td>\n",
       "      <td>RENT</td>\n",
       "      <td>90000.0</td>\n",
       "      <td>Verified</td>\n",
       "      <td>Mar-2016</td>\n",
       "      <td>Current</td>\n",
       "      <td>n</td>\n",
       "      <td>debt_consolidation</td>\n",
       "      <td>773xx</td>\n",
       "      <td>TX</td>\n",
       "    </tr>\n",
       "    <tr>\n",
       "      <th>2</th>\n",
       "      <td>10000.0</td>\n",
       "      <td>36 months</td>\n",
       "      <td>11.47%</td>\n",
       "      <td>329.62</td>\n",
       "      <td>B</td>\n",
       "      <td>RENT</td>\n",
       "      <td>35000.0</td>\n",
       "      <td>Source Verified</td>\n",
       "      <td>Mar-2016</td>\n",
       "      <td>Current</td>\n",
       "      <td>n</td>\n",
       "      <td>other</td>\n",
       "      <td>913xx</td>\n",
       "      <td>CA</td>\n",
       "    </tr>\n",
       "    <tr>\n",
       "      <th>3</th>\n",
       "      <td>21000.0</td>\n",
       "      <td>36 months</td>\n",
       "      <td>11.47%</td>\n",
       "      <td>692.20</td>\n",
       "      <td>B</td>\n",
       "      <td>MORTGAGE</td>\n",
       "      <td>175000.0</td>\n",
       "      <td>Not Verified</td>\n",
       "      <td>Mar-2016</td>\n",
       "      <td>Current</td>\n",
       "      <td>n</td>\n",
       "      <td>home_improvement</td>\n",
       "      <td>481xx</td>\n",
       "      <td>MI</td>\n",
       "    </tr>\n",
       "    <tr>\n",
       "      <th>4</th>\n",
       "      <td>35000.0</td>\n",
       "      <td>60 months</td>\n",
       "      <td>21.18%</td>\n",
       "      <td>950.42</td>\n",
       "      <td>E</td>\n",
       "      <td>MORTGAGE</td>\n",
       "      <td>195000.0</td>\n",
       "      <td>Verified</td>\n",
       "      <td>Mar-2016</td>\n",
       "      <td>Fully Paid</td>\n",
       "      <td>n</td>\n",
       "      <td>debt_consolidation</td>\n",
       "      <td>871xx</td>\n",
       "      <td>NM</td>\n",
       "    </tr>\n",
       "  </tbody>\n",
       "</table>\n",
       "</div>"
      ],
      "text/plain": [
       "   loan_amnt        term int_rate  installment grade home_ownership  \\\n",
       "0    34000.0   60 months   15.31%       814.41     C       MORTGAGE   \n",
       "1    12200.0   60 months   11.47%       268.13     B           RENT   \n",
       "2    10000.0   36 months   11.47%       329.62     B           RENT   \n",
       "3    21000.0   36 months   11.47%       692.20     B       MORTGAGE   \n",
       "4    35000.0   60 months   21.18%       950.42     E       MORTGAGE   \n",
       "\n",
       "   annual_inc verification_status   issue_d loan_status pymnt_plan  \\\n",
       "0    150000.0     Source Verified  Mar-2016     Current          n   \n",
       "1     90000.0            Verified  Mar-2016     Current          n   \n",
       "2     35000.0     Source Verified  Mar-2016     Current          n   \n",
       "3    175000.0        Not Verified  Mar-2016     Current          n   \n",
       "4    195000.0            Verified  Mar-2016  Fully Paid          n   \n",
       "\n",
       "              purpose zip_code addr_state  \n",
       "0  debt_consolidation    140xx         NY  \n",
       "1  debt_consolidation    773xx         TX  \n",
       "2               other    913xx         CA  \n",
       "3    home_improvement    481xx         MI  \n",
       "4  debt_consolidation    871xx         NM  "
      ]
     },
     "execution_count": 10,
     "metadata": {},
     "output_type": "execute_result"
    }
   ],
   "source": [
    "df_select.head()"
   ]
  },
  {
   "cell_type": "code",
   "execution_count": 9,
   "metadata": {},
   "outputs": [
    {
     "data": {
      "text/plain": [
       "(133889, 16)"
      ]
     },
     "execution_count": 9,
     "metadata": {},
     "output_type": "execute_result"
    }
   ],
   "source": [
    "df_select.shape"
   ]
  },
  {
   "cell_type": "code",
   "execution_count": 11,
   "metadata": {},
   "outputs": [
    {
     "data": {
      "text/plain": [
       "loan_amnt              2\n",
       "term                   2\n",
       "int_rate               2\n",
       "installment            2\n",
       "grade                  2\n",
       "home_ownership         2\n",
       "annual_inc             2\n",
       "verification_status    2\n",
       "issue_d                2\n",
       "loan_status            2\n",
       "pymnt_plan             2\n",
       "purpose                2\n",
       "zip_code               2\n",
       "addr_state             2\n",
       "dtype: int64"
      ]
     },
     "execution_count": 11,
     "metadata": {},
     "output_type": "execute_result"
    }
   ],
   "source": [
    "df_select.isnull().sum()"
   ]
  },
  {
   "cell_type": "code",
   "execution_count": 12,
   "metadata": {},
   "outputs": [],
   "source": [
    "df_select = df_select.dropna()"
   ]
  },
  {
   "cell_type": "code",
   "execution_count": 13,
   "metadata": {},
   "outputs": [
    {
     "data": {
      "text/plain": [
       "(133887, 14)"
      ]
     },
     "execution_count": 13,
     "metadata": {},
     "output_type": "execute_result"
    }
   ],
   "source": [
    "df_select.shape"
   ]
  },
  {
   "cell_type": "code",
   "execution_count": 14,
   "metadata": {},
   "outputs": [
    {
     "data": {
      "text/plain": [
       "loan_amnt              0\n",
       "term                   0\n",
       "int_rate               0\n",
       "installment            0\n",
       "grade                  0\n",
       "home_ownership         0\n",
       "annual_inc             0\n",
       "verification_status    0\n",
       "issue_d                0\n",
       "loan_status            0\n",
       "pymnt_plan             0\n",
       "purpose                0\n",
       "zip_code               0\n",
       "addr_state             0\n",
       "dtype: int64"
      ]
     },
     "execution_count": 14,
     "metadata": {},
     "output_type": "execute_result"
    }
   ],
   "source": [
    "df_select.isnull().sum()"
   ]
  },
  {
   "cell_type": "markdown",
   "metadata": {},
   "source": [
    "# Basic Data Exploration "
   ]
  },
  {
   "cell_type": "markdown",
   "metadata": {},
   "source": [
    "# 1. Exploring the field \"term\" which indicates the number of payments on the loan. Values are in months and can be either 36 or 60."
   ]
  },
  {
   "cell_type": "code",
   "execution_count": 15,
   "metadata": {},
   "outputs": [
    {
     "data": {
      "text/plain": [
       " 36 months    96120\n",
       " 60 months    37767\n",
       "Name: term, dtype: int64"
      ]
     },
     "execution_count": 15,
     "metadata": {},
     "output_type": "execute_result"
    }
   ],
   "source": [
    "df_select['term'].value_counts()"
   ]
  },
  {
   "cell_type": "code",
   "execution_count": 18,
   "metadata": {},
   "outputs": [
    {
     "data": {
      "text/plain": [
       "Text(0,0.5,'Frequency')"
      ]
     },
     "execution_count": 18,
     "metadata": {},
     "output_type": "execute_result"
    },
    {
     "data": {
      "image/png": "[encoded data removed]",
      "text/plain": [
       "<matplotlib.figure.Figure at 0x10ca69c88>"
      ]
     },
     "metadata": {},
     "output_type": "display_data"
    }
   ],
   "source": [
    "df_select['term'].value_counts().plot(kind='bar', rot=0, figsize = (12,8))\n",
    "plt.title('Term')\n",
    "plt.xlabel('Installment Term Length')\n",
    "plt.ylabel('Frequency')"
   ]
  },
  {
   "cell_type": "markdown",
   "metadata": {},
   "source": [
    "# 2. Loan Amount: The listed amount of the loan applied for by the borrower. If at some point in time, the credit department reduces the loan amount, then it will be reflected in this value."
   ]
  },
  {
   "cell_type": "code",
   "execution_count": 19,
   "metadata": {},
   "outputs": [
    {
     "data": {
      "text/plain": [
       "count    133887.000000\n",
       "mean      15589.394041\n",
       "std        8858.198349\n",
       "min        1000.000000\n",
       "25%        8400.000000\n",
       "50%       14400.000000\n",
       "75%       21000.000000\n",
       "max       40000.000000\n",
       "Name: loan_amnt, dtype: float64"
      ]
     },
     "execution_count": 19,
     "metadata": {},
     "output_type": "execute_result"
    }
   ],
   "source": [
    "df_select['loan_amnt'].describe()"
   ]
  },
  {
   "cell_type": "code",
   "execution_count": 20,
   "metadata": {},
   "outputs": [
    {
     "data": {
      "text/plain": [
       "Text(0,0.5,'Frequency')"
      ]
     },
     "execution_count": 20,
     "metadata": {},
     "output_type": "execute_result"
    },
    {
     "data": {
      "image/png": "[encoded data removed]",
      "text/plain": [
       "<matplotlib.figure.Figure at 0x10ca7bcc0>"
      ]
     },
     "metadata": {},
     "output_type": "display_data"
    }
   ],
   "source": [
    "df_select['loan_amnt'].plot(kind='hist')\n",
    "#df_select.hist(column='loan_amnt', bins=50)\n",
    "plt.title('Loan Amount Histogram')\n",
    "plt.xlabel('Loan Amount')\n",
    "plt.ylabel('Frequency')"
   ]
  },
  {
   "cell_type": "code",
   "execution_count": 21,
   "metadata": {},
   "outputs": [
    {
     "data": {
      "text/plain": [
       "Text(0.5,1,'Loan Amount Boxplot')"
      ]
     },
     "execution_count": 21,
     "metadata": {},
     "output_type": "execute_result"
    },
    {
     "data": {
      "image/png": "[encoded data removed]",
      "text/plain": [
       "<matplotlib.figure.Figure at 0x10ca83b70>"
      ]
     },
     "metadata": {},
     "output_type": "display_data"
    }
   ],
   "source": [
    "# Create a figure instance\n",
    "fig = plt.figure(1, figsize=(9, 6))\n",
    "\n",
    "# Create an axes instance\n",
    "ax = fig.add_subplot(111)\n",
    "\n",
    "# Create the boxplot\n",
    "bp = ax.boxplot(df_select['loan_amnt'])\n",
    "\n",
    "plt.title('Loan Amount Boxplot')"
   ]
  },
  {
   "cell_type": "code",
   "execution_count": 22,
   "metadata": {},
   "outputs": [],
   "source": [
    "df_box = df_select[['loan_amnt','installment', 'annual_inc']]"
   ]
  },
  {
   "cell_type": "code",
   "execution_count": 23,
   "metadata": {},
   "outputs": [
    {
     "data": {
      "text/plain": [
       "<matplotlib.axes._subplots.AxesSubplot at 0x10ca9d2b0>"
      ]
     },
     "execution_count": 23,
     "metadata": {},
     "output_type": "execute_result"
    },
    {
     "data": {
      "image/png": "[encoded data removed]",
      "text/plain": [
       "<matplotlib.figure.Figure at 0x10ca96ac8>"
      ]
     },
     "metadata": {},
     "output_type": "display_data"
    }
   ],
   "source": [
    "df_box.plot(kind = \"box\", figsize = (12,8))"
   ]
  },
  {
   "cell_type": "code",
   "execution_count": 24,
   "metadata": {},
   "outputs": [
    {
     "data": {
      "text/plain": [
       "array([[<matplotlib.axes._subplots.AxesSubplot object at 0x10caa3470>,\n",
       "        <matplotlib.axes._subplots.AxesSubplot object at 0x10cac0588>],\n",
       "       [<matplotlib.axes._subplots.AxesSubplot object at 0x10caca278>,\n",
       "        <matplotlib.axes._subplots.AxesSubplot object at 0x10cad4e80>]],\n",
       "      dtype=object)"
      ]
     },
     "execution_count": 24,
     "metadata": {},
     "output_type": "execute_result"
    },
    {
     "data": {
      "image/png": "[encoded data removed]",
      "text/plain": [
       "<matplotlib.figure.Figure at 0x10caa4a58>"
      ]
     },
     "metadata": {},
     "output_type": "display_data"
    }
   ],
   "source": [
    "df_box.hist(figsize = (12,8))"
   ]
  },
  {
   "cell_type": "markdown",
   "metadata": {},
   "source": [
    "# Exploring the int_rate field. However, before we do any data exploration, we need to remove the % sign from the field values"
   ]
  },
  {
   "cell_type": "code",
   "execution_count": 25,
   "metadata": {},
   "outputs": [],
   "source": [
    "df_select['int_rate'] = df_select['int_rate'].str.replace('%', '')"
   ]
  },
  {
   "cell_type": "code",
   "execution_count": 26,
   "metadata": {},
   "outputs": [
    {
     "data": {
      "text/html": [
       "<div>\n",
       "<style scoped>\n",
       "    .dataframe tbody tr th:only-of-type {\n",
       "        vertical-align: middle;\n",
       "    }\n",
       "\n",
       "    .dataframe tbody tr th {\n",
       "        vertical-align: top;\n",
       "    }\n",
       "\n",
       "    .dataframe thead th {\n",
       "        text-align: right;\n",
       "    }\n",
       "</style>\n",
       "<table border=\"1\" class=\"dataframe\">\n",
       "  <thead>\n",
       "    <tr style=\"text-align: right;\">\n",
       "      <th></th>\n",
       "      <th>loan_amnt</th>\n",
       "      <th>term</th>\n",
       "      <th>int_rate</th>\n",
       "      <th>installment</th>\n",
       "      <th>grade</th>\n",
       "      <th>home_ownership</th>\n",
       "      <th>annual_inc</th>\n",
       "      <th>verification_status</th>\n",
       "      <th>issue_d</th>\n",
       "      <th>loan_status</th>\n",
       "      <th>pymnt_plan</th>\n",
       "      <th>purpose</th>\n",
       "      <th>zip_code</th>\n",
       "      <th>addr_state</th>\n",
       "    </tr>\n",
       "  </thead>\n",
       "  <tbody>\n",
       "    <tr>\n",
       "      <th>0</th>\n",
       "      <td>34000.0</td>\n",
       "      <td>60 months</td>\n",
       "      <td>15.31</td>\n",
       "      <td>814.41</td>\n",
       "      <td>C</td>\n",
       "      <td>MORTGAGE</td>\n",
       "      <td>150000.0</td>\n",
       "      <td>Source Verified</td>\n",
       "      <td>Mar-2016</td>\n",
       "      <td>Current</td>\n",
       "      <td>n</td>\n",
       "      <td>debt_consolidation</td>\n",
       "      <td>140xx</td>\n",
       "      <td>NY</td>\n",
       "    </tr>\n",
       "    <tr>\n",
       "      <th>1</th>\n",
       "      <td>12200.0</td>\n",
       "      <td>60 months</td>\n",
       "      <td>11.47</td>\n",
       "      <td>268.13</td>\n",
       "      <td>B</td>\n",
       "      <td>RENT</td>\n",
       "      <td>90000.0</td>\n",
       "      <td>Verified</td>\n",
       "      <td>Mar-2016</td>\n",
       "      <td>Current</td>\n",
       "      <td>n</td>\n",
       "      <td>debt_consolidation</td>\n",
       "      <td>773xx</td>\n",
       "      <td>TX</td>\n",
       "    </tr>\n",
       "    <tr>\n",
       "      <th>2</th>\n",
       "      <td>10000.0</td>\n",
       "      <td>36 months</td>\n",
       "      <td>11.47</td>\n",
       "      <td>329.62</td>\n",
       "      <td>B</td>\n",
       "      <td>RENT</td>\n",
       "      <td>35000.0</td>\n",
       "      <td>Source Verified</td>\n",
       "      <td>Mar-2016</td>\n",
       "      <td>Current</td>\n",
       "      <td>n</td>\n",
       "      <td>other</td>\n",
       "      <td>913xx</td>\n",
       "      <td>CA</td>\n",
       "    </tr>\n",
       "    <tr>\n",
       "      <th>3</th>\n",
       "      <td>21000.0</td>\n",
       "      <td>36 months</td>\n",
       "      <td>11.47</td>\n",
       "      <td>692.20</td>\n",
       "      <td>B</td>\n",
       "      <td>MORTGAGE</td>\n",
       "      <td>175000.0</td>\n",
       "      <td>Not Verified</td>\n",
       "      <td>Mar-2016</td>\n",
       "      <td>Current</td>\n",
       "      <td>n</td>\n",
       "      <td>home_improvement</td>\n",
       "      <td>481xx</td>\n",
       "      <td>MI</td>\n",
       "    </tr>\n",
       "    <tr>\n",
       "      <th>4</th>\n",
       "      <td>35000.0</td>\n",
       "      <td>60 months</td>\n",
       "      <td>21.18</td>\n",
       "      <td>950.42</td>\n",
       "      <td>E</td>\n",
       "      <td>MORTGAGE</td>\n",
       "      <td>195000.0</td>\n",
       "      <td>Verified</td>\n",
       "      <td>Mar-2016</td>\n",
       "      <td>Fully Paid</td>\n",
       "      <td>n</td>\n",
       "      <td>debt_consolidation</td>\n",
       "      <td>871xx</td>\n",
       "      <td>NM</td>\n",
       "    </tr>\n",
       "  </tbody>\n",
       "</table>\n",
       "</div>"
      ],
      "text/plain": [
       "   loan_amnt        term int_rate  installment grade home_ownership  \\\n",
       "0    34000.0   60 months    15.31       814.41     C       MORTGAGE   \n",
       "1    12200.0   60 months    11.47       268.13     B           RENT   \n",
       "2    10000.0   36 months    11.47       329.62     B           RENT   \n",
       "3    21000.0   36 months    11.47       692.20     B       MORTGAGE   \n",
       "4    35000.0   60 months    21.18       950.42     E       MORTGAGE   \n",
       "\n",
       "   annual_inc verification_status   issue_d loan_status pymnt_plan  \\\n",
       "0    150000.0     Source Verified  Mar-2016     Current          n   \n",
       "1     90000.0            Verified  Mar-2016     Current          n   \n",
       "2     35000.0     Source Verified  Mar-2016     Current          n   \n",
       "3    175000.0        Not Verified  Mar-2016     Current          n   \n",
       "4    195000.0            Verified  Mar-2016  Fully Paid          n   \n",
       "\n",
       "              purpose zip_code addr_state  \n",
       "0  debt_consolidation    140xx         NY  \n",
       "1  debt_consolidation    773xx         TX  \n",
       "2               other    913xx         CA  \n",
       "3    home_improvement    481xx         MI  \n",
       "4  debt_consolidation    871xx         NM  "
      ]
     },
     "execution_count": 26,
     "metadata": {},
     "output_type": "execute_result"
    }
   ],
   "source": [
    "df_select.head()"
   ]
  },
  {
   "cell_type": "code",
   "execution_count": 27,
   "metadata": {},
   "outputs": [],
   "source": [
    "df_select['int_rate'] = (df_select['int_rate']).astype(float)"
   ]
  },
  {
   "cell_type": "code",
   "execution_count": 28,
   "metadata": {},
   "outputs": [
    {
     "data": {
      "text/plain": [
       "Text(0.5,1,'Interest Rate Boxplot')"
      ]
     },
     "execution_count": 28,
     "metadata": {},
     "output_type": "execute_result"
    },
    {
     "data": {
      "image/png": "[encoded data removed]",
      "text/plain": [
       "<matplotlib.figure.Figure at 0x10cab8898>"
      ]
     },
     "metadata": {},
     "output_type": "display_data"
    }
   ],
   "source": [
    "df_select.int_rate.plot(kind = \"box\", figsize = (12,8))\n",
    "plt.title('Interest Rate Boxplot')"
   ]
  },
  {
   "cell_type": "code",
   "execution_count": 29,
   "metadata": {},
   "outputs": [
    {
     "data": {
      "text/plain": [
       "count    133887.000000\n",
       "mean         12.476342\n",
       "std           4.829203\n",
       "min           5.320000\n",
       "25%           8.490000\n",
       "50%          11.990000\n",
       "75%          15.310000\n",
       "max          28.990000\n",
       "Name: int_rate, dtype: float64"
      ]
     },
     "execution_count": 29,
     "metadata": {},
     "output_type": "execute_result"
    }
   ],
   "source": [
    "df_select['int_rate'].describe()"
   ]
  },
  {
   "cell_type": "code",
   "execution_count": 30,
   "metadata": {},
   "outputs": [
    {
     "data": {
      "text/plain": [
       "6.82"
      ]
     },
     "execution_count": 30,
     "metadata": {},
     "output_type": "execute_result"
    }
   ],
   "source": [
    "from scipy.stats import iqr\n",
    "\n",
    "iqr(df_select['int_rate'])"
   ]
  },
  {
   "cell_type": "code",
   "execution_count": 31,
   "metadata": {},
   "outputs": [
    {
     "data": {
      "text/plain": [
       "Text(0,0.5,'Frequency')"
      ]
     },
     "execution_count": 31,
     "metadata": {},
     "output_type": "execute_result"
    },
    {
     "data": {
      "image/png": "[encoded data removed]",
      "text/plain": [
       "<matplotlib.figure.Figure at 0x10cb02630>"
      ]
     },
     "metadata": {},
     "output_type": "display_data"
    }
   ],
   "source": [
    "df_select['int_rate'].plot(kind='hist')\n",
    "plt.title('Interest Rate Histogram')\n",
    "plt.xlabel('Interest Rate')\n",
    "plt.ylabel('Frequency')"
   ]
  },
  {
   "cell_type": "markdown",
   "metadata": {},
   "source": [
    "# Exploring the categorical variable \"Grade\". This indicates the LC assigned loan grade."
   ]
  },
  {
   "cell_type": "code",
   "execution_count": 33,
   "metadata": {},
   "outputs": [
    {
     "data": {
      "text/plain": [
       "B    40267\n",
       "C    36777\n",
       "A    26482\n",
       "D    16454\n",
       "E     9540\n",
       "F     3482\n",
       "G      885\n",
       "Name: grade, dtype: int64"
      ]
     },
     "execution_count": 33,
     "metadata": {},
     "output_type": "execute_result"
    }
   ],
   "source": [
    "df_select['grade'].value_counts()"
   ]
  },
  {
   "cell_type": "code",
   "execution_count": 32,
   "metadata": {},
   "outputs": [
    {
     "data": {
      "text/plain": [
       "Text(0,0.5,'Frequency')"
      ]
     },
     "execution_count": 32,
     "metadata": {},
     "output_type": "execute_result"
    },
    {
     "data": {
      "image/png": "[encoded data removed]",
      "text/plain": [
       "<matplotlib.figure.Figure at 0x1132aca58>"
      ]
     },
     "metadata": {},
     "output_type": "display_data"
    }
   ],
   "source": [
    "df_select['grade'].value_counts().plot(kind='bar', rot=0, figsize = (12,8))\n",
    "plt.title('Countplot for Loan Grade')\n",
    "plt.xlabel('Loan Grade')\n",
    "plt.ylabel('Frequency')"
   ]
  },
  {
   "cell_type": "markdown",
   "metadata": {},
   "source": [
    "# Exploring Home ownership. This indicates the LC assigned loan grade."
   ]
  },
  {
   "cell_type": "code",
   "execution_count": 34,
   "metadata": {},
   "outputs": [
    {
     "data": {
      "text/plain": [
       "MORTGAGE    66829\n",
       "RENT        50864\n",
       "OWN         16194\n",
       "Name: home_ownership, dtype: int64"
      ]
     },
     "execution_count": 34,
     "metadata": {},
     "output_type": "execute_result"
    }
   ],
   "source": [
    "df_select['home_ownership'].value_counts()"
   ]
  },
  {
   "cell_type": "code",
   "execution_count": 35,
   "metadata": {},
   "outputs": [
    {
     "data": {
      "text/plain": [
       "Text(0,0.5,'Frequency')"
      ]
     },
     "execution_count": 35,
     "metadata": {},
     "output_type": "execute_result"
    },
    {
     "data": {
      "image/png": "[encoded data removed]",
      "text/plain": [
       "<matplotlib.figure.Figure at 0x1133a2a20>"
      ]
     },
     "metadata": {},
     "output_type": "display_data"
    }
   ],
   "source": [
    "df_select['home_ownership'].value_counts().plot(kind='bar', rot=0, figsize = (12,8))\n",
    "plt.title('Frequancy Plot for Home Ownership Status')\n",
    "plt.xlabel('Home Ownership Status')\n",
    "plt.ylabel('Frequency')"
   ]
  },
  {
   "cell_type": "markdown",
   "metadata": {},
   "source": [
    "# Annual Income. This indicates the self-reported annual income provided by the borrower during registration."
   ]
  },
  {
   "cell_type": "code",
   "execution_count": 39,
   "metadata": {},
   "outputs": [],
   "source": [
    "pd.set_option('display.float_format', lambda x: '%.3f' % x)"
   ]
  },
  {
   "cell_type": "code",
   "execution_count": 40,
   "metadata": {},
   "outputs": [
    {
     "data": {
      "text/plain": [
       "count   133887.000\n",
       "mean        80.464\n",
       "std         78.085\n",
       "min          0.000\n",
       "25%         49.500\n",
       "50%         68.000\n",
       "75%         95.008\n",
       "max       9550.000\n",
       "Name: annual_inc, dtype: float64"
      ]
     },
     "execution_count": 40,
     "metadata": {},
     "output_type": "execute_result"
    }
   ],
   "source": [
    "df_select['annual_inc'].describe()"
   ]
  },
  {
   "cell_type": "markdown",
   "metadata": {},
   "source": [
    "Since the above numbers are hard to interpret, I have changed the scale of annual income and divided each value by 1000."
   ]
  },
  {
   "cell_type": "code",
   "execution_count": 37,
   "metadata": {},
   "outputs": [],
   "source": [
    "#df_select['annual_inc'] = df_select['annual_inc']/1000"
   ]
  },
  {
   "cell_type": "code",
   "execution_count": 38,
   "metadata": {},
   "outputs": [
    {
     "data": {
      "text/plain": [
       "count    133887.000000\n",
       "mean         80.463967\n",
       "std          78.084782\n",
       "min           0.000000\n",
       "25%          49.500000\n",
       "50%          68.000000\n",
       "75%          95.008000\n",
       "max        9550.000000\n",
       "Name: annual_inc, dtype: float64"
      ]
     },
     "execution_count": 38,
     "metadata": {},
     "output_type": "execute_result"
    }
   ],
   "source": [
    "#df_select['annual_inc'].describe()"
   ]
  },
  {
   "cell_type": "code",
   "execution_count": 41,
   "metadata": {},
   "outputs": [
    {
     "data": {
      "text/plain": [
       "Text(0.5,1,'Annual Income Boxplot')"
      ]
     },
     "execution_count": 41,
     "metadata": {},
     "output_type": "execute_result"
    },
    {
     "data": {
      "image/png": "[encoded data removed]",
      "text/plain": [
       "<matplotlib.figure.Figure at 0x113afc898>"
      ]
     },
     "metadata": {},
     "output_type": "display_data"
    }
   ],
   "source": [
    "df_select.annual_inc.plot(kind = \"box\", figsize = (12,8))\n",
    "plt.title('Annual Income Boxplot')"
   ]
  },
  {
   "cell_type": "code",
   "execution_count": 42,
   "metadata": {},
   "outputs": [
    {
     "data": {
      "text/plain": [
       "Text(0,0.5,'Frequency')"
      ]
     },
     "execution_count": 42,
     "metadata": {},
     "output_type": "execute_result"
    },
    {
     "data": {
      "image/png": "[encoded data removed]",
      "text/plain": [
       "<matplotlib.figure.Figure at 0x113c2ae10>"
      ]
     },
     "metadata": {},
     "output_type": "display_data"
    }
   ],
   "source": [
    "df_select['annual_inc'].plot(kind='hist')\n",
    "plt.title('Annual Income Histogram')\n",
    "plt.xlabel('Annual Income')\n",
    "plt.ylabel('Frequency')"
   ]
  },
  {
   "cell_type": "markdown",
   "metadata": {},
   "source": [
    "# Verification Status: Indicates if the co-borrowers' joint income was verified by LC, not verified, or if the income source was verified"
   ]
  },
  {
   "cell_type": "code",
   "execution_count": 43,
   "metadata": {},
   "outputs": [
    {
     "data": {
      "text/plain": [
       "Source Verified    50425\n",
       "Not Verified       47100\n",
       "Verified           36362\n",
       "Name: verification_status, dtype: int64"
      ]
     },
     "execution_count": 43,
     "metadata": {},
     "output_type": "execute_result"
    }
   ],
   "source": [
    "df_select['verification_status'].value_counts()"
   ]
  },
  {
   "cell_type": "code",
   "execution_count": 44,
   "metadata": {},
   "outputs": [
    {
     "data": {
      "text/plain": [
       "Text(0,0.5,'Frequency')"
      ]
     },
     "execution_count": 44,
     "metadata": {},
     "output_type": "execute_result"
    },
    {
     "data": {
      "image/png": "[encoded data removed]",
      "text/plain": [
       "<matplotlib.figure.Figure at 0x113706d68>"
      ]
     },
     "metadata": {},
     "output_type": "display_data"
    }
   ],
   "source": [
    "df_select['verification_status'].value_counts().plot(kind='bar', rot=0, figsize = (12,8))\n",
    "plt.title('Frequancy Plot for Verification Status')\n",
    "plt.xlabel('Verification Status')\n",
    "plt.ylabel('Frequency')"
   ]
  },
  {
   "cell_type": "markdown",
   "metadata": {},
   "source": [
    "# issue_d : it indicates the issue date"
   ]
  },
  {
   "cell_type": "code",
   "execution_count": 46,
   "metadata": {},
   "outputs": [
    {
     "data": {
      "text/plain": [
       "<matplotlib.axes._subplots.AxesSubplot at 0x11332a2e8>"
      ]
     },
     "execution_count": 46,
     "metadata": {},
     "output_type": "execute_result"
    },
    {
     "data": {
      "image/png": "[encoded data removed]",
      "text/plain": [
       "<matplotlib.figure.Figure at 0x113dafdd8>"
      ]
     },
     "metadata": {},
     "output_type": "display_data"
    }
   ],
   "source": [
    "df_select['issue_d'].value_counts().plot(kind='pie')"
   ]
  },
  {
   "cell_type": "code",
   "execution_count": 48,
   "metadata": {},
   "outputs": [],
   "source": [
    "test_series = df_select['issue_d'].value_counts()"
   ]
  },
  {
   "cell_type": "code",
   "execution_count": 49,
   "metadata": {},
   "outputs": [
    {
     "data": {
      "text/plain": [
       "Mar-2016    61992\n",
       "Feb-2016    39529\n",
       "Jan-2016    32366\n",
       "Name: issue_d, dtype: int64"
      ]
     },
     "execution_count": 49,
     "metadata": {},
     "output_type": "execute_result"
    }
   ],
   "source": [
    "test_series"
   ]
  },
  {
   "cell_type": "code",
   "execution_count": 50,
   "metadata": {},
   "outputs": [],
   "source": [
    "df_test = test_series.to_frame(name=\"count\")"
   ]
  },
  {
   "cell_type": "code",
   "execution_count": 51,
   "metadata": {},
   "outputs": [
    {
     "data": {
      "text/html": [
       "<div>\n",
       "<style scoped>\n",
       "    .dataframe tbody tr th:only-of-type {\n",
       "        vertical-align: middle;\n",
       "    }\n",
       "\n",
       "    .dataframe tbody tr th {\n",
       "        vertical-align: top;\n",
       "    }\n",
       "\n",
       "    .dataframe thead th {\n",
       "        text-align: right;\n",
       "    }\n",
       "</style>\n",
       "<table border=\"1\" class=\"dataframe\">\n",
       "  <thead>\n",
       "    <tr style=\"text-align: right;\">\n",
       "      <th></th>\n",
       "      <th>count</th>\n",
       "    </tr>\n",
       "  </thead>\n",
       "  <tbody>\n",
       "    <tr>\n",
       "      <th>Mar-2016</th>\n",
       "      <td>61992</td>\n",
       "    </tr>\n",
       "    <tr>\n",
       "      <th>Feb-2016</th>\n",
       "      <td>39529</td>\n",
       "    </tr>\n",
       "    <tr>\n",
       "      <th>Jan-2016</th>\n",
       "      <td>32366</td>\n",
       "    </tr>\n",
       "  </tbody>\n",
       "</table>\n",
       "</div>"
      ],
      "text/plain": [
       "          count\n",
       "Mar-2016  61992\n",
       "Feb-2016  39529\n",
       "Jan-2016  32366"
      ]
     },
     "execution_count": 51,
     "metadata": {},
     "output_type": "execute_result"
    }
   ],
   "source": [
    "df_test.head()"
   ]
  },
  {
   "cell_type": "code",
   "execution_count": 52,
   "metadata": {},
   "outputs": [],
   "source": [
    "df_test['month-year'] = df_test.index"
   ]
  },
  {
   "cell_type": "code",
   "execution_count": 53,
   "metadata": {},
   "outputs": [
    {
     "data": {
      "text/html": [
       "<div>\n",
       "<style scoped>\n",
       "    .dataframe tbody tr th:only-of-type {\n",
       "        vertical-align: middle;\n",
       "    }\n",
       "\n",
       "    .dataframe tbody tr th {\n",
       "        vertical-align: top;\n",
       "    }\n",
       "\n",
       "    .dataframe thead th {\n",
       "        text-align: right;\n",
       "    }\n",
       "</style>\n",
       "<table border=\"1\" class=\"dataframe\">\n",
       "  <thead>\n",
       "    <tr style=\"text-align: right;\">\n",
       "      <th></th>\n",
       "      <th>count</th>\n",
       "      <th>month-year</th>\n",
       "    </tr>\n",
       "  </thead>\n",
       "  <tbody>\n",
       "    <tr>\n",
       "      <th>Mar-2016</th>\n",
       "      <td>61992</td>\n",
       "      <td>Mar-2016</td>\n",
       "    </tr>\n",
       "    <tr>\n",
       "      <th>Feb-2016</th>\n",
       "      <td>39529</td>\n",
       "      <td>Feb-2016</td>\n",
       "    </tr>\n",
       "    <tr>\n",
       "      <th>Jan-2016</th>\n",
       "      <td>32366</td>\n",
       "      <td>Jan-2016</td>\n",
       "    </tr>\n",
       "  </tbody>\n",
       "</table>\n",
       "</div>"
      ],
      "text/plain": [
       "          count month-year\n",
       "Mar-2016  61992   Mar-2016\n",
       "Feb-2016  39529   Feb-2016\n",
       "Jan-2016  32366   Jan-2016"
      ]
     },
     "execution_count": 53,
     "metadata": {},
     "output_type": "execute_result"
    }
   ],
   "source": [
    "df_test.head()"
   ]
  },
  {
   "cell_type": "code",
   "execution_count": 54,
   "metadata": {},
   "outputs": [],
   "source": [
    "df_test = df_test.reset_index(drop=True)"
   ]
  },
  {
   "cell_type": "code",
   "execution_count": 55,
   "metadata": {},
   "outputs": [
    {
     "data": {
      "text/html": [
       "<div>\n",
       "<style scoped>\n",
       "    .dataframe tbody tr th:only-of-type {\n",
       "        vertical-align: middle;\n",
       "    }\n",
       "\n",
       "    .dataframe tbody tr th {\n",
       "        vertical-align: top;\n",
       "    }\n",
       "\n",
       "    .dataframe thead th {\n",
       "        text-align: right;\n",
       "    }\n",
       "</style>\n",
       "<table border=\"1\" class=\"dataframe\">\n",
       "  <thead>\n",
       "    <tr style=\"text-align: right;\">\n",
       "      <th></th>\n",
       "      <th>count</th>\n",
       "      <th>month-year</th>\n",
       "    </tr>\n",
       "  </thead>\n",
       "  <tbody>\n",
       "    <tr>\n",
       "      <th>0</th>\n",
       "      <td>61992</td>\n",
       "      <td>Mar-2016</td>\n",
       "    </tr>\n",
       "    <tr>\n",
       "      <th>1</th>\n",
       "      <td>39529</td>\n",
       "      <td>Feb-2016</td>\n",
       "    </tr>\n",
       "    <tr>\n",
       "      <th>2</th>\n",
       "      <td>32366</td>\n",
       "      <td>Jan-2016</td>\n",
       "    </tr>\n",
       "  </tbody>\n",
       "</table>\n",
       "</div>"
      ],
      "text/plain": [
       "   count month-year\n",
       "0  61992   Mar-2016\n",
       "1  39529   Feb-2016\n",
       "2  32366   Jan-2016"
      ]
     },
     "execution_count": 55,
     "metadata": {},
     "output_type": "execute_result"
    }
   ],
   "source": [
    "df_test.head()"
   ]
  },
  {
   "cell_type": "code",
   "execution_count": 56,
   "metadata": {},
   "outputs": [],
   "source": [
    "df_test['month-year'] = pd.to_datetime(df_test[\"month-year\"])"
   ]
  },
  {
   "cell_type": "code",
   "execution_count": 57,
   "metadata": {},
   "outputs": [],
   "source": [
    "import seaborn as sns"
   ]
  },
  {
   "cell_type": "code",
   "execution_count": 58,
   "metadata": {},
   "outputs": [
    {
     "data": {
      "text/plain": [
       "Text(0.5,1,'Trend of Number of Loans Per Month')"
      ]
     },
     "execution_count": 58,
     "metadata": {},
     "output_type": "execute_result"
    },
    {
     "data": {
      "image/png": "[encoded data removed]",
      "text/plain": [
       "<matplotlib.figure.Figure at 0x1147b1c18>"
      ]
     },
     "metadata": {},
     "output_type": "display_data"
    }
   ],
   "source": [
    "plt.figure(figsize=(12,10))\n",
    "sns.pointplot(x = \"month-year\", y = \"count\", data = df_test)\n",
    "plt.title('Trend of Number of Loans Per Month')"
   ]
  },
  {
   "cell_type": "markdown",
   "metadata": {},
   "source": [
    "# Loan Status: the current status of the borrower. There are 8 different categories a borrower can be placed under which are the following: charged off, current, default, fully paid, in grace period, issued, last (16-30 days), late (31-120 days). "
   ]
  },
  {
   "cell_type": "code",
   "execution_count": 59,
   "metadata": {},
   "outputs": [
    {
     "data": {
      "text/plain": [
       "Current               69153\n",
       "Fully Paid            44434\n",
       "Charged Off           16450\n",
       "Late (31-120 days)     2222\n",
       "In Grace Period        1229\n",
       "Late (16-30 days)       395\n",
       "Default                   4\n",
       "Name: loan_status, dtype: int64"
      ]
     },
     "execution_count": 59,
     "metadata": {},
     "output_type": "execute_result"
    }
   ],
   "source": [
    "df_select['loan_status'].value_counts()"
   ]
  },
  {
   "cell_type": "code",
   "execution_count": 61,
   "metadata": {},
   "outputs": [
    {
     "data": {
      "text/plain": [
       "Text(0,0.5,'Frequency')"
      ]
     },
     "execution_count": 61,
     "metadata": {},
     "output_type": "execute_result"
    },
    {
     "data": {
      "image/png": "[encoded data removed]",
      "text/plain": [
       "<matplotlib.figure.Figure at 0x114b6b710>"
      ]
     },
     "metadata": {},
     "output_type": "display_data"
    }
   ],
   "source": [
    "df_select['loan_status'].value_counts().plot(kind='bar', rot=0, figsize = (12,8))\n",
    "plt.title('Frequancy Plot for Loan Status')\n",
    "plt.xlabel('Loan Status')\n",
    "plt.ylabel('Frequency')"
   ]
  },
  {
   "cell_type": "code",
   "execution_count": 62,
   "metadata": {},
   "outputs": [
    {
     "data": {
      "text/plain": [
       "Text(0.5,1,'Pie Chart for Loan Status')"
      ]
     },
     "execution_count": 62,
     "metadata": {},
     "output_type": "execute_result"
    },
    {
     "data": {
      "image/png": "[encoded data removed]",
      "text/plain": [
       "<matplotlib.figure.Figure at 0x114d9a860>"
      ]
     },
     "metadata": {},
     "output_type": "display_data"
    }
   ],
   "source": [
    "df_select['loan_status'].value_counts().plot(kind='pie', figsize = (10,10))\n",
    "plt.title('Pie Chart for Loan Status')"
   ]
  },
  {
   "cell_type": "markdown",
   "metadata": {},
   "source": [
    "# payment plan"
   ]
  },
  {
   "cell_type": "code",
   "execution_count": 63,
   "metadata": {},
   "outputs": [
    {
     "data": {
      "text/plain": [
       "n    133813\n",
       "y        74\n",
       "Name: pymnt_plan, dtype: int64"
      ]
     },
     "execution_count": 63,
     "metadata": {},
     "output_type": "execute_result"
    }
   ],
   "source": [
    "df_select['pymnt_plan'].value_counts()"
   ]
  },
  {
   "cell_type": "code",
   "execution_count": 64,
   "metadata": {},
   "outputs": [
    {
     "data": {
      "text/plain": [
       "Text(0.5,1,'Pie Chart for Payment Plan')"
      ]
     },
     "execution_count": 64,
     "metadata": {},
     "output_type": "execute_result"
    },
    {
     "data": {
      "image/png": "[encoded data removed]",
      "text/plain": [
       "<matplotlib.figure.Figure at 0x114c8f4a8>"
      ]
     },
     "metadata": {},
     "output_type": "display_data"
    }
   ],
   "source": [
    "df_select['pymnt_plan'].value_counts().plot(kind='pie')\n",
    "plt.title('Pie Chart for Payment Plan')"
   ]
  },
  {
   "cell_type": "code",
   "execution_count": 65,
   "metadata": {},
   "outputs": [
    {
     "data": {
      "text/plain": [
       "Text(0,0.5,'Frequency')"
      ]
     },
     "execution_count": 65,
     "metadata": {},
     "output_type": "execute_result"
    },
    {
     "data": {
      "image/png": "[encoded data removed]",
      "text/plain": [
       "<matplotlib.figure.Figure at 0x114fbfdd8>"
      ]
     },
     "metadata": {},
     "output_type": "display_data"
    }
   ],
   "source": [
    "df_select['pymnt_plan'].value_counts().plot(kind='bar', rot=0, figsize = (12,8))\n",
    "plt.title('Frequancy Plot for Payment Plan')\n",
    "plt.xlabel('Payment Plan')\n",
    "plt.ylabel('Frequency')"
   ]
  },
  {
   "cell_type": "markdown",
   "metadata": {},
   "source": [
    "# purpose: A category provided by the borrower for the loan request. "
   ]
  },
  {
   "cell_type": "code",
   "execution_count": 66,
   "metadata": {},
   "outputs": [
    {
     "data": {
      "text/plain": [
       "debt_consolidation    76687\n",
       "credit_card           32187\n",
       "home_improvement       8662\n",
       "other                  7132\n",
       "major_purchase         2923\n",
       "medical                1457\n",
       "small_business         1393\n",
       "car                    1306\n",
       "moving                  769\n",
       "vacation                743\n",
       "house                   545\n",
       "renewable_energy         83\n",
       "Name: purpose, dtype: int64"
      ]
     },
     "execution_count": 66,
     "metadata": {},
     "output_type": "execute_result"
    }
   ],
   "source": [
    "df_select['purpose'].value_counts()"
   ]
  },
  {
   "cell_type": "code",
   "execution_count": 68,
   "metadata": {},
   "outputs": [
    {
     "data": {
      "text/plain": [
       "Text(0,0.5,'Purpose')"
      ]
     },
     "execution_count": 68,
     "metadata": {},
     "output_type": "execute_result"
    },
    {
     "data": {
      "image/png": "[encoded data removed]",
      "text/plain": [
       "<matplotlib.figure.Figure at 0x1155df860>"
      ]
     },
     "metadata": {},
     "output_type": "display_data"
    }
   ],
   "source": [
    "df_select['purpose'].value_counts().plot(kind='barh', rot=0, figsize = (12,8))\n",
    "plt.title('Frequancy Plot for Purpose')\n",
    "plt.xlabel('Count')\n",
    "plt.ylabel('Purpose')"
   ]
  },
  {
   "cell_type": "markdown",
   "metadata": {},
   "source": [
    "# addr_state"
   ]
  },
  {
   "cell_type": "code",
   "execution_count": 69,
   "metadata": {},
   "outputs": [
    {
     "data": {
      "text/plain": [
       "CA    18331\n",
       "TX    11523\n",
       "NY    10472\n",
       "FL     9435\n",
       "IL     5389\n",
       "NJ     4803\n",
       "OH     4601\n",
       "GA     4314\n",
       "PA     4211\n",
       "NC     3893\n",
       "VA     3707\n",
       "MI     3503\n",
       "AZ     3164\n",
       "MA     3026\n",
       "MD     2872\n",
       "CO     2737\n",
       "WA     2710\n",
       "MN     2358\n",
       "IN     2308\n",
       "TN     2293\n",
       "MO     2210\n",
       "CT     1993\n",
       "NV     1908\n",
       "WI     1840\n",
       "SC     1675\n",
       "AL     1618\n",
       "LA     1596\n",
       "OR     1554\n",
       "OK     1367\n",
       "KY     1296\n",
       "KS     1139\n",
       "AR     1003\n",
       "MS      884\n",
       "UT      873\n",
       "NM      806\n",
       "NH      676\n",
       "HI      641\n",
       "NE      625\n",
       "RI      543\n",
       "ME      530\n",
       "WV      450\n",
       "DE      387\n",
       "MT      386\n",
       "ND      363\n",
       "AK      353\n",
       "ID      339\n",
       "SD      299\n",
       "WY      299\n",
       "VT      298\n",
       "DC      286\n",
       "Name: addr_state, dtype: int64"
      ]
     },
     "execution_count": 69,
     "metadata": {},
     "output_type": "execute_result"
    }
   ],
   "source": [
    "df_select['addr_state'].value_counts()"
   ]
  },
  {
   "cell_type": "code",
   "execution_count": 70,
   "metadata": {},
   "outputs": [
    {
     "data": {
      "text/plain": [
       "Text(0,0.5,'Address State')"
      ]
     },
     "execution_count": 70,
     "metadata": {},
     "output_type": "execute_result"
    },
    {
     "data": {
      "image/png": "[encoded data removed]",
      "text/plain": [
       "<matplotlib.figure.Figure at 0x1158fe8d0>"
      ]
     },
     "metadata": {},
     "output_type": "display_data"
    }
   ],
   "source": [
    "df_select['addr_state'].value_counts().plot(kind='barh', rot=0, figsize = (16,12))\n",
    "plt.title('Frequancy Plot for Address State')\n",
    "plt.xlabel('Count')\n",
    "plt.ylabel('Address State')"
   ]
  },
  {
   "cell_type": "code",
   "execution_count": 71,
   "metadata": {},
   "outputs": [
    {
     "data": {
      "text/plain": [
       "'2.6.0'"
      ]
     },
     "execution_count": 71,
     "metadata": {},
     "output_type": "execute_result"
    }
   ],
   "source": [
    "import plotly\n",
    "import plotly.figure_factory as ff\n",
    "plotly.__version__"
   ]
  },
  {
   "cell_type": "code",
   "execution_count": 72,
   "metadata": {},
   "outputs": [],
   "source": [
    "state_series = df_select['addr_state'].value_counts()\n",
    "df_state = state_series.to_frame(name=\"count\")\n",
    "df_state['state'] = df_state.index\n",
    "df_state = df_state.reset_index(drop=True)"
   ]
  },
  {
   "cell_type": "code",
   "execution_count": 73,
   "metadata": {},
   "outputs": [
    {
     "data": {
      "text/html": [
       "<div>\n",
       "<style scoped>\n",
       "    .dataframe tbody tr th:only-of-type {\n",
       "        vertical-align: middle;\n",
       "    }\n",
       "\n",
       "    .dataframe tbody tr th {\n",
       "        vertical-align: top;\n",
       "    }\n",
       "\n",
       "    .dataframe thead th {\n",
       "        text-align: right;\n",
       "    }\n",
       "</style>\n",
       "<table border=\"1\" class=\"dataframe\">\n",
       "  <thead>\n",
       "    <tr style=\"text-align: right;\">\n",
       "      <th></th>\n",
       "      <th>count</th>\n",
       "      <th>state</th>\n",
       "    </tr>\n",
       "  </thead>\n",
       "  <tbody>\n",
       "    <tr>\n",
       "      <th>0</th>\n",
       "      <td>18331</td>\n",
       "      <td>CA</td>\n",
       "    </tr>\n",
       "    <tr>\n",
       "      <th>1</th>\n",
       "      <td>11523</td>\n",
       "      <td>TX</td>\n",
       "    </tr>\n",
       "    <tr>\n",
       "      <th>2</th>\n",
       "      <td>10472</td>\n",
       "      <td>NY</td>\n",
       "    </tr>\n",
       "    <tr>\n",
       "      <th>3</th>\n",
       "      <td>9435</td>\n",
       "      <td>FL</td>\n",
       "    </tr>\n",
       "    <tr>\n",
       "      <th>4</th>\n",
       "      <td>5389</td>\n",
       "      <td>IL</td>\n",
       "    </tr>\n",
       "  </tbody>\n",
       "</table>\n",
       "</div>"
      ],
      "text/plain": [
       "   count state\n",
       "0  18331    CA\n",
       "1  11523    TX\n",
       "2  10472    NY\n",
       "3   9435    FL\n",
       "4   5389    IL"
      ]
     },
     "execution_count": 73,
     "metadata": {},
     "output_type": "execute_result"
    }
   ],
   "source": [
    "df_state.head()"
   ]
  },
  {
   "cell_type": "code",
   "execution_count": 74,
   "metadata": {},
   "outputs": [],
   "source": [
    "df_fips = pd.read_csv(\"fips.csv\")"
   ]
  },
  {
   "cell_type": "code",
   "execution_count": 75,
   "metadata": {},
   "outputs": [],
   "source": [
    "df_merged = df_state.merge(df_fips, left_on='state', right_on='state')"
   ]
  },
  {
   "cell_type": "code",
   "execution_count": 76,
   "metadata": {},
   "outputs": [
    {
     "data": {
      "text/html": [
       "<div>\n",
       "<style scoped>\n",
       "    .dataframe tbody tr th:only-of-type {\n",
       "        vertical-align: middle;\n",
       "    }\n",
       "\n",
       "    .dataframe tbody tr th {\n",
       "        vertical-align: top;\n",
       "    }\n",
       "\n",
       "    .dataframe thead th {\n",
       "        text-align: right;\n",
       "    }\n",
       "</style>\n",
       "<table border=\"1\" class=\"dataframe\">\n",
       "  <thead>\n",
       "    <tr style=\"text-align: right;\">\n",
       "      <th></th>\n",
       "      <th>count</th>\n",
       "      <th>state</th>\n",
       "      <th>fips</th>\n",
       "    </tr>\n",
       "  </thead>\n",
       "  <tbody>\n",
       "    <tr>\n",
       "      <th>0</th>\n",
       "      <td>18331</td>\n",
       "      <td>CA</td>\n",
       "      <td>6</td>\n",
       "    </tr>\n",
       "    <tr>\n",
       "      <th>1</th>\n",
       "      <td>11523</td>\n",
       "      <td>TX</td>\n",
       "      <td>48</td>\n",
       "    </tr>\n",
       "    <tr>\n",
       "      <th>2</th>\n",
       "      <td>10472</td>\n",
       "      <td>NY</td>\n",
       "      <td>36</td>\n",
       "    </tr>\n",
       "    <tr>\n",
       "      <th>3</th>\n",
       "      <td>9435</td>\n",
       "      <td>FL</td>\n",
       "      <td>12</td>\n",
       "    </tr>\n",
       "    <tr>\n",
       "      <th>4</th>\n",
       "      <td>5389</td>\n",
       "      <td>IL</td>\n",
       "      <td>17</td>\n",
       "    </tr>\n",
       "  </tbody>\n",
       "</table>\n",
       "</div>"
      ],
      "text/plain": [
       "   count state  fips\n",
       "0  18331    CA     6\n",
       "1  11523    TX    48\n",
       "2  10472    NY    36\n",
       "3   9435    FL    12\n",
       "4   5389    IL    17"
      ]
     },
     "execution_count": 76,
     "metadata": {},
     "output_type": "execute_result"
    }
   ],
   "source": [
    "df_merged.head()"
   ]
  },
  {
   "cell_type": "code",
   "execution_count": 77,
   "metadata": {},
   "outputs": [
    {
     "name": "stdout",
     "output_type": "stream",
     "text": [
      "<class 'numpy.int64'>\n",
      "<class 'str'>\n"
     ]
    }
   ],
   "source": [
    "for row in df_state:\n",
    "    print (type(df_state[row][1]))"
   ]
  },
  {
   "cell_type": "code",
   "execution_count": 78,
   "metadata": {},
   "outputs": [],
   "source": [
    "scope = df_fips['state'].tolist()"
   ]
  },
  {
   "cell_type": "code",
   "execution_count": 79,
   "metadata": {},
   "outputs": [
    {
     "data": {
      "text/html": [
       "<script>requirejs.config({paths: { 'plotly': ['https://cdn.plot.ly/plotly-latest.min']},});if(!window.Plotly) {{require(['plotly'],function(plotly) {window.Plotly=plotly;});}}</script>"
      ],
      "text/vnd.plotly.v1+html": [
       "<script>requirejs.config({paths: { 'plotly': ['https://cdn.plot.ly/plotly-latest.min']},});if(!window.Plotly) {{require(['plotly'],function(plotly) {window.Plotly=plotly;});}}</script>"
      ]
     },
     "metadata": {},
     "output_type": "display_data"
    },
    {
     "data": {
      "application/vnd.plotly.v1+json": {
       "data": [
        {
         "autocolorscale": true,
         "colorbar": {
          "autotick": false,
          "tickprefix": "",
          "title": "Loan Counts"
         },
         "locationmode": "USA-states",
         "locations": [
          "CA",
          "TX",
          "NY",
          "FL",
          "IL",
          "NJ",
          "OH",
          "GA",
          "PA",
          "NC",
          "VA",
          "MI",
          "AZ",
          "MA",
          "MD",
          "CO",
          "WA",
          "MN",
          "IN",
          "TN",
          "MO",
          "CT",
          "NV",
          "WI",
          "SC",
          "AL",
          "LA",
          "OR",
          "OK",
          "KY",
          "KS",
          "AR",
          "MS",
          "UT",
          "NM",
          "NH",
          "HI",
          "NE",
          "RI",
          "ME",
          "WV",
          "DE",
          "MT",
          "ND",
          "AK",
          "ID",
          "SD",
          "WY",
          "VT",
          "DC"
         ],
         "marker": {
          "line": {
           "color": "rgb(180,180,180)",
           "width": 0.5
          }
         },
         "reversescale": true,
         "scope": [
          "AL",
          "AK",
          "AZ",
          "AR",
          "CA",
          "CO",
          "CT",
          "DE",
          "DC",
          "FL",
          "GA",
          "HI",
          "ID",
          "IL",
          "IN",
          "IA",
          "KS",
          "KY",
          "LA",
          "ME",
          "MD",
          "MA",
          "MI",
          "MN",
          "MS",
          "MO",
          "MT",
          "NE",
          "NV",
          "NH",
          "NJ",
          "NM",
          "NY",
          "NC",
          "ND",
          "OH",
          "OK",
          "OR",
          "PA",
          "RI",
          "SC",
          "SD",
          "TN",
          "TX",
          "UT",
          "VT",
          "VA",
          "WA",
          "WV",
          "WI",
          "WY"
         ],
         "state_outline": {
          "color": "rgb(255,255,255)",
          "width": 0.5
         },
         "text": [
          "CA",
          "TX",
          "NY",
          "FL",
          "IL",
          "NJ",
          "OH",
          "GA",
          "PA",
          "NC",
          "VA",
          "MI",
          "AZ",
          "MA",
          "MD",
          "CO",
          "WA",
          "MN",
          "IN",
          "TN",
          "MO",
          "CT",
          "NV",
          "WI",
          "SC",
          "AL",
          "LA",
          "OR",
          "OK",
          "KY",
          "KS",
          "AR",
          "MS",
          "UT",
          "NM",
          "NH",
          "HI",
          "NE",
          "RI",
          "ME",
          "WV",
          "DE",
          "MT",
          "ND",
          "AK",
          "ID",
          "SD",
          "WY",
          "VT",
          "DC"
         ],
         "type": "choropleth",
         "z": [
          18331,
          11523,
          10472,
          9435,
          5389,
          4803,
          4601,
          4314,
          4211,
          3893,
          3707,
          3503,
          3164,
          3026,
          2872,
          2737,
          2710,
          2358,
          2308,
          2293,
          2210,
          1993,
          1908,
          1840,
          1675,
          1618,
          1596,
          1554,
          1367,
          1296,
          1139,
          1003,
          884,
          873,
          806,
          676,
          641,
          625,
          543,
          530,
          450,
          387,
          386,
          363,
          353,
          339,
          299,
          299,
          298,
          286
         ]
        }
       ],
       "layout": {
        "geo": {
         "projection": {
          "type": "Mercator"
         },
         "showcoastlines": true,
         "showframe": false
        },
        "title": "Number of loans by state"
       }
      },
      "text/html": [
       "<div id=\"7accf0fe-3535-424a-bc47-e2aabb4b95fe\" style=\"height: 525px; width: 100%;\" class=\"plotly-graph-div\"></div><script type=\"text/javascript\">require([\"plotly\"], function(Plotly) { window.PLOTLYENV=window.PLOTLYENV || {};window.PLOTLYENV.BASE_URL=\"https://plot.ly\";Plotly.newPlot(\"7accf0fe-3535-424a-bc47-e2aabb4b95fe\", [{\"type\": \"choropleth\", \"locations\": [\"CA\", \"TX\", \"NY\", \"FL\", \"IL\", \"NJ\", \"OH\", \"GA\", \"PA\", \"NC\", \"VA\", \"MI\", \"AZ\", \"MA\", \"MD\", \"CO\", \"WA\", \"MN\", \"IN\", \"TN\", \"MO\", \"CT\", \"NV\", \"WI\", \"SC\", \"AL\", \"LA\", \"OR\", \"OK\", \"KY\", \"KS\", \"AR\", \"MS\", \"UT\", \"NM\", \"NH\", \"HI\", \"NE\", \"RI\", \"ME\", \"WV\", \"DE\", \"MT\", \"ND\", \"AK\", \"ID\", \"SD\", \"WY\", \"VT\", \"DC\"], \"locationmode\": \"USA-states\", \"z\": [18331, 11523, 10472, 9435, 5389, 4803, 4601, 4314, 4211, 3893, 3707, 3503, 3164, 3026, 2872, 2737, 2710, 2358, 2308, 2293, 2210, 1993, 1908, 1840, 1675, 1618, 1596, 1554, 1367, 1296, 1139, 1003, 884, 873, 806, 676, 641, 625, 543, 530, 450, 387, 386, 363, 353, 339, 299, 299, 298, 286], \"text\": [\"CA\", \"TX\", \"NY\", \"FL\", \"IL\", \"NJ\", \"OH\", \"GA\", \"PA\", \"NC\", \"VA\", \"MI\", \"AZ\", \"MA\", \"MD\", \"CO\", \"WA\", \"MN\", \"IN\", \"TN\", \"MO\", \"CT\", \"NV\", \"WI\", \"SC\", \"AL\", \"LA\", \"OR\", \"OK\", \"KY\", \"KS\", \"AR\", \"MS\", \"UT\", \"NM\", \"NH\", \"HI\", \"NE\", \"RI\", \"ME\", \"WV\", \"DE\", \"MT\", \"ND\", \"AK\", \"ID\", \"SD\", \"WY\", \"VT\", \"DC\"], \"state_outline\": {\"color\": \"rgb(255,255,255)\", \"width\": 0.5}, \"scope\": [\"AL\", \"AK\", \"AZ\", \"AR\", \"CA\", \"CO\", \"CT\", \"DE\", \"DC\", \"FL\", \"GA\", \"HI\", \"ID\", \"IL\", \"IN\", \"IA\", \"KS\", \"KY\", \"LA\", \"ME\", \"MD\", \"MA\", \"MI\", \"MN\", \"MS\", \"MO\", \"MT\", \"NE\", \"NV\", \"NH\", \"NJ\", \"NM\", \"NY\", \"NC\", \"ND\", \"OH\", \"OK\", \"OR\", \"PA\", \"RI\", \"SC\", \"SD\", \"TN\", \"TX\", \"UT\", \"VT\", \"VA\", \"WA\", \"WV\", \"WI\", \"WY\"], \"autocolorscale\": true, \"reversescale\": true, \"marker\": {\"line\": {\"color\": \"rgb(180,180,180)\", \"width\": 0.5}}, \"colorbar\": {\"autotick\": false, \"tickprefix\": \"\", \"title\": \"Loan Counts\"}}], {\"title\": \"Number of loans by state\", \"geo\": {\"showframe\": false, \"showcoastlines\": true, \"projection\": {\"type\": \"Mercator\"}}}, {\"showLink\": true, \"linkText\": \"Export to plot.ly\"})});</script>"
      ],
      "text/vnd.plotly.v1+html": [
       "<div id=\"7accf0fe-3535-424a-bc47-e2aabb4b95fe\" style=\"height: 525px; width: 100%;\" class=\"plotly-graph-div\"></div><script type=\"text/javascript\">require([\"plotly\"], function(Plotly) { window.PLOTLYENV=window.PLOTLYENV || {};window.PLOTLYENV.BASE_URL=\"https://plot.ly\";Plotly.newPlot(\"7accf0fe-3535-424a-bc47-e2aabb4b95fe\", [{\"type\": \"choropleth\", \"locations\": [\"CA\", \"TX\", \"NY\", \"FL\", \"IL\", \"NJ\", \"OH\", \"GA\", \"PA\", \"NC\", \"VA\", \"MI\", \"AZ\", \"MA\", \"MD\", \"CO\", \"WA\", \"MN\", \"IN\", \"TN\", \"MO\", \"CT\", \"NV\", \"WI\", \"SC\", \"AL\", \"LA\", \"OR\", \"OK\", \"KY\", \"KS\", \"AR\", \"MS\", \"UT\", \"NM\", \"NH\", \"HI\", \"NE\", \"RI\", \"ME\", \"WV\", \"DE\", \"MT\", \"ND\", \"AK\", \"ID\", \"SD\", \"WY\", \"VT\", \"DC\"], \"locationmode\": \"USA-states\", \"z\": [18331, 11523, 10472, 9435, 5389, 4803, 4601, 4314, 4211, 3893, 3707, 3503, 3164, 3026, 2872, 2737, 2710, 2358, 2308, 2293, 2210, 1993, 1908, 1840, 1675, 1618, 1596, 1554, 1367, 1296, 1139, 1003, 884, 873, 806, 676, 641, 625, 543, 530, 450, 387, 386, 363, 353, 339, 299, 299, 298, 286], \"text\": [\"CA\", \"TX\", \"NY\", \"FL\", \"IL\", \"NJ\", \"OH\", \"GA\", \"PA\", \"NC\", \"VA\", \"MI\", \"AZ\", \"MA\", \"MD\", \"CO\", \"WA\", \"MN\", \"IN\", \"TN\", \"MO\", \"CT\", \"NV\", \"WI\", \"SC\", \"AL\", \"LA\", \"OR\", \"OK\", \"KY\", \"KS\", \"AR\", \"MS\", \"UT\", \"NM\", \"NH\", \"HI\", \"NE\", \"RI\", \"ME\", \"WV\", \"DE\", \"MT\", \"ND\", \"AK\", \"ID\", \"SD\", \"WY\", \"VT\", \"DC\"], \"state_outline\": {\"color\": \"rgb(255,255,255)\", \"width\": 0.5}, \"scope\": [\"AL\", \"AK\", \"AZ\", \"AR\", \"CA\", \"CO\", \"CT\", \"DE\", \"DC\", \"FL\", \"GA\", \"HI\", \"ID\", \"IL\", \"IN\", \"IA\", \"KS\", \"KY\", \"LA\", \"ME\", \"MD\", \"MA\", \"MI\", \"MN\", \"MS\", \"MO\", \"MT\", \"NE\", \"NV\", \"NH\", \"NJ\", \"NM\", \"NY\", \"NC\", \"ND\", \"OH\", \"OK\", \"OR\", \"PA\", \"RI\", \"SC\", \"SD\", \"TN\", \"TX\", \"UT\", \"VT\", \"VA\", \"WA\", \"WV\", \"WI\", \"WY\"], \"autocolorscale\": true, \"reversescale\": true, \"marker\": {\"line\": {\"color\": \"rgb(180,180,180)\", \"width\": 0.5}}, \"colorbar\": {\"autotick\": false, \"tickprefix\": \"\", \"title\": \"Loan Counts\"}}], {\"title\": \"Number of loans by state\", \"geo\": {\"showframe\": false, \"showcoastlines\": true, \"projection\": {\"type\": \"Mercator\"}}}, {\"showLink\": true, \"linkText\": \"Export to plot.ly\"})});</script>"
      ]
     },
     "metadata": {},
     "output_type": "display_data"
    }
   ],
   "source": [
    "#Find out more at https://plot.ly/python/choropleth-maps/\n",
    "import plotly\n",
    "\n",
    "plotly.offline.init_notebook_mode(connected=True)\n",
    "\n",
    "scope = df_fips['state'].tolist()\n",
    "\n",
    "data = [ dict(\n",
    "        type = 'choropleth',\n",
    "        locations = df_state['state'],\n",
    "        locationmode = 'USA-states',\n",
    "        z = df_state['count'],\n",
    "        text = df_state['state'],\n",
    "        state_outline={'color': 'rgb(255,255,255)', 'width': 0.5},\n",
    "        scope = scope,\n",
    "        autocolorscale = True,\n",
    "        reversescale = True,\n",
    "        marker = dict(\n",
    "            line = dict (\n",
    "                color = 'rgb(180,180,180)',\n",
    "                width = 0.5\n",
    "            ) ),\n",
    "        colorbar = dict(\n",
    "            autotick = False,\n",
    "            tickprefix = '',\n",
    "            title = 'Loan Counts'),\n",
    "      ) ]\n",
    "\n",
    "layout = dict(\n",
    "    title = 'Number of loans by state',\n",
    "    geo = dict(\n",
    "        showframe = False,\n",
    "        showcoastlines = True,\n",
    "        projection = dict(\n",
    "            type = 'Mercator'\n",
    "        )\n",
    "    )\n",
    ")\n",
    "\n",
    "fig = dict( data=data, layout=layout )\n",
    "plotly.offline.iplot( fig, validate=False, filename='loans-us-state-map')"
   ]
  },
  {
   "cell_type": "markdown",
   "metadata": {},
   "source": [
    "# Exploring relationships amaong multiple variables"
   ]
  },
  {
   "cell_type": "markdown",
   "metadata": {},
   "source": [
    "# Loan status vs Loan Amount"
   ]
  },
  {
   "cell_type": "code",
   "execution_count": 80,
   "metadata": {},
   "outputs": [],
   "source": [
    "import seaborn as sns"
   ]
  },
  {
   "cell_type": "code",
   "execution_count": 82,
   "metadata": {},
   "outputs": [
    {
     "data": {
      "text/plain": [
       "Text(0.5,1,'Loan Status vs Loan Amount')"
      ]
     },
     "execution_count": 82,
     "metadata": {},
     "output_type": "execute_result"
    },
    {
     "data": {
      "image/png": "[encoded data removed]",
      "text/plain": [
       "<matplotlib.figure.Figure at 0x115b69898>"
      ]
     },
     "metadata": {},
     "output_type": "display_data"
    }
   ],
   "source": [
    "plt.figure(figsize=(12,10))\n",
    "sns.boxplot(x=\"loan_status\", y = \"loan_amnt\", data = df_select)\n",
    "plt.title('Loan Status vs Loan Amount')"
   ]
  },
  {
   "cell_type": "markdown",
   "metadata": {},
   "source": [
    "# Loan Amount vs Term"
   ]
  },
  {
   "cell_type": "code",
   "execution_count": 84,
   "metadata": {},
   "outputs": [
    {
     "data": {
      "text/plain": [
       "Text(0.5,1,'Loan Amount vs Term')"
      ]
     },
     "execution_count": 84,
     "metadata": {},
     "output_type": "execute_result"
    },
    {
     "data": {
      "image/png": "[encoded data removed]",
      "text/plain": [
       "<matplotlib.figure.Figure at 0x11f6667b8>"
      ]
     },
     "metadata": {},
     "output_type": "display_data"
    }
   ],
   "source": [
    "plt.figure(figsize=(8,8))\n",
    "sns.boxplot(x=\"term\", y = \"loan_amnt\", data = df_select)\n",
    "plt.title('Loan Amount vs Term')"
   ]
  },
  {
   "cell_type": "markdown",
   "metadata": {},
   "source": [
    "# Interest Rate vs Grade"
   ]
  },
  {
   "cell_type": "code",
   "execution_count": 87,
   "metadata": {},
   "outputs": [
    {
     "data": {
      "text/plain": [
       "Text(0.5,1,'Interest Rate vs Grade')"
      ]
     },
     "execution_count": 87,
     "metadata": {},
     "output_type": "execute_result"
    },
    {
     "data": {
      "image/png": "[encoded data removed]",
      "text/plain": [
       "<matplotlib.figure.Figure at 0x11fff12e8>"
      ]
     },
     "metadata": {},
     "output_type": "display_data"
    }
   ],
   "source": [
    "plt.figure(figsize=(12,10))\n",
    "sns.boxplot(x=\"grade\", y = \"int_rate\", data = df_select)\n",
    "plt.title('Interest Rate vs Grade')"
   ]
  },
  {
   "cell_type": "code",
   "execution_count": 88,
   "metadata": {},
   "outputs": [
    {
     "data": {
      "text/plain": [
       "Text(0.5,1,'Annual Income vs Grade')"
      ]
     },
     "execution_count": 88,
     "metadata": {},
     "output_type": "execute_result"
    },
    {
     "data": {
      "image/png": "[encoded data removed]",
      "text/plain": [
       "<matplotlib.figure.Figure at 0x120c92588>"
      ]
     },
     "metadata": {},
     "output_type": "display_data"
    }
   ],
   "source": [
    "plt.figure(figsize=(12,10))\n",
    "sns.boxplot(x=\"grade\", y = \"annual_inc\", data = df_select)\n",
    "plt.title('Annual Income vs Grade')"
   ]
  },
  {
   "cell_type": "markdown",
   "metadata": {},
   "source": [
    "# Annual Income vs Interest Rate"
   ]
  },
  {
   "cell_type": "code",
   "execution_count": 95,
   "metadata": {},
   "outputs": [],
   "source": [
    "# for index, rows in df_select.iterrows():\n",
    "#     a = rows['int_rate']\n",
    "#     #print (a)\n",
    "#     if a >=25.0:\n",
    "#         df_select['new_int_rate'] = 'abv 25%'\n",
    "#     if a>=20 & a<"
   ]
  },
  {
   "cell_type": "code",
   "execution_count": 96,
   "metadata": {},
   "outputs": [],
   "source": [
    "df_select['new_int_rate'] = pd.qcut(df_select['int_rate'], 5, labels=False)"
   ]
  },
  {
   "cell_type": "code",
   "execution_count": 97,
   "metadata": {},
   "outputs": [
    {
     "data": {
      "text/html": [
       "<div>\n",
       "<style scoped>\n",
       "    .dataframe tbody tr th:only-of-type {\n",
       "        vertical-align: middle;\n",
       "    }\n",
       "\n",
       "    .dataframe tbody tr th {\n",
       "        vertical-align: top;\n",
       "    }\n",
       "\n",
       "    .dataframe thead th {\n",
       "        text-align: right;\n",
       "    }\n",
       "</style>\n",
       "<table border=\"1\" class=\"dataframe\">\n",
       "  <thead>\n",
       "    <tr style=\"text-align: right;\">\n",
       "      <th></th>\n",
       "      <th>loan_amnt</th>\n",
       "      <th>term</th>\n",
       "      <th>int_rate</th>\n",
       "      <th>installment</th>\n",
       "      <th>grade</th>\n",
       "      <th>home_ownership</th>\n",
       "      <th>annual_inc</th>\n",
       "      <th>verification_status</th>\n",
       "      <th>issue_d</th>\n",
       "      <th>loan_status</th>\n",
       "      <th>pymnt_plan</th>\n",
       "      <th>purpose</th>\n",
       "      <th>zip_code</th>\n",
       "      <th>addr_state</th>\n",
       "      <th>new_int_rate</th>\n",
       "    </tr>\n",
       "  </thead>\n",
       "  <tbody>\n",
       "    <tr>\n",
       "      <th>0</th>\n",
       "      <td>34000.000</td>\n",
       "      <td>60 months</td>\n",
       "      <td>15.310</td>\n",
       "      <td>814.410</td>\n",
       "      <td>C</td>\n",
       "      <td>MORTGAGE</td>\n",
       "      <td>150.000</td>\n",
       "      <td>Source Verified</td>\n",
       "      <td>Mar-2016</td>\n",
       "      <td>Current</td>\n",
       "      <td>n</td>\n",
       "      <td>debt_consolidation</td>\n",
       "      <td>140xx</td>\n",
       "      <td>NY</td>\n",
       "      <td>3</td>\n",
       "    </tr>\n",
       "    <tr>\n",
       "      <th>1</th>\n",
       "      <td>12200.000</td>\n",
       "      <td>60 months</td>\n",
       "      <td>11.470</td>\n",
       "      <td>268.130</td>\n",
       "      <td>B</td>\n",
       "      <td>RENT</td>\n",
       "      <td>90.000</td>\n",
       "      <td>Verified</td>\n",
       "      <td>Mar-2016</td>\n",
       "      <td>Current</td>\n",
       "      <td>n</td>\n",
       "      <td>debt_consolidation</td>\n",
       "      <td>773xx</td>\n",
       "      <td>TX</td>\n",
       "      <td>2</td>\n",
       "    </tr>\n",
       "    <tr>\n",
       "      <th>2</th>\n",
       "      <td>10000.000</td>\n",
       "      <td>36 months</td>\n",
       "      <td>11.470</td>\n",
       "      <td>329.620</td>\n",
       "      <td>B</td>\n",
       "      <td>RENT</td>\n",
       "      <td>35.000</td>\n",
       "      <td>Source Verified</td>\n",
       "      <td>Mar-2016</td>\n",
       "      <td>Current</td>\n",
       "      <td>n</td>\n",
       "      <td>other</td>\n",
       "      <td>913xx</td>\n",
       "      <td>CA</td>\n",
       "      <td>2</td>\n",
       "    </tr>\n",
       "    <tr>\n",
       "      <th>3</th>\n",
       "      <td>21000.000</td>\n",
       "      <td>36 months</td>\n",
       "      <td>11.470</td>\n",
       "      <td>692.200</td>\n",
       "      <td>B</td>\n",
       "      <td>MORTGAGE</td>\n",
       "      <td>175.000</td>\n",
       "      <td>Not Verified</td>\n",
       "      <td>Mar-2016</td>\n",
       "      <td>Current</td>\n",
       "      <td>n</td>\n",
       "      <td>home_improvement</td>\n",
       "      <td>481xx</td>\n",
       "      <td>MI</td>\n",
       "      <td>2</td>\n",
       "    </tr>\n",
       "    <tr>\n",
       "      <th>4</th>\n",
       "      <td>35000.000</td>\n",
       "      <td>60 months</td>\n",
       "      <td>21.180</td>\n",
       "      <td>950.420</td>\n",
       "      <td>E</td>\n",
       "      <td>MORTGAGE</td>\n",
       "      <td>195.000</td>\n",
       "      <td>Verified</td>\n",
       "      <td>Mar-2016</td>\n",
       "      <td>Fully Paid</td>\n",
       "      <td>n</td>\n",
       "      <td>debt_consolidation</td>\n",
       "      <td>871xx</td>\n",
       "      <td>NM</td>\n",
       "      <td>4</td>\n",
       "    </tr>\n",
       "  </tbody>\n",
       "</table>\n",
       "</div>"
      ],
      "text/plain": [
       "   loan_amnt        term  int_rate  installment grade home_ownership  \\\n",
       "0  34000.000   60 months    15.310      814.410     C       MORTGAGE   \n",
       "1  12200.000   60 months    11.470      268.130     B           RENT   \n",
       "2  10000.000   36 months    11.470      329.620     B           RENT   \n",
       "3  21000.000   36 months    11.470      692.200     B       MORTGAGE   \n",
       "4  35000.000   60 months    21.180      950.420     E       MORTGAGE   \n",
       "\n",
       "   annual_inc verification_status   issue_d loan_status pymnt_plan  \\\n",
       "0     150.000     Source Verified  Mar-2016     Current          n   \n",
       "1      90.000            Verified  Mar-2016     Current          n   \n",
       "2      35.000     Source Verified  Mar-2016     Current          n   \n",
       "3     175.000        Not Verified  Mar-2016     Current          n   \n",
       "4     195.000            Verified  Mar-2016  Fully Paid          n   \n",
       "\n",
       "              purpose zip_code addr_state  new_int_rate  \n",
       "0  debt_consolidation    140xx         NY             3  \n",
       "1  debt_consolidation    773xx         TX             2  \n",
       "2               other    913xx         CA             2  \n",
       "3    home_improvement    481xx         MI             2  \n",
       "4  debt_consolidation    871xx         NM             4  "
      ]
     },
     "execution_count": 97,
     "metadata": {},
     "output_type": "execute_result"
    }
   ],
   "source": [
    "df_select.head()"
   ]
  },
  {
   "cell_type": "code",
   "execution_count": 98,
   "metadata": {},
   "outputs": [],
   "source": [
    "df_select['new_annual_inc'] = df_select['annual_inc']\n",
    "a = np.percentile(df_select.new_annual_inc, 90)\n",
    "df_select.new_annual_inc = np.where(df_select.new_annual_inc > a, a, df_select.new_annual_inc)"
   ]
  },
  {
   "cell_type": "code",
   "execution_count": 100,
   "metadata": {},
   "outputs": [
    {
     "data": {
      "text/plain": [
       "Text(0.5,1,'Annual Income vs Interest Rate')"
      ]
     },
     "execution_count": 100,
     "metadata": {},
     "output_type": "execute_result"
    },
    {
     "data": {
      "image/png": "[encoded data removed]",
      "text/plain": [
       "<matplotlib.figure.Figure at 0x1244b9f60>"
      ]
     },
     "metadata": {},
     "output_type": "display_data"
    }
   ],
   "source": [
    "plt.figure(figsize=(12,10))\n",
    "sns.boxplot(x=\"new_int_rate\", y = \"new_annual_inc\", data = df_select)\n",
    "plt.title('Annual Income vs Interest Rate')"
   ]
  },
  {
   "cell_type": "markdown",
   "metadata": {},
   "source": [
    "# Verification Status vs Interest Rate"
   ]
  },
  {
   "cell_type": "code",
   "execution_count": 89,
   "metadata": {},
   "outputs": [
    {
     "data": {
      "text/plain": [
       "Text(0.5,1,'Verification Status vs Interest Rate')"
      ]
     },
     "execution_count": 89,
     "metadata": {},
     "output_type": "execute_result"
    },
    {
     "data": {
      "image/png": "[encoded data removed]",
      "text/plain": [
       "<matplotlib.figure.Figure at 0x120a5b390>"
      ]
     },
     "metadata": {},
     "output_type": "display_data"
    }
   ],
   "source": [
    "plt.figure(figsize=(12,10))\n",
    "sns.boxplot(x=\"verification_status\", y = \"int_rate\", data = df_select)\n",
    "plt.title('Verification Status vs Interest Rate')"
   ]
  },
  {
   "cell_type": "code",
   "execution_count": 90,
   "metadata": {},
   "outputs": [
    {
     "data": {
      "text/plain": [
       "Text(0.5,1,'Home Ownership vs Interest Rate')"
      ]
     },
     "execution_count": 90,
     "metadata": {},
     "output_type": "execute_result"
    },
    {
     "data": {
      "image/png": "[encoded data removed]",
      "text/plain": [
       "<matplotlib.figure.Figure at 0x1211578d0>"
      ]
     },
     "metadata": {},
     "output_type": "display_data"
    }
   ],
   "source": [
    "plt.figure(figsize=(12,10))\n",
    "sns.boxplot(x=\"home_ownership\", y = \"int_rate\", data = df_select)\n",
    "plt.title('Home Ownership vs Interest Rate')"
   ]
  },
  {
   "cell_type": "code",
   "execution_count": 85,
   "metadata": {},
   "outputs": [
    {
     "data": {
      "text/html": [
       "<div>\n",
       "<style scoped>\n",
       "    .dataframe tbody tr th:only-of-type {\n",
       "        vertical-align: middle;\n",
       "    }\n",
       "\n",
       "    .dataframe tbody tr th {\n",
       "        vertical-align: top;\n",
       "    }\n",
       "\n",
       "    .dataframe thead th {\n",
       "        text-align: right;\n",
       "    }\n",
       "</style>\n",
       "<table border=\"1\" class=\"dataframe\">\n",
       "  <thead>\n",
       "    <tr style=\"text-align: right;\">\n",
       "      <th></th>\n",
       "      <th>loan_amnt</th>\n",
       "      <th>term</th>\n",
       "      <th>int_rate</th>\n",
       "      <th>installment</th>\n",
       "      <th>grade</th>\n",
       "      <th>home_ownership</th>\n",
       "      <th>annual_inc</th>\n",
       "      <th>verification_status</th>\n",
       "      <th>issue_d</th>\n",
       "      <th>loan_status</th>\n",
       "      <th>pymnt_plan</th>\n",
       "      <th>purpose</th>\n",
       "      <th>zip_code</th>\n",
       "      <th>addr_state</th>\n",
       "    </tr>\n",
       "  </thead>\n",
       "  <tbody>\n",
       "    <tr>\n",
       "      <th>0</th>\n",
       "      <td>34000.000</td>\n",
       "      <td>60 months</td>\n",
       "      <td>15.310</td>\n",
       "      <td>814.410</td>\n",
       "      <td>C</td>\n",
       "      <td>MORTGAGE</td>\n",
       "      <td>150.000</td>\n",
       "      <td>Source Verified</td>\n",
       "      <td>Mar-2016</td>\n",
       "      <td>Current</td>\n",
       "      <td>n</td>\n",
       "      <td>debt_consolidation</td>\n",
       "      <td>140xx</td>\n",
       "      <td>NY</td>\n",
       "    </tr>\n",
       "    <tr>\n",
       "      <th>1</th>\n",
       "      <td>12200.000</td>\n",
       "      <td>60 months</td>\n",
       "      <td>11.470</td>\n",
       "      <td>268.130</td>\n",
       "      <td>B</td>\n",
       "      <td>RENT</td>\n",
       "      <td>90.000</td>\n",
       "      <td>Verified</td>\n",
       "      <td>Mar-2016</td>\n",
       "      <td>Current</td>\n",
       "      <td>n</td>\n",
       "      <td>debt_consolidation</td>\n",
       "      <td>773xx</td>\n",
       "      <td>TX</td>\n",
       "    </tr>\n",
       "    <tr>\n",
       "      <th>2</th>\n",
       "      <td>10000.000</td>\n",
       "      <td>36 months</td>\n",
       "      <td>11.470</td>\n",
       "      <td>329.620</td>\n",
       "      <td>B</td>\n",
       "      <td>RENT</td>\n",
       "      <td>35.000</td>\n",
       "      <td>Source Verified</td>\n",
       "      <td>Mar-2016</td>\n",
       "      <td>Current</td>\n",
       "      <td>n</td>\n",
       "      <td>other</td>\n",
       "      <td>913xx</td>\n",
       "      <td>CA</td>\n",
       "    </tr>\n",
       "    <tr>\n",
       "      <th>3</th>\n",
       "      <td>21000.000</td>\n",
       "      <td>36 months</td>\n",
       "      <td>11.470</td>\n",
       "      <td>692.200</td>\n",
       "      <td>B</td>\n",
       "      <td>MORTGAGE</td>\n",
       "      <td>175.000</td>\n",
       "      <td>Not Verified</td>\n",
       "      <td>Mar-2016</td>\n",
       "      <td>Current</td>\n",
       "      <td>n</td>\n",
       "      <td>home_improvement</td>\n",
       "      <td>481xx</td>\n",
       "      <td>MI</td>\n",
       "    </tr>\n",
       "    <tr>\n",
       "      <th>4</th>\n",
       "      <td>35000.000</td>\n",
       "      <td>60 months</td>\n",
       "      <td>21.180</td>\n",
       "      <td>950.420</td>\n",
       "      <td>E</td>\n",
       "      <td>MORTGAGE</td>\n",
       "      <td>195.000</td>\n",
       "      <td>Verified</td>\n",
       "      <td>Mar-2016</td>\n",
       "      <td>Fully Paid</td>\n",
       "      <td>n</td>\n",
       "      <td>debt_consolidation</td>\n",
       "      <td>871xx</td>\n",
       "      <td>NM</td>\n",
       "    </tr>\n",
       "  </tbody>\n",
       "</table>\n",
       "</div>"
      ],
      "text/plain": [
       "   loan_amnt        term  int_rate  installment grade home_ownership  \\\n",
       "0  34000.000   60 months    15.310      814.410     C       MORTGAGE   \n",
       "1  12200.000   60 months    11.470      268.130     B           RENT   \n",
       "2  10000.000   36 months    11.470      329.620     B           RENT   \n",
       "3  21000.000   36 months    11.470      692.200     B       MORTGAGE   \n",
       "4  35000.000   60 months    21.180      950.420     E       MORTGAGE   \n",
       "\n",
       "   annual_inc verification_status   issue_d loan_status pymnt_plan  \\\n",
       "0     150.000     Source Verified  Mar-2016     Current          n   \n",
       "1      90.000            Verified  Mar-2016     Current          n   \n",
       "2      35.000     Source Verified  Mar-2016     Current          n   \n",
       "3     175.000        Not Verified  Mar-2016     Current          n   \n",
       "4     195.000            Verified  Mar-2016  Fully Paid          n   \n",
       "\n",
       "              purpose zip_code addr_state  \n",
       "0  debt_consolidation    140xx         NY  \n",
       "1  debt_consolidation    773xx         TX  \n",
       "2               other    913xx         CA  \n",
       "3    home_improvement    481xx         MI  \n",
       "4  debt_consolidation    871xx         NM  "
      ]
     },
     "execution_count": 85,
     "metadata": {},
     "output_type": "execute_result"
    }
   ],
   "source": [
    "df_select.head()"
   ]
  },
  {
   "cell_type": "code",
   "execution_count": null,
   "metadata": {},
   "outputs": [],
   "source": []
  }
 ],
 "metadata": {
  "kernelspec": {
   "display_name": "Python 3",
   "language": "python",
   "name": "python3"
  },
  "language_info": {
   "codemirror_mode": {
    "name": "ipython",
    "version": 3
   },
   "file_extension": ".py",
   "mimetype": "text/x-python",
   "name": "python",
   "nbconvert_exporter": "python",
   "pygments_lexer": "ipython3",
   "version": "3.6.4"
  }
 },
 "nbformat": 4,
 "nbformat_minor": 2
}
