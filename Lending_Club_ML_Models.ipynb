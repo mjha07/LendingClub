{
 "cells": [
  {
   "cell_type": "code",
   "execution_count": 129,
   "metadata": {},
   "outputs": [],
   "source": [
    "import numpy as np\n",
    "import pandas as pd\n",
    "import seaborn as sns\n",
    "import matplotlib.pyplot as plt\n",
    "\n",
    "% matplotlib inline"
   ]
  },
  {
   "cell_type": "code",
   "execution_count": 130,
   "metadata": {},
   "outputs": [],
   "source": [
    "pd.set_option('display.float_format', lambda x: '%.3f' % x)"
   ]
  },
  {
   "cell_type": "code",
   "execution_count": 131,
   "metadata": {},
   "outputs": [],
   "source": [
    "df = pd.read_csv('LoanStats_2016Q1.csv', engine = 'python', skipinitialspace=True, skiprows = 1)"
   ]
  },
  {
   "cell_type": "code",
   "execution_count": 132,
   "metadata": {},
   "outputs": [
    {
     "data": {
      "text/html": [
       "<div>\n",
       "<style scoped>\n",
       "    .dataframe tbody tr th:only-of-type {\n",
       "        vertical-align: middle;\n",
       "    }\n",
       "\n",
       "    .dataframe tbody tr th {\n",
       "        vertical-align: top;\n",
       "    }\n",
       "\n",
       "    .dataframe thead th {\n",
       "        text-align: right;\n",
       "    }\n",
       "</style>\n",
       "<table border=\"1\" class=\"dataframe\">\n",
       "  <thead>\n",
       "    <tr style=\"text-align: right;\">\n",
       "      <th></th>\n",
       "      <th>id</th>\n",
       "      <th>member_id</th>\n",
       "      <th>loan_amnt</th>\n",
       "      <th>funded_amnt</th>\n",
       "      <th>funded_amnt_inv</th>\n",
       "      <th>term</th>\n",
       "      <th>int_rate</th>\n",
       "      <th>installment</th>\n",
       "      <th>grade</th>\n",
       "      <th>sub_grade</th>\n",
       "      <th>...</th>\n",
       "      <th>hardship_payoff_balance_amount</th>\n",
       "      <th>hardship_last_payment_amount</th>\n",
       "      <th>disbursement_method</th>\n",
       "      <th>debt_settlement_flag</th>\n",
       "      <th>debt_settlement_flag_date</th>\n",
       "      <th>settlement_status</th>\n",
       "      <th>settlement_date</th>\n",
       "      <th>settlement_amount</th>\n",
       "      <th>settlement_percentage</th>\n",
       "      <th>settlement_term</th>\n",
       "    </tr>\n",
       "  </thead>\n",
       "  <tbody>\n",
       "    <tr>\n",
       "      <th>0</th>\n",
       "      <td>NaN</td>\n",
       "      <td>nan</td>\n",
       "      <td>34000.000</td>\n",
       "      <td>34000.000</td>\n",
       "      <td>34000.000</td>\n",
       "      <td>60 months</td>\n",
       "      <td>15.31%</td>\n",
       "      <td>814.410</td>\n",
       "      <td>C</td>\n",
       "      <td>C5</td>\n",
       "      <td>...</td>\n",
       "      <td>nan</td>\n",
       "      <td>nan</td>\n",
       "      <td>Cash</td>\n",
       "      <td>N</td>\n",
       "      <td>NaN</td>\n",
       "      <td>NaN</td>\n",
       "      <td>NaN</td>\n",
       "      <td>nan</td>\n",
       "      <td>nan</td>\n",
       "      <td>nan</td>\n",
       "    </tr>\n",
       "    <tr>\n",
       "      <th>1</th>\n",
       "      <td>NaN</td>\n",
       "      <td>nan</td>\n",
       "      <td>12200.000</td>\n",
       "      <td>12200.000</td>\n",
       "      <td>12200.000</td>\n",
       "      <td>60 months</td>\n",
       "      <td>11.47%</td>\n",
       "      <td>268.130</td>\n",
       "      <td>B</td>\n",
       "      <td>B5</td>\n",
       "      <td>...</td>\n",
       "      <td>nan</td>\n",
       "      <td>nan</td>\n",
       "      <td>Cash</td>\n",
       "      <td>N</td>\n",
       "      <td>NaN</td>\n",
       "      <td>NaN</td>\n",
       "      <td>NaN</td>\n",
       "      <td>nan</td>\n",
       "      <td>nan</td>\n",
       "      <td>nan</td>\n",
       "    </tr>\n",
       "    <tr>\n",
       "      <th>2</th>\n",
       "      <td>NaN</td>\n",
       "      <td>nan</td>\n",
       "      <td>10000.000</td>\n",
       "      <td>10000.000</td>\n",
       "      <td>10000.000</td>\n",
       "      <td>36 months</td>\n",
       "      <td>11.47%</td>\n",
       "      <td>329.620</td>\n",
       "      <td>B</td>\n",
       "      <td>B5</td>\n",
       "      <td>...</td>\n",
       "      <td>nan</td>\n",
       "      <td>nan</td>\n",
       "      <td>Cash</td>\n",
       "      <td>N</td>\n",
       "      <td>NaN</td>\n",
       "      <td>NaN</td>\n",
       "      <td>NaN</td>\n",
       "      <td>nan</td>\n",
       "      <td>nan</td>\n",
       "      <td>nan</td>\n",
       "    </tr>\n",
       "    <tr>\n",
       "      <th>3</th>\n",
       "      <td>NaN</td>\n",
       "      <td>nan</td>\n",
       "      <td>21000.000</td>\n",
       "      <td>21000.000</td>\n",
       "      <td>21000.000</td>\n",
       "      <td>36 months</td>\n",
       "      <td>11.47%</td>\n",
       "      <td>692.200</td>\n",
       "      <td>B</td>\n",
       "      <td>B5</td>\n",
       "      <td>...</td>\n",
       "      <td>nan</td>\n",
       "      <td>nan</td>\n",
       "      <td>Cash</td>\n",
       "      <td>N</td>\n",
       "      <td>NaN</td>\n",
       "      <td>NaN</td>\n",
       "      <td>NaN</td>\n",
       "      <td>nan</td>\n",
       "      <td>nan</td>\n",
       "      <td>nan</td>\n",
       "    </tr>\n",
       "    <tr>\n",
       "      <th>4</th>\n",
       "      <td>NaN</td>\n",
       "      <td>nan</td>\n",
       "      <td>35000.000</td>\n",
       "      <td>35000.000</td>\n",
       "      <td>35000.000</td>\n",
       "      <td>60 months</td>\n",
       "      <td>21.18%</td>\n",
       "      <td>950.420</td>\n",
       "      <td>E</td>\n",
       "      <td>E3</td>\n",
       "      <td>...</td>\n",
       "      <td>nan</td>\n",
       "      <td>nan</td>\n",
       "      <td>Cash</td>\n",
       "      <td>N</td>\n",
       "      <td>NaN</td>\n",
       "      <td>NaN</td>\n",
       "      <td>NaN</td>\n",
       "      <td>nan</td>\n",
       "      <td>nan</td>\n",
       "      <td>nan</td>\n",
       "    </tr>\n",
       "  </tbody>\n",
       "</table>\n",
       "<p>5 rows × 145 columns</p>\n",
       "</div>"
      ],
      "text/plain": [
       "    id  member_id  loan_amnt  funded_amnt  funded_amnt_inv        term  \\\n",
       "0  NaN        nan  34000.000    34000.000        34000.000   60 months   \n",
       "1  NaN        nan  12200.000    12200.000        12200.000   60 months   \n",
       "2  NaN        nan  10000.000    10000.000        10000.000   36 months   \n",
       "3  NaN        nan  21000.000    21000.000        21000.000   36 months   \n",
       "4  NaN        nan  35000.000    35000.000        35000.000   60 months   \n",
       "\n",
       "  int_rate  installment grade sub_grade       ...        \\\n",
       "0   15.31%      814.410     C        C5       ...         \n",
       "1   11.47%      268.130     B        B5       ...         \n",
       "2   11.47%      329.620     B        B5       ...         \n",
       "3   11.47%      692.200     B        B5       ...         \n",
       "4   21.18%      950.420     E        E3       ...         \n",
       "\n",
       "  hardship_payoff_balance_amount hardship_last_payment_amount  \\\n",
       "0                            nan                          nan   \n",
       "1                            nan                          nan   \n",
       "2                            nan                          nan   \n",
       "3                            nan                          nan   \n",
       "4                            nan                          nan   \n",
       "\n",
       "  disbursement_method  debt_settlement_flag debt_settlement_flag_date  \\\n",
       "0                Cash                     N                       NaN   \n",
       "1                Cash                     N                       NaN   \n",
       "2                Cash                     N                       NaN   \n",
       "3                Cash                     N                       NaN   \n",
       "4                Cash                     N                       NaN   \n",
       "\n",
       "  settlement_status settlement_date settlement_amount  settlement_percentage  \\\n",
       "0               NaN             NaN               nan                    nan   \n",
       "1               NaN             NaN               nan                    nan   \n",
       "2               NaN             NaN               nan                    nan   \n",
       "3               NaN             NaN               nan                    nan   \n",
       "4               NaN             NaN               nan                    nan   \n",
       "\n",
       "  settlement_term  \n",
       "0             nan  \n",
       "1             nan  \n",
       "2             nan  \n",
       "3             nan  \n",
       "4             nan  \n",
       "\n",
       "[5 rows x 145 columns]"
      ]
     },
     "execution_count": 132,
     "metadata": {},
     "output_type": "execute_result"
    }
   ],
   "source": [
    "df.head()"
   ]
  },
  {
   "cell_type": "code",
   "execution_count": 133,
   "metadata": {},
   "outputs": [],
   "source": [
    "df_select = df[['loan_amnt', 'funded_amnt', 'funded_amnt_inv', 'term', 'int_rate', 'installment', 'grade', 'home_ownership'\n",
    "              , 'annual_inc', 'verification_status', 'issue_d', 'loan_status', 'pymnt_plan', 'purpose','zip_code'\n",
    "              , 'addr_state']]"
   ]
  },
  {
   "cell_type": "code",
   "execution_count": 134,
   "metadata": {},
   "outputs": [
    {
     "data": {
      "text/html": [
       "<div>\n",
       "<style scoped>\n",
       "    .dataframe tbody tr th:only-of-type {\n",
       "        vertical-align: middle;\n",
       "    }\n",
       "\n",
       "    .dataframe tbody tr th {\n",
       "        vertical-align: top;\n",
       "    }\n",
       "\n",
       "    .dataframe thead th {\n",
       "        text-align: right;\n",
       "    }\n",
       "</style>\n",
       "<table border=\"1\" class=\"dataframe\">\n",
       "  <thead>\n",
       "    <tr style=\"text-align: right;\">\n",
       "      <th></th>\n",
       "      <th>loan_amnt</th>\n",
       "      <th>funded_amnt</th>\n",
       "      <th>funded_amnt_inv</th>\n",
       "      <th>term</th>\n",
       "      <th>int_rate</th>\n",
       "      <th>installment</th>\n",
       "      <th>grade</th>\n",
       "      <th>home_ownership</th>\n",
       "      <th>annual_inc</th>\n",
       "      <th>verification_status</th>\n",
       "      <th>issue_d</th>\n",
       "      <th>loan_status</th>\n",
       "      <th>pymnt_plan</th>\n",
       "      <th>purpose</th>\n",
       "      <th>zip_code</th>\n",
       "      <th>addr_state</th>\n",
       "    </tr>\n",
       "  </thead>\n",
       "  <tbody>\n",
       "    <tr>\n",
       "      <th>0</th>\n",
       "      <td>34000.000</td>\n",
       "      <td>34000.000</td>\n",
       "      <td>34000.000</td>\n",
       "      <td>60 months</td>\n",
       "      <td>15.31%</td>\n",
       "      <td>814.410</td>\n",
       "      <td>C</td>\n",
       "      <td>MORTGAGE</td>\n",
       "      <td>150000.000</td>\n",
       "      <td>Source Verified</td>\n",
       "      <td>Mar-2016</td>\n",
       "      <td>Current</td>\n",
       "      <td>n</td>\n",
       "      <td>debt_consolidation</td>\n",
       "      <td>140xx</td>\n",
       "      <td>NY</td>\n",
       "    </tr>\n",
       "    <tr>\n",
       "      <th>1</th>\n",
       "      <td>12200.000</td>\n",
       "      <td>12200.000</td>\n",
       "      <td>12200.000</td>\n",
       "      <td>60 months</td>\n",
       "      <td>11.47%</td>\n",
       "      <td>268.130</td>\n",
       "      <td>B</td>\n",
       "      <td>RENT</td>\n",
       "      <td>90000.000</td>\n",
       "      <td>Verified</td>\n",
       "      <td>Mar-2016</td>\n",
       "      <td>Current</td>\n",
       "      <td>n</td>\n",
       "      <td>debt_consolidation</td>\n",
       "      <td>773xx</td>\n",
       "      <td>TX</td>\n",
       "    </tr>\n",
       "    <tr>\n",
       "      <th>2</th>\n",
       "      <td>10000.000</td>\n",
       "      <td>10000.000</td>\n",
       "      <td>10000.000</td>\n",
       "      <td>36 months</td>\n",
       "      <td>11.47%</td>\n",
       "      <td>329.620</td>\n",
       "      <td>B</td>\n",
       "      <td>RENT</td>\n",
       "      <td>35000.000</td>\n",
       "      <td>Source Verified</td>\n",
       "      <td>Mar-2016</td>\n",
       "      <td>Current</td>\n",
       "      <td>n</td>\n",
       "      <td>other</td>\n",
       "      <td>913xx</td>\n",
       "      <td>CA</td>\n",
       "    </tr>\n",
       "    <tr>\n",
       "      <th>3</th>\n",
       "      <td>21000.000</td>\n",
       "      <td>21000.000</td>\n",
       "      <td>21000.000</td>\n",
       "      <td>36 months</td>\n",
       "      <td>11.47%</td>\n",
       "      <td>692.200</td>\n",
       "      <td>B</td>\n",
       "      <td>MORTGAGE</td>\n",
       "      <td>175000.000</td>\n",
       "      <td>Not Verified</td>\n",
       "      <td>Mar-2016</td>\n",
       "      <td>Current</td>\n",
       "      <td>n</td>\n",
       "      <td>home_improvement</td>\n",
       "      <td>481xx</td>\n",
       "      <td>MI</td>\n",
       "    </tr>\n",
       "    <tr>\n",
       "      <th>4</th>\n",
       "      <td>35000.000</td>\n",
       "      <td>35000.000</td>\n",
       "      <td>35000.000</td>\n",
       "      <td>60 months</td>\n",
       "      <td>21.18%</td>\n",
       "      <td>950.420</td>\n",
       "      <td>E</td>\n",
       "      <td>MORTGAGE</td>\n",
       "      <td>195000.000</td>\n",
       "      <td>Verified</td>\n",
       "      <td>Mar-2016</td>\n",
       "      <td>Fully Paid</td>\n",
       "      <td>n</td>\n",
       "      <td>debt_consolidation</td>\n",
       "      <td>871xx</td>\n",
       "      <td>NM</td>\n",
       "    </tr>\n",
       "  </tbody>\n",
       "</table>\n",
       "</div>"
      ],
      "text/plain": [
       "   loan_amnt  funded_amnt  funded_amnt_inv        term int_rate  installment  \\\n",
       "0  34000.000    34000.000        34000.000   60 months   15.31%      814.410   \n",
       "1  12200.000    12200.000        12200.000   60 months   11.47%      268.130   \n",
       "2  10000.000    10000.000        10000.000   36 months   11.47%      329.620   \n",
       "3  21000.000    21000.000        21000.000   36 months   11.47%      692.200   \n",
       "4  35000.000    35000.000        35000.000   60 months   21.18%      950.420   \n",
       "\n",
       "  grade home_ownership  annual_inc verification_status   issue_d loan_status  \\\n",
       "0     C       MORTGAGE  150000.000     Source Verified  Mar-2016     Current   \n",
       "1     B           RENT   90000.000            Verified  Mar-2016     Current   \n",
       "2     B           RENT   35000.000     Source Verified  Mar-2016     Current   \n",
       "3     B       MORTGAGE  175000.000        Not Verified  Mar-2016     Current   \n",
       "4     E       MORTGAGE  195000.000            Verified  Mar-2016  Fully Paid   \n",
       "\n",
       "  pymnt_plan             purpose zip_code addr_state  \n",
       "0          n  debt_consolidation    140xx         NY  \n",
       "1          n  debt_consolidation    773xx         TX  \n",
       "2          n               other    913xx         CA  \n",
       "3          n    home_improvement    481xx         MI  \n",
       "4          n  debt_consolidation    871xx         NM  "
      ]
     },
     "execution_count": 134,
     "metadata": {},
     "output_type": "execute_result"
    }
   ],
   "source": [
    "df_select.head()"
   ]
  },
  {
   "cell_type": "code",
   "execution_count": 135,
   "metadata": {},
   "outputs": [
    {
     "data": {
      "text/plain": [
       "loan_amnt              2\n",
       "funded_amnt            2\n",
       "funded_amnt_inv        2\n",
       "term                   2\n",
       "int_rate               2\n",
       "installment            2\n",
       "grade                  2\n",
       "home_ownership         2\n",
       "annual_inc             2\n",
       "verification_status    2\n",
       "issue_d                2\n",
       "loan_status            2\n",
       "pymnt_plan             2\n",
       "purpose                2\n",
       "zip_code               2\n",
       "addr_state             2\n",
       "dtype: int64"
      ]
     },
     "execution_count": 135,
     "metadata": {},
     "output_type": "execute_result"
    }
   ],
   "source": [
    "df_select.isnull().sum()"
   ]
  },
  {
   "cell_type": "code",
   "execution_count": 136,
   "metadata": {},
   "outputs": [],
   "source": [
    "df_select = df_select.dropna()"
   ]
  },
  {
   "cell_type": "code",
   "execution_count": 137,
   "metadata": {},
   "outputs": [
    {
     "data": {
      "text/plain": [
       "loan_amnt              0\n",
       "funded_amnt            0\n",
       "funded_amnt_inv        0\n",
       "term                   0\n",
       "int_rate               0\n",
       "installment            0\n",
       "grade                  0\n",
       "home_ownership         0\n",
       "annual_inc             0\n",
       "verification_status    0\n",
       "issue_d                0\n",
       "loan_status            0\n",
       "pymnt_plan             0\n",
       "purpose                0\n",
       "zip_code               0\n",
       "addr_state             0\n",
       "dtype: int64"
      ]
     },
     "execution_count": 137,
     "metadata": {},
     "output_type": "execute_result"
    }
   ],
   "source": [
    "df_select.isnull().sum()"
   ]
  },
  {
   "cell_type": "markdown",
   "metadata": {},
   "source": [
    "# From Data Exploration, we have noticed that the field annual_inc has many outliers. Hence, before we proceed with ML modelling, we will remove these outliers. "
   ]
  },
  {
   "cell_type": "code",
   "execution_count": 138,
   "metadata": {},
   "outputs": [
    {
     "data": {
      "text/plain": [
       "Current               69153\n",
       "Fully Paid            44434\n",
       "Charged Off           16450\n",
       "Late (31-120 days)     2222\n",
       "In Grace Period        1229\n",
       "Late (16-30 days)       395\n",
       "Default                   4\n",
       "Name: loan_status, dtype: int64"
      ]
     },
     "execution_count": 138,
     "metadata": {},
     "output_type": "execute_result"
    }
   ],
   "source": [
    "df_select['loan_status'].value_counts()"
   ]
  },
  {
   "cell_type": "code",
   "execution_count": 139,
   "metadata": {},
   "outputs": [],
   "source": [
    "df_select['new_loan_status'] = np.where(df_select['loan_status'] == 'Current', 'Good', \n",
    "         (np.where(df_select['loan_status'] == 'Fully Paid', 'Good','Bad')))"
   ]
  },
  {
   "cell_type": "code",
   "execution_count": 140,
   "metadata": {},
   "outputs": [
    {
     "data": {
      "text/html": [
       "<div>\n",
       "<style scoped>\n",
       "    .dataframe tbody tr th:only-of-type {\n",
       "        vertical-align: middle;\n",
       "    }\n",
       "\n",
       "    .dataframe tbody tr th {\n",
       "        vertical-align: top;\n",
       "    }\n",
       "\n",
       "    .dataframe thead th {\n",
       "        text-align: right;\n",
       "    }\n",
       "</style>\n",
       "<table border=\"1\" class=\"dataframe\">\n",
       "  <thead>\n",
       "    <tr style=\"text-align: right;\">\n",
       "      <th></th>\n",
       "      <th>loan_amnt</th>\n",
       "      <th>funded_amnt</th>\n",
       "      <th>funded_amnt_inv</th>\n",
       "      <th>term</th>\n",
       "      <th>int_rate</th>\n",
       "      <th>installment</th>\n",
       "      <th>grade</th>\n",
       "      <th>home_ownership</th>\n",
       "      <th>annual_inc</th>\n",
       "      <th>verification_status</th>\n",
       "      <th>issue_d</th>\n",
       "      <th>loan_status</th>\n",
       "      <th>pymnt_plan</th>\n",
       "      <th>purpose</th>\n",
       "      <th>zip_code</th>\n",
       "      <th>addr_state</th>\n",
       "      <th>new_loan_status</th>\n",
       "    </tr>\n",
       "  </thead>\n",
       "  <tbody>\n",
       "    <tr>\n",
       "      <th>0</th>\n",
       "      <td>34000.000</td>\n",
       "      <td>34000.000</td>\n",
       "      <td>34000.000</td>\n",
       "      <td>60 months</td>\n",
       "      <td>15.31%</td>\n",
       "      <td>814.410</td>\n",
       "      <td>C</td>\n",
       "      <td>MORTGAGE</td>\n",
       "      <td>150000.000</td>\n",
       "      <td>Source Verified</td>\n",
       "      <td>Mar-2016</td>\n",
       "      <td>Current</td>\n",
       "      <td>n</td>\n",
       "      <td>debt_consolidation</td>\n",
       "      <td>140xx</td>\n",
       "      <td>NY</td>\n",
       "      <td>Good</td>\n",
       "    </tr>\n",
       "    <tr>\n",
       "      <th>1</th>\n",
       "      <td>12200.000</td>\n",
       "      <td>12200.000</td>\n",
       "      <td>12200.000</td>\n",
       "      <td>60 months</td>\n",
       "      <td>11.47%</td>\n",
       "      <td>268.130</td>\n",
       "      <td>B</td>\n",
       "      <td>RENT</td>\n",
       "      <td>90000.000</td>\n",
       "      <td>Verified</td>\n",
       "      <td>Mar-2016</td>\n",
       "      <td>Current</td>\n",
       "      <td>n</td>\n",
       "      <td>debt_consolidation</td>\n",
       "      <td>773xx</td>\n",
       "      <td>TX</td>\n",
       "      <td>Good</td>\n",
       "    </tr>\n",
       "    <tr>\n",
       "      <th>2</th>\n",
       "      <td>10000.000</td>\n",
       "      <td>10000.000</td>\n",
       "      <td>10000.000</td>\n",
       "      <td>36 months</td>\n",
       "      <td>11.47%</td>\n",
       "      <td>329.620</td>\n",
       "      <td>B</td>\n",
       "      <td>RENT</td>\n",
       "      <td>35000.000</td>\n",
       "      <td>Source Verified</td>\n",
       "      <td>Mar-2016</td>\n",
       "      <td>Current</td>\n",
       "      <td>n</td>\n",
       "      <td>other</td>\n",
       "      <td>913xx</td>\n",
       "      <td>CA</td>\n",
       "      <td>Good</td>\n",
       "    </tr>\n",
       "    <tr>\n",
       "      <th>3</th>\n",
       "      <td>21000.000</td>\n",
       "      <td>21000.000</td>\n",
       "      <td>21000.000</td>\n",
       "      <td>36 months</td>\n",
       "      <td>11.47%</td>\n",
       "      <td>692.200</td>\n",
       "      <td>B</td>\n",
       "      <td>MORTGAGE</td>\n",
       "      <td>175000.000</td>\n",
       "      <td>Not Verified</td>\n",
       "      <td>Mar-2016</td>\n",
       "      <td>Current</td>\n",
       "      <td>n</td>\n",
       "      <td>home_improvement</td>\n",
       "      <td>481xx</td>\n",
       "      <td>MI</td>\n",
       "      <td>Good</td>\n",
       "    </tr>\n",
       "    <tr>\n",
       "      <th>4</th>\n",
       "      <td>35000.000</td>\n",
       "      <td>35000.000</td>\n",
       "      <td>35000.000</td>\n",
       "      <td>60 months</td>\n",
       "      <td>21.18%</td>\n",
       "      <td>950.420</td>\n",
       "      <td>E</td>\n",
       "      <td>MORTGAGE</td>\n",
       "      <td>195000.000</td>\n",
       "      <td>Verified</td>\n",
       "      <td>Mar-2016</td>\n",
       "      <td>Fully Paid</td>\n",
       "      <td>n</td>\n",
       "      <td>debt_consolidation</td>\n",
       "      <td>871xx</td>\n",
       "      <td>NM</td>\n",
       "      <td>Good</td>\n",
       "    </tr>\n",
       "    <tr>\n",
       "      <th>5</th>\n",
       "      <td>16000.000</td>\n",
       "      <td>16000.000</td>\n",
       "      <td>16000.000</td>\n",
       "      <td>36 months</td>\n",
       "      <td>5.32%</td>\n",
       "      <td>481.840</td>\n",
       "      <td>A</td>\n",
       "      <td>RENT</td>\n",
       "      <td>105000.000</td>\n",
       "      <td>Not Verified</td>\n",
       "      <td>Mar-2016</td>\n",
       "      <td>Fully Paid</td>\n",
       "      <td>n</td>\n",
       "      <td>debt_consolidation</td>\n",
       "      <td>206xx</td>\n",
       "      <td>MD</td>\n",
       "      <td>Good</td>\n",
       "    </tr>\n",
       "    <tr>\n",
       "      <th>6</th>\n",
       "      <td>10000.000</td>\n",
       "      <td>10000.000</td>\n",
       "      <td>10000.000</td>\n",
       "      <td>36 months</td>\n",
       "      <td>6.49%</td>\n",
       "      <td>306.450</td>\n",
       "      <td>A</td>\n",
       "      <td>MORTGAGE</td>\n",
       "      <td>70000.000</td>\n",
       "      <td>Source Verified</td>\n",
       "      <td>Mar-2016</td>\n",
       "      <td>Current</td>\n",
       "      <td>n</td>\n",
       "      <td>debt_consolidation</td>\n",
       "      <td>478xx</td>\n",
       "      <td>IN</td>\n",
       "      <td>Good</td>\n",
       "    </tr>\n",
       "    <tr>\n",
       "      <th>7</th>\n",
       "      <td>9000.000</td>\n",
       "      <td>9000.000</td>\n",
       "      <td>9000.000</td>\n",
       "      <td>36 months</td>\n",
       "      <td>5.32%</td>\n",
       "      <td>271.040</td>\n",
       "      <td>A</td>\n",
       "      <td>MORTGAGE</td>\n",
       "      <td>90000.000</td>\n",
       "      <td>Not Verified</td>\n",
       "      <td>Mar-2016</td>\n",
       "      <td>Fully Paid</td>\n",
       "      <td>n</td>\n",
       "      <td>home_improvement</td>\n",
       "      <td>581xx</td>\n",
       "      <td>ND</td>\n",
       "      <td>Good</td>\n",
       "    </tr>\n",
       "    <tr>\n",
       "      <th>8</th>\n",
       "      <td>8000.000</td>\n",
       "      <td>8000.000</td>\n",
       "      <td>8000.000</td>\n",
       "      <td>36 months</td>\n",
       "      <td>11.99%</td>\n",
       "      <td>265.680</td>\n",
       "      <td>C</td>\n",
       "      <td>RENT</td>\n",
       "      <td>80000.000</td>\n",
       "      <td>Source Verified</td>\n",
       "      <td>Mar-2016</td>\n",
       "      <td>In Grace Period</td>\n",
       "      <td>n</td>\n",
       "      <td>debt_consolidation</td>\n",
       "      <td>325xx</td>\n",
       "      <td>FL</td>\n",
       "      <td>Bad</td>\n",
       "    </tr>\n",
       "    <tr>\n",
       "      <th>9</th>\n",
       "      <td>28700.000</td>\n",
       "      <td>28700.000</td>\n",
       "      <td>28700.000</td>\n",
       "      <td>36 months</td>\n",
       "      <td>7.39%</td>\n",
       "      <td>891.300</td>\n",
       "      <td>A</td>\n",
       "      <td>OWN</td>\n",
       "      <td>205000.000</td>\n",
       "      <td>Source Verified</td>\n",
       "      <td>Mar-2016</td>\n",
       "      <td>Fully Paid</td>\n",
       "      <td>n</td>\n",
       "      <td>credit_card</td>\n",
       "      <td>761xx</td>\n",
       "      <td>TX</td>\n",
       "      <td>Good</td>\n",
       "    </tr>\n",
       "    <tr>\n",
       "      <th>10</th>\n",
       "      <td>13550.000</td>\n",
       "      <td>13550.000</td>\n",
       "      <td>13550.000</td>\n",
       "      <td>36 months</td>\n",
       "      <td>10.75%</td>\n",
       "      <td>442.010</td>\n",
       "      <td>B</td>\n",
       "      <td>MORTGAGE</td>\n",
       "      <td>79000.000</td>\n",
       "      <td>Source Verified</td>\n",
       "      <td>Mar-2016</td>\n",
       "      <td>Fully Paid</td>\n",
       "      <td>n</td>\n",
       "      <td>credit_card</td>\n",
       "      <td>743xx</td>\n",
       "      <td>OK</td>\n",
       "      <td>Good</td>\n",
       "    </tr>\n",
       "    <tr>\n",
       "      <th>11</th>\n",
       "      <td>22875.000</td>\n",
       "      <td>22875.000</td>\n",
       "      <td>22875.000</td>\n",
       "      <td>60 months</td>\n",
       "      <td>17.27%</td>\n",
       "      <td>571.830</td>\n",
       "      <td>D</td>\n",
       "      <td>RENT</td>\n",
       "      <td>65000.000</td>\n",
       "      <td>Source Verified</td>\n",
       "      <td>Mar-2016</td>\n",
       "      <td>Fully Paid</td>\n",
       "      <td>n</td>\n",
       "      <td>debt_consolidation</td>\n",
       "      <td>871xx</td>\n",
       "      <td>NM</td>\n",
       "      <td>Good</td>\n",
       "    </tr>\n",
       "    <tr>\n",
       "      <th>12</th>\n",
       "      <td>33600.000</td>\n",
       "      <td>33600.000</td>\n",
       "      <td>33600.000</td>\n",
       "      <td>36 months</td>\n",
       "      <td>10.75%</td>\n",
       "      <td>1096.050</td>\n",
       "      <td>B</td>\n",
       "      <td>RENT</td>\n",
       "      <td>100000.000</td>\n",
       "      <td>Source Verified</td>\n",
       "      <td>Mar-2016</td>\n",
       "      <td>Current</td>\n",
       "      <td>n</td>\n",
       "      <td>debt_consolidation</td>\n",
       "      <td>100xx</td>\n",
       "      <td>NY</td>\n",
       "      <td>Good</td>\n",
       "    </tr>\n",
       "    <tr>\n",
       "      <th>13</th>\n",
       "      <td>4400.000</td>\n",
       "      <td>4400.000</td>\n",
       "      <td>4400.000</td>\n",
       "      <td>36 months</td>\n",
       "      <td>9.75%</td>\n",
       "      <td>141.460</td>\n",
       "      <td>B</td>\n",
       "      <td>RENT</td>\n",
       "      <td>33000.000</td>\n",
       "      <td>Verified</td>\n",
       "      <td>Mar-2016</td>\n",
       "      <td>Fully Paid</td>\n",
       "      <td>n</td>\n",
       "      <td>credit_card</td>\n",
       "      <td>952xx</td>\n",
       "      <td>CA</td>\n",
       "      <td>Good</td>\n",
       "    </tr>\n",
       "    <tr>\n",
       "      <th>14</th>\n",
       "      <td>25000.000</td>\n",
       "      <td>25000.000</td>\n",
       "      <td>25000.000</td>\n",
       "      <td>36 months</td>\n",
       "      <td>11.99%</td>\n",
       "      <td>830.240</td>\n",
       "      <td>C</td>\n",
       "      <td>RENT</td>\n",
       "      <td>100000.000</td>\n",
       "      <td>Source Verified</td>\n",
       "      <td>Mar-2016</td>\n",
       "      <td>Fully Paid</td>\n",
       "      <td>n</td>\n",
       "      <td>debt_consolidation</td>\n",
       "      <td>551xx</td>\n",
       "      <td>PA</td>\n",
       "      <td>Good</td>\n",
       "    </tr>\n",
       "    <tr>\n",
       "      <th>15</th>\n",
       "      <td>25200.000</td>\n",
       "      <td>25200.000</td>\n",
       "      <td>25200.000</td>\n",
       "      <td>36 months</td>\n",
       "      <td>11.99%</td>\n",
       "      <td>836.890</td>\n",
       "      <td>C</td>\n",
       "      <td>RENT</td>\n",
       "      <td>76280.000</td>\n",
       "      <td>Verified</td>\n",
       "      <td>Mar-2016</td>\n",
       "      <td>Late (31-120 days)</td>\n",
       "      <td>n</td>\n",
       "      <td>debt_consolidation</td>\n",
       "      <td>850xx</td>\n",
       "      <td>AZ</td>\n",
       "      <td>Bad</td>\n",
       "    </tr>\n",
       "    <tr>\n",
       "      <th>16</th>\n",
       "      <td>6000.000</td>\n",
       "      <td>6000.000</td>\n",
       "      <td>6000.000</td>\n",
       "      <td>36 months</td>\n",
       "      <td>12.99%</td>\n",
       "      <td>202.140</td>\n",
       "      <td>C</td>\n",
       "      <td>MORTGAGE</td>\n",
       "      <td>43000.000</td>\n",
       "      <td>Not Verified</td>\n",
       "      <td>Mar-2016</td>\n",
       "      <td>Current</td>\n",
       "      <td>n</td>\n",
       "      <td>debt_consolidation</td>\n",
       "      <td>211xx</td>\n",
       "      <td>MD</td>\n",
       "      <td>Good</td>\n",
       "    </tr>\n",
       "    <tr>\n",
       "      <th>17</th>\n",
       "      <td>35000.000</td>\n",
       "      <td>35000.000</td>\n",
       "      <td>35000.000</td>\n",
       "      <td>36 months</td>\n",
       "      <td>17.27%</td>\n",
       "      <td>1252.560</td>\n",
       "      <td>D</td>\n",
       "      <td>RENT</td>\n",
       "      <td>107000.000</td>\n",
       "      <td>Verified</td>\n",
       "      <td>Mar-2016</td>\n",
       "      <td>Current</td>\n",
       "      <td>n</td>\n",
       "      <td>debt_consolidation</td>\n",
       "      <td>900xx</td>\n",
       "      <td>CA</td>\n",
       "      <td>Good</td>\n",
       "    </tr>\n",
       "    <tr>\n",
       "      <th>18</th>\n",
       "      <td>25200.000</td>\n",
       "      <td>25200.000</td>\n",
       "      <td>25200.000</td>\n",
       "      <td>36 months</td>\n",
       "      <td>7.39%</td>\n",
       "      <td>782.610</td>\n",
       "      <td>A</td>\n",
       "      <td>OWN</td>\n",
       "      <td>53000.000</td>\n",
       "      <td>Source Verified</td>\n",
       "      <td>Mar-2016</td>\n",
       "      <td>Current</td>\n",
       "      <td>n</td>\n",
       "      <td>debt_consolidation</td>\n",
       "      <td>656xx</td>\n",
       "      <td>MO</td>\n",
       "      <td>Good</td>\n",
       "    </tr>\n",
       "    <tr>\n",
       "      <th>19</th>\n",
       "      <td>8200.000</td>\n",
       "      <td>8200.000</td>\n",
       "      <td>8200.000</td>\n",
       "      <td>36 months</td>\n",
       "      <td>5.32%</td>\n",
       "      <td>246.950</td>\n",
       "      <td>A</td>\n",
       "      <td>MORTGAGE</td>\n",
       "      <td>38000.000</td>\n",
       "      <td>Source Verified</td>\n",
       "      <td>Mar-2016</td>\n",
       "      <td>Fully Paid</td>\n",
       "      <td>n</td>\n",
       "      <td>debt_consolidation</td>\n",
       "      <td>851xx</td>\n",
       "      <td>AZ</td>\n",
       "      <td>Good</td>\n",
       "    </tr>\n",
       "    <tr>\n",
       "      <th>20</th>\n",
       "      <td>3000.000</td>\n",
       "      <td>3000.000</td>\n",
       "      <td>3000.000</td>\n",
       "      <td>36 months</td>\n",
       "      <td>13.67%</td>\n",
       "      <td>102.060</td>\n",
       "      <td>C</td>\n",
       "      <td>RENT</td>\n",
       "      <td>90000.000</td>\n",
       "      <td>Source Verified</td>\n",
       "      <td>Mar-2016</td>\n",
       "      <td>Current</td>\n",
       "      <td>n</td>\n",
       "      <td>small_business</td>\n",
       "      <td>334xx</td>\n",
       "      <td>FL</td>\n",
       "      <td>Good</td>\n",
       "    </tr>\n",
       "    <tr>\n",
       "      <th>21</th>\n",
       "      <td>15000.000</td>\n",
       "      <td>15000.000</td>\n",
       "      <td>15000.000</td>\n",
       "      <td>36 months</td>\n",
       "      <td>11.47%</td>\n",
       "      <td>494.430</td>\n",
       "      <td>B</td>\n",
       "      <td>MORTGAGE</td>\n",
       "      <td>77100.000</td>\n",
       "      <td>Not Verified</td>\n",
       "      <td>Mar-2016</td>\n",
       "      <td>Current</td>\n",
       "      <td>n</td>\n",
       "      <td>home_improvement</td>\n",
       "      <td>740xx</td>\n",
       "      <td>OK</td>\n",
       "      <td>Good</td>\n",
       "    </tr>\n",
       "    <tr>\n",
       "      <th>22</th>\n",
       "      <td>2000.000</td>\n",
       "      <td>2000.000</td>\n",
       "      <td>1950.000</td>\n",
       "      <td>36 months</td>\n",
       "      <td>22.45%</td>\n",
       "      <td>76.850</td>\n",
       "      <td>E</td>\n",
       "      <td>RENT</td>\n",
       "      <td>38000.000</td>\n",
       "      <td>Source Verified</td>\n",
       "      <td>Mar-2016</td>\n",
       "      <td>Fully Paid</td>\n",
       "      <td>n</td>\n",
       "      <td>debt_consolidation</td>\n",
       "      <td>299xx</td>\n",
       "      <td>SC</td>\n",
       "      <td>Good</td>\n",
       "    </tr>\n",
       "    <tr>\n",
       "      <th>23</th>\n",
       "      <td>21000.000</td>\n",
       "      <td>21000.000</td>\n",
       "      <td>21000.000</td>\n",
       "      <td>36 months</td>\n",
       "      <td>7.89%</td>\n",
       "      <td>657.000</td>\n",
       "      <td>A</td>\n",
       "      <td>MORTGAGE</td>\n",
       "      <td>125000.000</td>\n",
       "      <td>Source Verified</td>\n",
       "      <td>Mar-2016</td>\n",
       "      <td>Current</td>\n",
       "      <td>n</td>\n",
       "      <td>debt_consolidation</td>\n",
       "      <td>760xx</td>\n",
       "      <td>TX</td>\n",
       "      <td>Good</td>\n",
       "    </tr>\n",
       "    <tr>\n",
       "      <th>24</th>\n",
       "      <td>8000.000</td>\n",
       "      <td>8000.000</td>\n",
       "      <td>8000.000</td>\n",
       "      <td>36 months</td>\n",
       "      <td>5.32%</td>\n",
       "      <td>240.920</td>\n",
       "      <td>A</td>\n",
       "      <td>RENT</td>\n",
       "      <td>80000.000</td>\n",
       "      <td>Not Verified</td>\n",
       "      <td>Mar-2016</td>\n",
       "      <td>Fully Paid</td>\n",
       "      <td>n</td>\n",
       "      <td>vacation</td>\n",
       "      <td>370xx</td>\n",
       "      <td>TN</td>\n",
       "      <td>Good</td>\n",
       "    </tr>\n",
       "    <tr>\n",
       "      <th>25</th>\n",
       "      <td>6000.000</td>\n",
       "      <td>6000.000</td>\n",
       "      <td>6000.000</td>\n",
       "      <td>36 months</td>\n",
       "      <td>13.67%</td>\n",
       "      <td>204.110</td>\n",
       "      <td>C</td>\n",
       "      <td>RENT</td>\n",
       "      <td>69000.000</td>\n",
       "      <td>Not Verified</td>\n",
       "      <td>Mar-2016</td>\n",
       "      <td>Current</td>\n",
       "      <td>n</td>\n",
       "      <td>debt_consolidation</td>\n",
       "      <td>330xx</td>\n",
       "      <td>FL</td>\n",
       "      <td>Good</td>\n",
       "    </tr>\n",
       "    <tr>\n",
       "      <th>26</th>\n",
       "      <td>6000.000</td>\n",
       "      <td>6000.000</td>\n",
       "      <td>6000.000</td>\n",
       "      <td>36 months</td>\n",
       "      <td>7.39%</td>\n",
       "      <td>186.340</td>\n",
       "      <td>A</td>\n",
       "      <td>RENT</td>\n",
       "      <td>32000.000</td>\n",
       "      <td>Source Verified</td>\n",
       "      <td>Mar-2016</td>\n",
       "      <td>Fully Paid</td>\n",
       "      <td>n</td>\n",
       "      <td>home_improvement</td>\n",
       "      <td>945xx</td>\n",
       "      <td>CA</td>\n",
       "      <td>Good</td>\n",
       "    </tr>\n",
       "    <tr>\n",
       "      <th>27</th>\n",
       "      <td>5800.000</td>\n",
       "      <td>5800.000</td>\n",
       "      <td>5800.000</td>\n",
       "      <td>36 months</td>\n",
       "      <td>12.99%</td>\n",
       "      <td>195.400</td>\n",
       "      <td>C</td>\n",
       "      <td>RENT</td>\n",
       "      <td>34000.000</td>\n",
       "      <td>Source Verified</td>\n",
       "      <td>Mar-2016</td>\n",
       "      <td>Fully Paid</td>\n",
       "      <td>n</td>\n",
       "      <td>debt_consolidation</td>\n",
       "      <td>554xx</td>\n",
       "      <td>MN</td>\n",
       "      <td>Good</td>\n",
       "    </tr>\n",
       "    <tr>\n",
       "      <th>28</th>\n",
       "      <td>9600.000</td>\n",
       "      <td>9600.000</td>\n",
       "      <td>9550.000</td>\n",
       "      <td>36 months</td>\n",
       "      <td>23.13%</td>\n",
       "      <td>372.270</td>\n",
       "      <td>F</td>\n",
       "      <td>RENT</td>\n",
       "      <td>30000.000</td>\n",
       "      <td>Source Verified</td>\n",
       "      <td>Mar-2016</td>\n",
       "      <td>Current</td>\n",
       "      <td>n</td>\n",
       "      <td>credit_card</td>\n",
       "      <td>300xx</td>\n",
       "      <td>GA</td>\n",
       "      <td>Good</td>\n",
       "    </tr>\n",
       "    <tr>\n",
       "      <th>29</th>\n",
       "      <td>6400.000</td>\n",
       "      <td>6400.000</td>\n",
       "      <td>6400.000</td>\n",
       "      <td>36 months</td>\n",
       "      <td>16.29%</td>\n",
       "      <td>225.930</td>\n",
       "      <td>D</td>\n",
       "      <td>RENT</td>\n",
       "      <td>20000.000</td>\n",
       "      <td>Source Verified</td>\n",
       "      <td>Mar-2016</td>\n",
       "      <td>Fully Paid</td>\n",
       "      <td>n</td>\n",
       "      <td>debt_consolidation</td>\n",
       "      <td>326xx</td>\n",
       "      <td>FL</td>\n",
       "      <td>Good</td>\n",
       "    </tr>\n",
       "    <tr>\n",
       "      <th>...</th>\n",
       "      <td>...</td>\n",
       "      <td>...</td>\n",
       "      <td>...</td>\n",
       "      <td>...</td>\n",
       "      <td>...</td>\n",
       "      <td>...</td>\n",
       "      <td>...</td>\n",
       "      <td>...</td>\n",
       "      <td>...</td>\n",
       "      <td>...</td>\n",
       "      <td>...</td>\n",
       "      <td>...</td>\n",
       "      <td>...</td>\n",
       "      <td>...</td>\n",
       "      <td>...</td>\n",
       "      <td>...</td>\n",
       "      <td>...</td>\n",
       "    </tr>\n",
       "    <tr>\n",
       "      <th>133857</th>\n",
       "      <td>5200.000</td>\n",
       "      <td>5200.000</td>\n",
       "      <td>5200.000</td>\n",
       "      <td>36 months</td>\n",
       "      <td>16.55%</td>\n",
       "      <td>184.240</td>\n",
       "      <td>D</td>\n",
       "      <td>RENT</td>\n",
       "      <td>38000.000</td>\n",
       "      <td>Verified</td>\n",
       "      <td>Jan-2016</td>\n",
       "      <td>Fully Paid</td>\n",
       "      <td>n</td>\n",
       "      <td>car</td>\n",
       "      <td>890xx</td>\n",
       "      <td>NV</td>\n",
       "      <td>Good</td>\n",
       "    </tr>\n",
       "    <tr>\n",
       "      <th>133858</th>\n",
       "      <td>15000.000</td>\n",
       "      <td>15000.000</td>\n",
       "      <td>15000.000</td>\n",
       "      <td>36 months</td>\n",
       "      <td>6.89%</td>\n",
       "      <td>462.410</td>\n",
       "      <td>A</td>\n",
       "      <td>OWN</td>\n",
       "      <td>125000.000</td>\n",
       "      <td>Verified</td>\n",
       "      <td>Jan-2016</td>\n",
       "      <td>Current</td>\n",
       "      <td>n</td>\n",
       "      <td>debt_consolidation</td>\n",
       "      <td>145xx</td>\n",
       "      <td>NY</td>\n",
       "      <td>Good</td>\n",
       "    </tr>\n",
       "    <tr>\n",
       "      <th>133859</th>\n",
       "      <td>19000.000</td>\n",
       "      <td>19000.000</td>\n",
       "      <td>18750.000</td>\n",
       "      <td>36 months</td>\n",
       "      <td>11.99%</td>\n",
       "      <td>630.990</td>\n",
       "      <td>C</td>\n",
       "      <td>RENT</td>\n",
       "      <td>48000.000</td>\n",
       "      <td>Verified</td>\n",
       "      <td>Jan-2016</td>\n",
       "      <td>Fully Paid</td>\n",
       "      <td>n</td>\n",
       "      <td>other</td>\n",
       "      <td>075xx</td>\n",
       "      <td>NJ</td>\n",
       "      <td>Good</td>\n",
       "    </tr>\n",
       "    <tr>\n",
       "      <th>133860</th>\n",
       "      <td>11000.000</td>\n",
       "      <td>11000.000</td>\n",
       "      <td>11000.000</td>\n",
       "      <td>36 months</td>\n",
       "      <td>9.17%</td>\n",
       "      <td>350.670</td>\n",
       "      <td>B</td>\n",
       "      <td>MORTGAGE</td>\n",
       "      <td>71000.000</td>\n",
       "      <td>Source Verified</td>\n",
       "      <td>Jan-2016</td>\n",
       "      <td>Current</td>\n",
       "      <td>n</td>\n",
       "      <td>debt_consolidation</td>\n",
       "      <td>430xx</td>\n",
       "      <td>OH</td>\n",
       "      <td>Good</td>\n",
       "    </tr>\n",
       "    <tr>\n",
       "      <th>133861</th>\n",
       "      <td>10000.000</td>\n",
       "      <td>10000.000</td>\n",
       "      <td>10000.000</td>\n",
       "      <td>36 months</td>\n",
       "      <td>11.22%</td>\n",
       "      <td>328.430</td>\n",
       "      <td>B</td>\n",
       "      <td>OWN</td>\n",
       "      <td>20800.000</td>\n",
       "      <td>Verified</td>\n",
       "      <td>Jan-2016</td>\n",
       "      <td>Current</td>\n",
       "      <td>n</td>\n",
       "      <td>credit_card</td>\n",
       "      <td>623xx</td>\n",
       "      <td>IL</td>\n",
       "      <td>Good</td>\n",
       "    </tr>\n",
       "    <tr>\n",
       "      <th>133862</th>\n",
       "      <td>6000.000</td>\n",
       "      <td>6000.000</td>\n",
       "      <td>6000.000</td>\n",
       "      <td>36 months</td>\n",
       "      <td>11.99%</td>\n",
       "      <td>199.260</td>\n",
       "      <td>C</td>\n",
       "      <td>RENT</td>\n",
       "      <td>15000.000</td>\n",
       "      <td>Verified</td>\n",
       "      <td>Jan-2016</td>\n",
       "      <td>Current</td>\n",
       "      <td>n</td>\n",
       "      <td>credit_card</td>\n",
       "      <td>906xx</td>\n",
       "      <td>CA</td>\n",
       "      <td>Good</td>\n",
       "    </tr>\n",
       "    <tr>\n",
       "      <th>133863</th>\n",
       "      <td>4500.000</td>\n",
       "      <td>4500.000</td>\n",
       "      <td>4500.000</td>\n",
       "      <td>36 months</td>\n",
       "      <td>9.76%</td>\n",
       "      <td>144.700</td>\n",
       "      <td>B</td>\n",
       "      <td>OWN</td>\n",
       "      <td>79000.000</td>\n",
       "      <td>Verified</td>\n",
       "      <td>Jan-2016</td>\n",
       "      <td>Current</td>\n",
       "      <td>n</td>\n",
       "      <td>home_improvement</td>\n",
       "      <td>198xx</td>\n",
       "      <td>DE</td>\n",
       "      <td>Good</td>\n",
       "    </tr>\n",
       "    <tr>\n",
       "      <th>133864</th>\n",
       "      <td>7500.000</td>\n",
       "      <td>7500.000</td>\n",
       "      <td>7500.000</td>\n",
       "      <td>36 months</td>\n",
       "      <td>9.76%</td>\n",
       "      <td>241.160</td>\n",
       "      <td>B</td>\n",
       "      <td>RENT</td>\n",
       "      <td>48000.000</td>\n",
       "      <td>Verified</td>\n",
       "      <td>Jan-2016</td>\n",
       "      <td>Current</td>\n",
       "      <td>n</td>\n",
       "      <td>debt_consolidation</td>\n",
       "      <td>119xx</td>\n",
       "      <td>NY</td>\n",
       "      <td>Good</td>\n",
       "    </tr>\n",
       "    <tr>\n",
       "      <th>133865</th>\n",
       "      <td>34000.000</td>\n",
       "      <td>34000.000</td>\n",
       "      <td>34000.000</td>\n",
       "      <td>36 months</td>\n",
       "      <td>9.76%</td>\n",
       "      <td>1093.260</td>\n",
       "      <td>B</td>\n",
       "      <td>MORTGAGE</td>\n",
       "      <td>179000.000</td>\n",
       "      <td>Verified</td>\n",
       "      <td>Jan-2016</td>\n",
       "      <td>Current</td>\n",
       "      <td>n</td>\n",
       "      <td>credit_card</td>\n",
       "      <td>472xx</td>\n",
       "      <td>IN</td>\n",
       "      <td>Good</td>\n",
       "    </tr>\n",
       "    <tr>\n",
       "      <th>133866</th>\n",
       "      <td>16800.000</td>\n",
       "      <td>16800.000</td>\n",
       "      <td>16800.000</td>\n",
       "      <td>36 months</td>\n",
       "      <td>7.26%</td>\n",
       "      <td>520.740</td>\n",
       "      <td>A</td>\n",
       "      <td>RENT</td>\n",
       "      <td>62000.000</td>\n",
       "      <td>Verified</td>\n",
       "      <td>Jan-2016</td>\n",
       "      <td>Fully Paid</td>\n",
       "      <td>n</td>\n",
       "      <td>debt_consolidation</td>\n",
       "      <td>328xx</td>\n",
       "      <td>FL</td>\n",
       "      <td>Good</td>\n",
       "    </tr>\n",
       "    <tr>\n",
       "      <th>133867</th>\n",
       "      <td>8500.000</td>\n",
       "      <td>8500.000</td>\n",
       "      <td>8500.000</td>\n",
       "      <td>36 months</td>\n",
       "      <td>13.18%</td>\n",
       "      <td>287.140</td>\n",
       "      <td>C</td>\n",
       "      <td>MORTGAGE</td>\n",
       "      <td>180000.000</td>\n",
       "      <td>Source Verified</td>\n",
       "      <td>Jan-2016</td>\n",
       "      <td>Current</td>\n",
       "      <td>n</td>\n",
       "      <td>small_business</td>\n",
       "      <td>941xx</td>\n",
       "      <td>CA</td>\n",
       "      <td>Good</td>\n",
       "    </tr>\n",
       "    <tr>\n",
       "      <th>133868</th>\n",
       "      <td>35000.000</td>\n",
       "      <td>35000.000</td>\n",
       "      <td>35000.000</td>\n",
       "      <td>60 months</td>\n",
       "      <td>18.99%</td>\n",
       "      <td>907.730</td>\n",
       "      <td>E</td>\n",
       "      <td>MORTGAGE</td>\n",
       "      <td>90000.000</td>\n",
       "      <td>Verified</td>\n",
       "      <td>Jan-2016</td>\n",
       "      <td>Fully Paid</td>\n",
       "      <td>n</td>\n",
       "      <td>debt_consolidation</td>\n",
       "      <td>291xx</td>\n",
       "      <td>SC</td>\n",
       "      <td>Good</td>\n",
       "    </tr>\n",
       "    <tr>\n",
       "      <th>133869</th>\n",
       "      <td>12600.000</td>\n",
       "      <td>12600.000</td>\n",
       "      <td>12600.000</td>\n",
       "      <td>60 months</td>\n",
       "      <td>18.99%</td>\n",
       "      <td>326.790</td>\n",
       "      <td>E</td>\n",
       "      <td>RENT</td>\n",
       "      <td>35000.000</td>\n",
       "      <td>Verified</td>\n",
       "      <td>Jan-2016</td>\n",
       "      <td>Current</td>\n",
       "      <td>n</td>\n",
       "      <td>debt_consolidation</td>\n",
       "      <td>925xx</td>\n",
       "      <td>CA</td>\n",
       "      <td>Good</td>\n",
       "    </tr>\n",
       "    <tr>\n",
       "      <th>133870</th>\n",
       "      <td>25000.000</td>\n",
       "      <td>25000.000</td>\n",
       "      <td>24800.000</td>\n",
       "      <td>36 months</td>\n",
       "      <td>18.99%</td>\n",
       "      <td>916.280</td>\n",
       "      <td>E</td>\n",
       "      <td>RENT</td>\n",
       "      <td>62000.000</td>\n",
       "      <td>Verified</td>\n",
       "      <td>Jan-2016</td>\n",
       "      <td>Charged Off</td>\n",
       "      <td>n</td>\n",
       "      <td>debt_consolidation</td>\n",
       "      <td>331xx</td>\n",
       "      <td>FL</td>\n",
       "      <td>Bad</td>\n",
       "    </tr>\n",
       "    <tr>\n",
       "      <th>133871</th>\n",
       "      <td>12000.000</td>\n",
       "      <td>12000.000</td>\n",
       "      <td>12000.000</td>\n",
       "      <td>36 months</td>\n",
       "      <td>9.76%</td>\n",
       "      <td>385.860</td>\n",
       "      <td>B</td>\n",
       "      <td>MORTGAGE</td>\n",
       "      <td>61500.000</td>\n",
       "      <td>Verified</td>\n",
       "      <td>Jan-2016</td>\n",
       "      <td>Current</td>\n",
       "      <td>n</td>\n",
       "      <td>debt_consolidation</td>\n",
       "      <td>228xx</td>\n",
       "      <td>VA</td>\n",
       "      <td>Good</td>\n",
       "    </tr>\n",
       "    <tr>\n",
       "      <th>133872</th>\n",
       "      <td>5000.000</td>\n",
       "      <td>5000.000</td>\n",
       "      <td>5000.000</td>\n",
       "      <td>36 months</td>\n",
       "      <td>13.18%</td>\n",
       "      <td>168.910</td>\n",
       "      <td>C</td>\n",
       "      <td>RENT</td>\n",
       "      <td>42000.000</td>\n",
       "      <td>Source Verified</td>\n",
       "      <td>Jan-2016</td>\n",
       "      <td>Fully Paid</td>\n",
       "      <td>n</td>\n",
       "      <td>car</td>\n",
       "      <td>551xx</td>\n",
       "      <td>MN</td>\n",
       "      <td>Good</td>\n",
       "    </tr>\n",
       "    <tr>\n",
       "      <th>133873</th>\n",
       "      <td>5000.000</td>\n",
       "      <td>5000.000</td>\n",
       "      <td>5000.000</td>\n",
       "      <td>36 months</td>\n",
       "      <td>15.41%</td>\n",
       "      <td>174.340</td>\n",
       "      <td>D</td>\n",
       "      <td>MORTGAGE</td>\n",
       "      <td>60000.000</td>\n",
       "      <td>Source Verified</td>\n",
       "      <td>Jan-2016</td>\n",
       "      <td>Charged Off</td>\n",
       "      <td>n</td>\n",
       "      <td>debt_consolidation</td>\n",
       "      <td>292xx</td>\n",
       "      <td>SC</td>\n",
       "      <td>Bad</td>\n",
       "    </tr>\n",
       "    <tr>\n",
       "      <th>133874</th>\n",
       "      <td>12950.000</td>\n",
       "      <td>12950.000</td>\n",
       "      <td>12950.000</td>\n",
       "      <td>36 months</td>\n",
       "      <td>15.41%</td>\n",
       "      <td>451.530</td>\n",
       "      <td>D</td>\n",
       "      <td>RENT</td>\n",
       "      <td>36000.000</td>\n",
       "      <td>Verified</td>\n",
       "      <td>Jan-2016</td>\n",
       "      <td>Current</td>\n",
       "      <td>n</td>\n",
       "      <td>debt_consolidation</td>\n",
       "      <td>622xx</td>\n",
       "      <td>IL</td>\n",
       "      <td>Good</td>\n",
       "    </tr>\n",
       "    <tr>\n",
       "      <th>133875</th>\n",
       "      <td>24000.000</td>\n",
       "      <td>24000.000</td>\n",
       "      <td>24000.000</td>\n",
       "      <td>36 months</td>\n",
       "      <td>5.32%</td>\n",
       "      <td>722.760</td>\n",
       "      <td>A</td>\n",
       "      <td>RENT</td>\n",
       "      <td>100000.000</td>\n",
       "      <td>Verified</td>\n",
       "      <td>Jan-2016</td>\n",
       "      <td>Current</td>\n",
       "      <td>n</td>\n",
       "      <td>debt_consolidation</td>\n",
       "      <td>672xx</td>\n",
       "      <td>KS</td>\n",
       "      <td>Good</td>\n",
       "    </tr>\n",
       "    <tr>\n",
       "      <th>133876</th>\n",
       "      <td>21175.000</td>\n",
       "      <td>21175.000</td>\n",
       "      <td>20925.000</td>\n",
       "      <td>60 months</td>\n",
       "      <td>19.99%</td>\n",
       "      <td>560.900</td>\n",
       "      <td>E</td>\n",
       "      <td>OWN</td>\n",
       "      <td>56000.000</td>\n",
       "      <td>Source Verified</td>\n",
       "      <td>Jan-2016</td>\n",
       "      <td>Current</td>\n",
       "      <td>n</td>\n",
       "      <td>debt_consolidation</td>\n",
       "      <td>751xx</td>\n",
       "      <td>TX</td>\n",
       "      <td>Good</td>\n",
       "    </tr>\n",
       "    <tr>\n",
       "      <th>133877</th>\n",
       "      <td>6000.000</td>\n",
       "      <td>6000.000</td>\n",
       "      <td>6000.000</td>\n",
       "      <td>36 months</td>\n",
       "      <td>13.67%</td>\n",
       "      <td>204.110</td>\n",
       "      <td>C</td>\n",
       "      <td>RENT</td>\n",
       "      <td>85000.000</td>\n",
       "      <td>Verified</td>\n",
       "      <td>Jan-2016</td>\n",
       "      <td>Fully Paid</td>\n",
       "      <td>n</td>\n",
       "      <td>moving</td>\n",
       "      <td>104xx</td>\n",
       "      <td>NY</td>\n",
       "      <td>Good</td>\n",
       "    </tr>\n",
       "    <tr>\n",
       "      <th>133878</th>\n",
       "      <td>6000.000</td>\n",
       "      <td>6000.000</td>\n",
       "      <td>6000.000</td>\n",
       "      <td>36 months</td>\n",
       "      <td>26.77%</td>\n",
       "      <td>244.220</td>\n",
       "      <td>G</td>\n",
       "      <td>RENT</td>\n",
       "      <td>20000.000</td>\n",
       "      <td>Verified</td>\n",
       "      <td>Jan-2016</td>\n",
       "      <td>Charged Off</td>\n",
       "      <td>n</td>\n",
       "      <td>debt_consolidation</td>\n",
       "      <td>302xx</td>\n",
       "      <td>GA</td>\n",
       "      <td>Bad</td>\n",
       "    </tr>\n",
       "    <tr>\n",
       "      <th>133879</th>\n",
       "      <td>24100.000</td>\n",
       "      <td>24100.000</td>\n",
       "      <td>24100.000</td>\n",
       "      <td>60 months</td>\n",
       "      <td>18.49%</td>\n",
       "      <td>618.430</td>\n",
       "      <td>E</td>\n",
       "      <td>RENT</td>\n",
       "      <td>65000.000</td>\n",
       "      <td>Source Verified</td>\n",
       "      <td>Jan-2016</td>\n",
       "      <td>Charged Off</td>\n",
       "      <td>n</td>\n",
       "      <td>debt_consolidation</td>\n",
       "      <td>293xx</td>\n",
       "      <td>SC</td>\n",
       "      <td>Bad</td>\n",
       "    </tr>\n",
       "    <tr>\n",
       "      <th>133880</th>\n",
       "      <td>4000.000</td>\n",
       "      <td>4000.000</td>\n",
       "      <td>4000.000</td>\n",
       "      <td>36 months</td>\n",
       "      <td>9.17%</td>\n",
       "      <td>127.520</td>\n",
       "      <td>B</td>\n",
       "      <td>MORTGAGE</td>\n",
       "      <td>46800.000</td>\n",
       "      <td>Source Verified</td>\n",
       "      <td>Jan-2016</td>\n",
       "      <td>Fully Paid</td>\n",
       "      <td>n</td>\n",
       "      <td>credit_card</td>\n",
       "      <td>554xx</td>\n",
       "      <td>MN</td>\n",
       "      <td>Good</td>\n",
       "    </tr>\n",
       "    <tr>\n",
       "      <th>133881</th>\n",
       "      <td>5000.000</td>\n",
       "      <td>5000.000</td>\n",
       "      <td>5000.000</td>\n",
       "      <td>36 months</td>\n",
       "      <td>9.17%</td>\n",
       "      <td>159.400</td>\n",
       "      <td>B</td>\n",
       "      <td>RENT</td>\n",
       "      <td>33000.000</td>\n",
       "      <td>Not Verified</td>\n",
       "      <td>Jan-2016</td>\n",
       "      <td>Current</td>\n",
       "      <td>n</td>\n",
       "      <td>debt_consolidation</td>\n",
       "      <td>926xx</td>\n",
       "      <td>CA</td>\n",
       "      <td>Good</td>\n",
       "    </tr>\n",
       "    <tr>\n",
       "      <th>133882</th>\n",
       "      <td>6000.000</td>\n",
       "      <td>6000.000</td>\n",
       "      <td>6000.000</td>\n",
       "      <td>36 months</td>\n",
       "      <td>9.17%</td>\n",
       "      <td>191.280</td>\n",
       "      <td>B</td>\n",
       "      <td>RENT</td>\n",
       "      <td>32640.000</td>\n",
       "      <td>Not Verified</td>\n",
       "      <td>Jan-2016</td>\n",
       "      <td>Current</td>\n",
       "      <td>n</td>\n",
       "      <td>debt_consolidation</td>\n",
       "      <td>600xx</td>\n",
       "      <td>IL</td>\n",
       "      <td>Good</td>\n",
       "    </tr>\n",
       "    <tr>\n",
       "      <th>133883</th>\n",
       "      <td>6000.000</td>\n",
       "      <td>6000.000</td>\n",
       "      <td>6000.000</td>\n",
       "      <td>36 months</td>\n",
       "      <td>7.89%</td>\n",
       "      <td>187.720</td>\n",
       "      <td>A</td>\n",
       "      <td>OWN</td>\n",
       "      <td>38000.000</td>\n",
       "      <td>Source Verified</td>\n",
       "      <td>Jan-2016</td>\n",
       "      <td>Current</td>\n",
       "      <td>n</td>\n",
       "      <td>credit_card</td>\n",
       "      <td>432xx</td>\n",
       "      <td>OH</td>\n",
       "      <td>Good</td>\n",
       "    </tr>\n",
       "    <tr>\n",
       "      <th>133884</th>\n",
       "      <td>14400.000</td>\n",
       "      <td>14400.000</td>\n",
       "      <td>14400.000</td>\n",
       "      <td>60 months</td>\n",
       "      <td>13.18%</td>\n",
       "      <td>328.980</td>\n",
       "      <td>C</td>\n",
       "      <td>RENT</td>\n",
       "      <td>47000.000</td>\n",
       "      <td>Verified</td>\n",
       "      <td>Jan-2016</td>\n",
       "      <td>Current</td>\n",
       "      <td>n</td>\n",
       "      <td>credit_card</td>\n",
       "      <td>531xx</td>\n",
       "      <td>WI</td>\n",
       "      <td>Good</td>\n",
       "    </tr>\n",
       "    <tr>\n",
       "      <th>133885</th>\n",
       "      <td>34050.000</td>\n",
       "      <td>34050.000</td>\n",
       "      <td>34050.000</td>\n",
       "      <td>36 months</td>\n",
       "      <td>15.41%</td>\n",
       "      <td>1187.210</td>\n",
       "      <td>D</td>\n",
       "      <td>MORTGAGE</td>\n",
       "      <td>87800.000</td>\n",
       "      <td>Source Verified</td>\n",
       "      <td>Jan-2016</td>\n",
       "      <td>Current</td>\n",
       "      <td>n</td>\n",
       "      <td>credit_card</td>\n",
       "      <td>212xx</td>\n",
       "      <td>MD</td>\n",
       "      <td>Good</td>\n",
       "    </tr>\n",
       "    <tr>\n",
       "      <th>133886</th>\n",
       "      <td>5000.000</td>\n",
       "      <td>5000.000</td>\n",
       "      <td>5000.000</td>\n",
       "      <td>36 months</td>\n",
       "      <td>11.22%</td>\n",
       "      <td>164.220</td>\n",
       "      <td>B</td>\n",
       "      <td>MORTGAGE</td>\n",
       "      <td>65000.000</td>\n",
       "      <td>Source Verified</td>\n",
       "      <td>Jan-2016</td>\n",
       "      <td>Current</td>\n",
       "      <td>n</td>\n",
       "      <td>home_improvement</td>\n",
       "      <td>201xx</td>\n",
       "      <td>VA</td>\n",
       "      <td>Good</td>\n",
       "    </tr>\n",
       "  </tbody>\n",
       "</table>\n",
       "<p>133887 rows × 17 columns</p>\n",
       "</div>"
      ],
      "text/plain": [
       "        loan_amnt  funded_amnt  funded_amnt_inv        term int_rate  \\\n",
       "0       34000.000    34000.000        34000.000   60 months   15.31%   \n",
       "1       12200.000    12200.000        12200.000   60 months   11.47%   \n",
       "2       10000.000    10000.000        10000.000   36 months   11.47%   \n",
       "3       21000.000    21000.000        21000.000   36 months   11.47%   \n",
       "4       35000.000    35000.000        35000.000   60 months   21.18%   \n",
       "5       16000.000    16000.000        16000.000   36 months    5.32%   \n",
       "6       10000.000    10000.000        10000.000   36 months    6.49%   \n",
       "7        9000.000     9000.000         9000.000   36 months    5.32%   \n",
       "8        8000.000     8000.000         8000.000   36 months   11.99%   \n",
       "9       28700.000    28700.000        28700.000   36 months    7.39%   \n",
       "10      13550.000    13550.000        13550.000   36 months   10.75%   \n",
       "11      22875.000    22875.000        22875.000   60 months   17.27%   \n",
       "12      33600.000    33600.000        33600.000   36 months   10.75%   \n",
       "13       4400.000     4400.000         4400.000   36 months    9.75%   \n",
       "14      25000.000    25000.000        25000.000   36 months   11.99%   \n",
       "15      25200.000    25200.000        25200.000   36 months   11.99%   \n",
       "16       6000.000     6000.000         6000.000   36 months   12.99%   \n",
       "17      35000.000    35000.000        35000.000   36 months   17.27%   \n",
       "18      25200.000    25200.000        25200.000   36 months    7.39%   \n",
       "19       8200.000     8200.000         8200.000   36 months    5.32%   \n",
       "20       3000.000     3000.000         3000.000   36 months   13.67%   \n",
       "21      15000.000    15000.000        15000.000   36 months   11.47%   \n",
       "22       2000.000     2000.000         1950.000   36 months   22.45%   \n",
       "23      21000.000    21000.000        21000.000   36 months    7.89%   \n",
       "24       8000.000     8000.000         8000.000   36 months    5.32%   \n",
       "25       6000.000     6000.000         6000.000   36 months   13.67%   \n",
       "26       6000.000     6000.000         6000.000   36 months    7.39%   \n",
       "27       5800.000     5800.000         5800.000   36 months   12.99%   \n",
       "28       9600.000     9600.000         9550.000   36 months   23.13%   \n",
       "29       6400.000     6400.000         6400.000   36 months   16.29%   \n",
       "...           ...          ...              ...         ...      ...   \n",
       "133857   5200.000     5200.000         5200.000   36 months   16.55%   \n",
       "133858  15000.000    15000.000        15000.000   36 months    6.89%   \n",
       "133859  19000.000    19000.000        18750.000   36 months   11.99%   \n",
       "133860  11000.000    11000.000        11000.000   36 months    9.17%   \n",
       "133861  10000.000    10000.000        10000.000   36 months   11.22%   \n",
       "133862   6000.000     6000.000         6000.000   36 months   11.99%   \n",
       "133863   4500.000     4500.000         4500.000   36 months    9.76%   \n",
       "133864   7500.000     7500.000         7500.000   36 months    9.76%   \n",
       "133865  34000.000    34000.000        34000.000   36 months    9.76%   \n",
       "133866  16800.000    16800.000        16800.000   36 months    7.26%   \n",
       "133867   8500.000     8500.000         8500.000   36 months   13.18%   \n",
       "133868  35000.000    35000.000        35000.000   60 months   18.99%   \n",
       "133869  12600.000    12600.000        12600.000   60 months   18.99%   \n",
       "133870  25000.000    25000.000        24800.000   36 months   18.99%   \n",
       "133871  12000.000    12000.000        12000.000   36 months    9.76%   \n",
       "133872   5000.000     5000.000         5000.000   36 months   13.18%   \n",
       "133873   5000.000     5000.000         5000.000   36 months   15.41%   \n",
       "133874  12950.000    12950.000        12950.000   36 months   15.41%   \n",
       "133875  24000.000    24000.000        24000.000   36 months    5.32%   \n",
       "133876  21175.000    21175.000        20925.000   60 months   19.99%   \n",
       "133877   6000.000     6000.000         6000.000   36 months   13.67%   \n",
       "133878   6000.000     6000.000         6000.000   36 months   26.77%   \n",
       "133879  24100.000    24100.000        24100.000   60 months   18.49%   \n",
       "133880   4000.000     4000.000         4000.000   36 months    9.17%   \n",
       "133881   5000.000     5000.000         5000.000   36 months    9.17%   \n",
       "133882   6000.000     6000.000         6000.000   36 months    9.17%   \n",
       "133883   6000.000     6000.000         6000.000   36 months    7.89%   \n",
       "133884  14400.000    14400.000        14400.000   60 months   13.18%   \n",
       "133885  34050.000    34050.000        34050.000   36 months   15.41%   \n",
       "133886   5000.000     5000.000         5000.000   36 months   11.22%   \n",
       "\n",
       "        installment grade home_ownership  annual_inc verification_status  \\\n",
       "0           814.410     C       MORTGAGE  150000.000     Source Verified   \n",
       "1           268.130     B           RENT   90000.000            Verified   \n",
       "2           329.620     B           RENT   35000.000     Source Verified   \n",
       "3           692.200     B       MORTGAGE  175000.000        Not Verified   \n",
       "4           950.420     E       MORTGAGE  195000.000            Verified   \n",
       "5           481.840     A           RENT  105000.000        Not Verified   \n",
       "6           306.450     A       MORTGAGE   70000.000     Source Verified   \n",
       "7           271.040     A       MORTGAGE   90000.000        Not Verified   \n",
       "8           265.680     C           RENT   80000.000     Source Verified   \n",
       "9           891.300     A            OWN  205000.000     Source Verified   \n",
       "10          442.010     B       MORTGAGE   79000.000     Source Verified   \n",
       "11          571.830     D           RENT   65000.000     Source Verified   \n",
       "12         1096.050     B           RENT  100000.000     Source Verified   \n",
       "13          141.460     B           RENT   33000.000            Verified   \n",
       "14          830.240     C           RENT  100000.000     Source Verified   \n",
       "15          836.890     C           RENT   76280.000            Verified   \n",
       "16          202.140     C       MORTGAGE   43000.000        Not Verified   \n",
       "17         1252.560     D           RENT  107000.000            Verified   \n",
       "18          782.610     A            OWN   53000.000     Source Verified   \n",
       "19          246.950     A       MORTGAGE   38000.000     Source Verified   \n",
       "20          102.060     C           RENT   90000.000     Source Verified   \n",
       "21          494.430     B       MORTGAGE   77100.000        Not Verified   \n",
       "22           76.850     E           RENT   38000.000     Source Verified   \n",
       "23          657.000     A       MORTGAGE  125000.000     Source Verified   \n",
       "24          240.920     A           RENT   80000.000        Not Verified   \n",
       "25          204.110     C           RENT   69000.000        Not Verified   \n",
       "26          186.340     A           RENT   32000.000     Source Verified   \n",
       "27          195.400     C           RENT   34000.000     Source Verified   \n",
       "28          372.270     F           RENT   30000.000     Source Verified   \n",
       "29          225.930     D           RENT   20000.000     Source Verified   \n",
       "...             ...   ...            ...         ...                 ...   \n",
       "133857      184.240     D           RENT   38000.000            Verified   \n",
       "133858      462.410     A            OWN  125000.000            Verified   \n",
       "133859      630.990     C           RENT   48000.000            Verified   \n",
       "133860      350.670     B       MORTGAGE   71000.000     Source Verified   \n",
       "133861      328.430     B            OWN   20800.000            Verified   \n",
       "133862      199.260     C           RENT   15000.000            Verified   \n",
       "133863      144.700     B            OWN   79000.000            Verified   \n",
       "133864      241.160     B           RENT   48000.000            Verified   \n",
       "133865     1093.260     B       MORTGAGE  179000.000            Verified   \n",
       "133866      520.740     A           RENT   62000.000            Verified   \n",
       "133867      287.140     C       MORTGAGE  180000.000     Source Verified   \n",
       "133868      907.730     E       MORTGAGE   90000.000            Verified   \n",
       "133869      326.790     E           RENT   35000.000            Verified   \n",
       "133870      916.280     E           RENT   62000.000            Verified   \n",
       "133871      385.860     B       MORTGAGE   61500.000            Verified   \n",
       "133872      168.910     C           RENT   42000.000     Source Verified   \n",
       "133873      174.340     D       MORTGAGE   60000.000     Source Verified   \n",
       "133874      451.530     D           RENT   36000.000            Verified   \n",
       "133875      722.760     A           RENT  100000.000            Verified   \n",
       "133876      560.900     E            OWN   56000.000     Source Verified   \n",
       "133877      204.110     C           RENT   85000.000            Verified   \n",
       "133878      244.220     G           RENT   20000.000            Verified   \n",
       "133879      618.430     E           RENT   65000.000     Source Verified   \n",
       "133880      127.520     B       MORTGAGE   46800.000     Source Verified   \n",
       "133881      159.400     B           RENT   33000.000        Not Verified   \n",
       "133882      191.280     B           RENT   32640.000        Not Verified   \n",
       "133883      187.720     A            OWN   38000.000     Source Verified   \n",
       "133884      328.980     C           RENT   47000.000            Verified   \n",
       "133885     1187.210     D       MORTGAGE   87800.000     Source Verified   \n",
       "133886      164.220     B       MORTGAGE   65000.000     Source Verified   \n",
       "\n",
       "         issue_d         loan_status pymnt_plan             purpose zip_code  \\\n",
       "0       Mar-2016             Current          n  debt_consolidation    140xx   \n",
       "1       Mar-2016             Current          n  debt_consolidation    773xx   \n",
       "2       Mar-2016             Current          n               other    913xx   \n",
       "3       Mar-2016             Current          n    home_improvement    481xx   \n",
       "4       Mar-2016          Fully Paid          n  debt_consolidation    871xx   \n",
       "5       Mar-2016          Fully Paid          n  debt_consolidation    206xx   \n",
       "6       Mar-2016             Current          n  debt_consolidation    478xx   \n",
       "7       Mar-2016          Fully Paid          n    home_improvement    581xx   \n",
       "8       Mar-2016     In Grace Period          n  debt_consolidation    325xx   \n",
       "9       Mar-2016          Fully Paid          n         credit_card    761xx   \n",
       "10      Mar-2016          Fully Paid          n         credit_card    743xx   \n",
       "11      Mar-2016          Fully Paid          n  debt_consolidation    871xx   \n",
       "12      Mar-2016             Current          n  debt_consolidation    100xx   \n",
       "13      Mar-2016          Fully Paid          n         credit_card    952xx   \n",
       "14      Mar-2016          Fully Paid          n  debt_consolidation    551xx   \n",
       "15      Mar-2016  Late (31-120 days)          n  debt_consolidation    850xx   \n",
       "16      Mar-2016             Current          n  debt_consolidation    211xx   \n",
       "17      Mar-2016             Current          n  debt_consolidation    900xx   \n",
       "18      Mar-2016             Current          n  debt_consolidation    656xx   \n",
       "19      Mar-2016          Fully Paid          n  debt_consolidation    851xx   \n",
       "20      Mar-2016             Current          n      small_business    334xx   \n",
       "21      Mar-2016             Current          n    home_improvement    740xx   \n",
       "22      Mar-2016          Fully Paid          n  debt_consolidation    299xx   \n",
       "23      Mar-2016             Current          n  debt_consolidation    760xx   \n",
       "24      Mar-2016          Fully Paid          n            vacation    370xx   \n",
       "25      Mar-2016             Current          n  debt_consolidation    330xx   \n",
       "26      Mar-2016          Fully Paid          n    home_improvement    945xx   \n",
       "27      Mar-2016          Fully Paid          n  debt_consolidation    554xx   \n",
       "28      Mar-2016             Current          n         credit_card    300xx   \n",
       "29      Mar-2016          Fully Paid          n  debt_consolidation    326xx   \n",
       "...          ...                 ...        ...                 ...      ...   \n",
       "133857  Jan-2016          Fully Paid          n                 car    890xx   \n",
       "133858  Jan-2016             Current          n  debt_consolidation    145xx   \n",
       "133859  Jan-2016          Fully Paid          n               other    075xx   \n",
       "133860  Jan-2016             Current          n  debt_consolidation    430xx   \n",
       "133861  Jan-2016             Current          n         credit_card    623xx   \n",
       "133862  Jan-2016             Current          n         credit_card    906xx   \n",
       "133863  Jan-2016             Current          n    home_improvement    198xx   \n",
       "133864  Jan-2016             Current          n  debt_consolidation    119xx   \n",
       "133865  Jan-2016             Current          n         credit_card    472xx   \n",
       "133866  Jan-2016          Fully Paid          n  debt_consolidation    328xx   \n",
       "133867  Jan-2016             Current          n      small_business    941xx   \n",
       "133868  Jan-2016          Fully Paid          n  debt_consolidation    291xx   \n",
       "133869  Jan-2016             Current          n  debt_consolidation    925xx   \n",
       "133870  Jan-2016         Charged Off          n  debt_consolidation    331xx   \n",
       "133871  Jan-2016             Current          n  debt_consolidation    228xx   \n",
       "133872  Jan-2016          Fully Paid          n                 car    551xx   \n",
       "133873  Jan-2016         Charged Off          n  debt_consolidation    292xx   \n",
       "133874  Jan-2016             Current          n  debt_consolidation    622xx   \n",
       "133875  Jan-2016             Current          n  debt_consolidation    672xx   \n",
       "133876  Jan-2016             Current          n  debt_consolidation    751xx   \n",
       "133877  Jan-2016          Fully Paid          n              moving    104xx   \n",
       "133878  Jan-2016         Charged Off          n  debt_consolidation    302xx   \n",
       "133879  Jan-2016         Charged Off          n  debt_consolidation    293xx   \n",
       "133880  Jan-2016          Fully Paid          n         credit_card    554xx   \n",
       "133881  Jan-2016             Current          n  debt_consolidation    926xx   \n",
       "133882  Jan-2016             Current          n  debt_consolidation    600xx   \n",
       "133883  Jan-2016             Current          n         credit_card    432xx   \n",
       "133884  Jan-2016             Current          n         credit_card    531xx   \n",
       "133885  Jan-2016             Current          n         credit_card    212xx   \n",
       "133886  Jan-2016             Current          n    home_improvement    201xx   \n",
       "\n",
       "       addr_state new_loan_status  \n",
       "0              NY            Good  \n",
       "1              TX            Good  \n",
       "2              CA            Good  \n",
       "3              MI            Good  \n",
       "4              NM            Good  \n",
       "5              MD            Good  \n",
       "6              IN            Good  \n",
       "7              ND            Good  \n",
       "8              FL             Bad  \n",
       "9              TX            Good  \n",
       "10             OK            Good  \n",
       "11             NM            Good  \n",
       "12             NY            Good  \n",
       "13             CA            Good  \n",
       "14             PA            Good  \n",
       "15             AZ             Bad  \n",
       "16             MD            Good  \n",
       "17             CA            Good  \n",
       "18             MO            Good  \n",
       "19             AZ            Good  \n",
       "20             FL            Good  \n",
       "21             OK            Good  \n",
       "22             SC            Good  \n",
       "23             TX            Good  \n",
       "24             TN            Good  \n",
       "25             FL            Good  \n",
       "26             CA            Good  \n",
       "27             MN            Good  \n",
       "28             GA            Good  \n",
       "29             FL            Good  \n",
       "...           ...             ...  \n",
       "133857         NV            Good  \n",
       "133858         NY            Good  \n",
       "133859         NJ            Good  \n",
       "133860         OH            Good  \n",
       "133861         IL            Good  \n",
       "133862         CA            Good  \n",
       "133863         DE            Good  \n",
       "133864         NY            Good  \n",
       "133865         IN            Good  \n",
       "133866         FL            Good  \n",
       "133867         CA            Good  \n",
       "133868         SC            Good  \n",
       "133869         CA            Good  \n",
       "133870         FL             Bad  \n",
       "133871         VA            Good  \n",
       "133872         MN            Good  \n",
       "133873         SC             Bad  \n",
       "133874         IL            Good  \n",
       "133875         KS            Good  \n",
       "133876         TX            Good  \n",
       "133877         NY            Good  \n",
       "133878         GA             Bad  \n",
       "133879         SC             Bad  \n",
       "133880         MN            Good  \n",
       "133881         CA            Good  \n",
       "133882         IL            Good  \n",
       "133883         OH            Good  \n",
       "133884         WI            Good  \n",
       "133885         MD            Good  \n",
       "133886         VA            Good  \n",
       "\n",
       "[133887 rows x 17 columns]"
      ]
     },
     "execution_count": 140,
     "metadata": {},
     "output_type": "execute_result"
    }
   ],
   "source": [
    "df_select"
   ]
  },
  {
   "cell_type": "code",
   "execution_count": 141,
   "metadata": {},
   "outputs": [
    {
     "data": {
      "text/plain": [
       "Good    113587\n",
       "Bad      20300\n",
       "Name: new_loan_status, dtype: int64"
      ]
     },
     "execution_count": 141,
     "metadata": {},
     "output_type": "execute_result"
    }
   ],
   "source": [
    "df_select['new_loan_status'].value_counts()"
   ]
  },
  {
   "cell_type": "code",
   "execution_count": 199,
   "metadata": {},
   "outputs": [
    {
     "data": {
      "text/plain": [
       "Text(0,0.5,'Frequency')"
      ]
     },
     "execution_count": 199,
     "metadata": {},
     "output_type": "execute_result"
    },
    {
     "data": {
      "image/png": "[encoded data removed]",
      "text/plain": [
       "<matplotlib.figure.Figure at 0x12bdc19e8>"
      ]
     },
     "metadata": {},
     "output_type": "display_data"
    }
   ],
   "source": [
    "df_select['new_loan_status'].value_counts().plot(kind='bar', rot=0, figsize = (12,8))\n",
    "plt.title('Frequancy Plot for Loan Status')\n",
    "plt.xlabel('Loan Status')\n",
    "plt.ylabel('Frequency')"
   ]
  },
  {
   "cell_type": "code",
   "execution_count": 200,
   "metadata": {},
   "outputs": [
    {
     "data": {
      "text/plain": [
       "Text(0.5,1,'Loan Status vs Loan Amount')"
      ]
     },
     "execution_count": 200,
     "metadata": {},
     "output_type": "execute_result"
    },
    {
     "data": {
      "image/png": "[encoded data removed]",
      "text/plain": [
       "<matplotlib.figure.Figure at 0x1283d2a90>"
      ]
     },
     "metadata": {},
     "output_type": "display_data"
    }
   ],
   "source": [
    "import seaborn as sns\n",
    "plt.figure(figsize=(12,10))\n",
    "sns.boxplot(x=\"new_loan_status\", y = \"loan_amnt\", data = df_select)\n",
    "plt.title('Loan Status vs Loan Amount')"
   ]
  },
  {
   "cell_type": "code",
   "execution_count": 142,
   "metadata": {},
   "outputs": [
    {
     "data": {
      "text/plain": [
       "<matplotlib.axes._subplots.AxesSubplot at 0x1189c1ba8>"
      ]
     },
     "execution_count": 142,
     "metadata": {},
     "output_type": "execute_result"
    },
    {
     "data": {
      "image/png": "[encoded data removed]",
      "text/plain": [
       "<matplotlib.figure.Figure at 0x1189c1a58>"
      ]
     },
     "metadata": {},
     "output_type": "display_data"
    }
   ],
   "source": [
    "df_select.annual_inc.plot(kind = \"box\", figsize = (12,8))"
   ]
  },
  {
   "cell_type": "code",
   "execution_count": 143,
   "metadata": {},
   "outputs": [],
   "source": [
    "df_select['new_annual_inc'] = df_select['annual_inc']"
   ]
  },
  {
   "cell_type": "code",
   "execution_count": 144,
   "metadata": {},
   "outputs": [],
   "source": [
    "a = np.percentile(df_select.new_annual_inc, 90)"
   ]
  },
  {
   "cell_type": "code",
   "execution_count": 145,
   "metadata": {},
   "outputs": [],
   "source": [
    "df_select.new_annual_inc = np.where(df_select.new_annual_inc > a, a, df_select.new_annual_inc)"
   ]
  },
  {
   "cell_type": "code",
   "execution_count": 202,
   "metadata": {},
   "outputs": [
    {
     "data": {
      "text/plain": [
       "Text(0.5,1,'Boxplot of Annual Income')"
      ]
     },
     "execution_count": 202,
     "metadata": {},
     "output_type": "execute_result"
    },
    {
     "data": {
      "image/png": "[encoded data removed]",
      "text/plain": [
       "<matplotlib.figure.Figure at 0x113265be0>"
      ]
     },
     "metadata": {},
     "output_type": "display_data"
    }
   ],
   "source": [
    "df_select.new_annual_inc.plot(kind = \"box\", figsize = (12,8))\n",
    "plt.title('Boxplot of Annual Income')"
   ]
  },
  {
   "cell_type": "code",
   "execution_count": 201,
   "metadata": {},
   "outputs": [
    {
     "data": {
      "text/plain": [
       "Text(0.5,1,'Annual Income vs Grade')"
      ]
     },
     "execution_count": 201,
     "metadata": {},
     "output_type": "execute_result"
    },
    {
     "data": {
      "image/png": "[encoded data removed]",
      "text/plain": [
       "<matplotlib.figure.Figure at 0x117dc7b70>"
      ]
     },
     "metadata": {},
     "output_type": "display_data"
    }
   ],
   "source": [
    "plt.figure(figsize=(12,10))\n",
    "sns.boxplot(x=\"grade\", y = \"new_annual_inc\", data = df_select)\n",
    "plt.title('Annual Income vs Grade')"
   ]
  },
  {
   "cell_type": "code",
   "execution_count": 205,
   "metadata": {},
   "outputs": [
    {
     "data": {
      "text/plain": [
       "Text(0.5,1,'Annual Income vs Interest Rate')"
      ]
     },
     "execution_count": 205,
     "metadata": {},
     "output_type": "execute_result"
    },
    {
     "data": {
      "image/png": "[encoded data removed]",
      "text/plain": [
       "<matplotlib.figure.Figure at 0x129b63a90>"
      ]
     },
     "metadata": {},
     "output_type": "display_data"
    }
   ],
   "source": [
    "plt.figure(figsize=(20,15))\n",
    "sns.boxplot(x=\"int_rate\", y = \"new_annual_inc\", data = df_select)\n",
    "plt.title('Annual Income vs Interest Rate')"
   ]
  },
  {
   "cell_type": "code",
   "execution_count": 147,
   "metadata": {},
   "outputs": [
    {
     "data": {
      "text/plain": [
       "count   133887.000\n",
       "mean     73676.920\n",
       "std      32196.940\n",
       "min          0.000\n",
       "25%      49500.000\n",
       "50%      68000.000\n",
       "75%      95008.000\n",
       "max     133000.000\n",
       "Name: new_annual_inc, dtype: float64"
      ]
     },
     "execution_count": 147,
     "metadata": {},
     "output_type": "execute_result"
    }
   ],
   "source": [
    "df_select['new_annual_inc'].describe()"
   ]
  },
  {
   "cell_type": "code",
   "execution_count": 148,
   "metadata": {},
   "outputs": [
    {
     "data": {
      "text/plain": [
       "Index(['loan_amnt', 'funded_amnt', 'funded_amnt_inv', 'term', 'int_rate',\n",
       "       'installment', 'grade', 'home_ownership', 'annual_inc',\n",
       "       'verification_status', 'issue_d', 'loan_status', 'pymnt_plan',\n",
       "       'purpose', 'zip_code', 'addr_state', 'new_loan_status',\n",
       "       'new_annual_inc'],\n",
       "      dtype='object')"
      ]
     },
     "execution_count": 148,
     "metadata": {},
     "output_type": "execute_result"
    }
   ],
   "source": [
    "df_select.columns"
   ]
  },
  {
   "cell_type": "code",
   "execution_count": 208,
   "metadata": {},
   "outputs": [
    {
     "data": {
      "text/plain": [
       "(133887, 18)"
      ]
     },
     "execution_count": 208,
     "metadata": {},
     "output_type": "execute_result"
    }
   ],
   "source": [
    "df_select.shape"
   ]
  },
  {
   "cell_type": "markdown",
   "metadata": {},
   "source": [
    "# Building Models"
   ]
  },
  {
   "cell_type": "code",
   "execution_count": 149,
   "metadata": {},
   "outputs": [],
   "source": [
    "df_final = df_select.drop(['funded_amnt', 'funded_amnt_inv', 'loan_status', 'issue_d', 'zip_code', 'addr_state', 'annual_inc'], axis =1)"
   ]
  },
  {
   "cell_type": "code",
   "execution_count": 150,
   "metadata": {},
   "outputs": [],
   "source": [
    "df_final.int_rate = df_final.int_rate.str.replace(\"%\", \"\").astype(\"float\")"
   ]
  },
  {
   "cell_type": "code",
   "execution_count": 207,
   "metadata": {},
   "outputs": [
    {
     "data": {
      "text/html": [
       "<div>\n",
       "<style scoped>\n",
       "    .dataframe tbody tr th:only-of-type {\n",
       "        vertical-align: middle;\n",
       "    }\n",
       "\n",
       "    .dataframe tbody tr th {\n",
       "        vertical-align: top;\n",
       "    }\n",
       "\n",
       "    .dataframe thead th {\n",
       "        text-align: right;\n",
       "    }\n",
       "</style>\n",
       "<table border=\"1\" class=\"dataframe\">\n",
       "  <thead>\n",
       "    <tr style=\"text-align: right;\">\n",
       "      <th></th>\n",
       "      <th>loan_amnt</th>\n",
       "      <th>term</th>\n",
       "      <th>int_rate</th>\n",
       "      <th>installment</th>\n",
       "      <th>grade</th>\n",
       "      <th>home_ownership</th>\n",
       "      <th>verification_status</th>\n",
       "      <th>pymnt_plan</th>\n",
       "      <th>purpose</th>\n",
       "      <th>new_loan_status</th>\n",
       "      <th>new_annual_inc</th>\n",
       "    </tr>\n",
       "  </thead>\n",
       "  <tbody>\n",
       "    <tr>\n",
       "      <th>0</th>\n",
       "      <td>34000.000</td>\n",
       "      <td>60 months</td>\n",
       "      <td>15.310</td>\n",
       "      <td>814.410</td>\n",
       "      <td>C</td>\n",
       "      <td>MORTGAGE</td>\n",
       "      <td>Source Verified</td>\n",
       "      <td>n</td>\n",
       "      <td>debt_consolidation</td>\n",
       "      <td>Good</td>\n",
       "      <td>133000.000</td>\n",
       "    </tr>\n",
       "    <tr>\n",
       "      <th>1</th>\n",
       "      <td>12200.000</td>\n",
       "      <td>60 months</td>\n",
       "      <td>11.470</td>\n",
       "      <td>268.130</td>\n",
       "      <td>B</td>\n",
       "      <td>RENT</td>\n",
       "      <td>Verified</td>\n",
       "      <td>n</td>\n",
       "      <td>debt_consolidation</td>\n",
       "      <td>Good</td>\n",
       "      <td>90000.000</td>\n",
       "    </tr>\n",
       "    <tr>\n",
       "      <th>2</th>\n",
       "      <td>10000.000</td>\n",
       "      <td>36 months</td>\n",
       "      <td>11.470</td>\n",
       "      <td>329.620</td>\n",
       "      <td>B</td>\n",
       "      <td>RENT</td>\n",
       "      <td>Source Verified</td>\n",
       "      <td>n</td>\n",
       "      <td>other</td>\n",
       "      <td>Good</td>\n",
       "      <td>35000.000</td>\n",
       "    </tr>\n",
       "    <tr>\n",
       "      <th>3</th>\n",
       "      <td>21000.000</td>\n",
       "      <td>36 months</td>\n",
       "      <td>11.470</td>\n",
       "      <td>692.200</td>\n",
       "      <td>B</td>\n",
       "      <td>MORTGAGE</td>\n",
       "      <td>Not Verified</td>\n",
       "      <td>n</td>\n",
       "      <td>home_improvement</td>\n",
       "      <td>Good</td>\n",
       "      <td>133000.000</td>\n",
       "    </tr>\n",
       "    <tr>\n",
       "      <th>4</th>\n",
       "      <td>35000.000</td>\n",
       "      <td>60 months</td>\n",
       "      <td>21.180</td>\n",
       "      <td>950.420</td>\n",
       "      <td>E</td>\n",
       "      <td>MORTGAGE</td>\n",
       "      <td>Verified</td>\n",
       "      <td>n</td>\n",
       "      <td>debt_consolidation</td>\n",
       "      <td>Good</td>\n",
       "      <td>133000.000</td>\n",
       "    </tr>\n",
       "  </tbody>\n",
       "</table>\n",
       "</div>"
      ],
      "text/plain": [
       "   loan_amnt        term  int_rate  installment grade home_ownership  \\\n",
       "0  34000.000   60 months    15.310      814.410     C       MORTGAGE   \n",
       "1  12200.000   60 months    11.470      268.130     B           RENT   \n",
       "2  10000.000   36 months    11.470      329.620     B           RENT   \n",
       "3  21000.000   36 months    11.470      692.200     B       MORTGAGE   \n",
       "4  35000.000   60 months    21.180      950.420     E       MORTGAGE   \n",
       "\n",
       "  verification_status pymnt_plan             purpose new_loan_status  \\\n",
       "0     Source Verified          n  debt_consolidation            Good   \n",
       "1            Verified          n  debt_consolidation            Good   \n",
       "2     Source Verified          n               other            Good   \n",
       "3        Not Verified          n    home_improvement            Good   \n",
       "4            Verified          n  debt_consolidation            Good   \n",
       "\n",
       "   new_annual_inc  \n",
       "0      133000.000  \n",
       "1       90000.000  \n",
       "2       35000.000  \n",
       "3      133000.000  \n",
       "4      133000.000  "
      ]
     },
     "execution_count": 207,
     "metadata": {},
     "output_type": "execute_result"
    }
   ],
   "source": [
    "df_final.head()"
   ]
  },
  {
   "cell_type": "code",
   "execution_count": 152,
   "metadata": {},
   "outputs": [],
   "source": [
    "from sklearn.preprocessing import LabelEncoder, OneHotEncoder\n",
    "from sklearn.model_selection import train_test_split\n",
    "from sklearn.tree import DecisionTreeClassifier\n",
    "from sklearn.metrics import confusion_matrix\n",
    "from sklearn.metrics import roc_curve, roc_auc_score\n",
    "from sklearn.metrics import f1_score\n",
    "from sklearn.metrics import accuracy_score\n",
    "from imblearn.under_sampling import NearMiss\n",
    "from sklearn.linear_model import LogisticRegression\n",
    "from sklearn.ensemble import RandomForestClassifier\n",
    "from sklearn.ensemble import BaggingClassifier"
   ]
  },
  {
   "cell_type": "code",
   "execution_count": 153,
   "metadata": {},
   "outputs": [],
   "source": [
    "X = df_final.iloc[:, [0,1,2,3,4,5,6,7,8,10]].values\n",
    "y = df_final.loc[:, \"new_loan_status\"].values"
   ]
  },
  {
   "cell_type": "code",
   "execution_count": 154,
   "metadata": {},
   "outputs": [],
   "source": [
    "label_encoder_term = LabelEncoder()\n",
    "label_encoder_grade = LabelEncoder()\n",
    "label_encoder_ho = LabelEncoder()\n",
    "label_encoder_vs = LabelEncoder()\n",
    "label_encoder_pp = LabelEncoder()\n",
    "label_encoder_purpose = LabelEncoder()\n",
    "label_encoder_ls = LabelEncoder()\n",
    "\n",
    "label_encoder_term.fit(X[:,1]) #never enter multiple column here, it doesn't work\n",
    "X[:,1] = label_encoder_term.transform(X[:,1])\n",
    "\n",
    "label_encoder_grade.fit(X[:,4]) #never enter multiple column here, it doesn't work\n",
    "X[:,4] = label_encoder_grade.transform(X[:,4])\n",
    "\n",
    "label_encoder_ho.fit(X[:,5]) #never enter multiple column here, it doesn't work\n",
    "X[:,5] = label_encoder_ho.transform(X[:,5])\n",
    "\n",
    "label_encoder_vs.fit(X[:,6]) #never enter multiple column here, it doesn't work\n",
    "X[:,6] = label_encoder_vs.transform(X[:,6])\n",
    "\n",
    "label_encoder_pp.fit(X[:,7]) #never enter multiple column here, it doesn't work\n",
    "X[:,7] = label_encoder_pp.transform(X[:,7])\n",
    "\n",
    "label_encoder_purpose.fit(X[:,8]) #never enter multiple column here, it doesn't work\n",
    "X[:,8] = label_encoder_purpose.transform(X[:,8])\n"
   ]
  },
  {
   "cell_type": "code",
   "execution_count": 155,
   "metadata": {},
   "outputs": [],
   "source": [
    "one_hot_encoder = OneHotEncoder(categorical_features=[1,4,5,6,7,8], sparse=False)\n",
    "one_hot_encoder.fit(X)\n",
    "X= one_hot_encoder.transform(X)\n",
    "\n",
    "X = np.delete(X, one_hot_encoder.feature_indices_[ : -1], 1)"
   ]
  },
  {
   "cell_type": "code",
   "execution_count": 156,
   "metadata": {},
   "outputs": [],
   "source": [
    "label_encoder_purpose.fit(y) #never enter multiple column here, it doesn't work\n",
    "y = label_encoder_purpose.transform(y)"
   ]
  },
  {
   "cell_type": "code",
   "execution_count": 30,
   "metadata": {},
   "outputs": [],
   "source": [
    "X_train, X_test, y_train, y_test = train_test_split(X, y, test_size =0.2, random_state = 0 ) "
   ]
  },
  {
   "cell_type": "code",
   "execution_count": 31,
   "metadata": {},
   "outputs": [
    {
     "data": {
      "text/plain": [
       "LogisticRegression(C=1.0, class_weight=None, dual=False, fit_intercept=True,\n",
       "          intercept_scaling=1, max_iter=100, multi_class='ovr', n_jobs=1,\n",
       "          penalty='l2', random_state=None, solver='liblinear', tol=0.0001,\n",
       "          verbose=0, warm_start=False)"
      ]
     },
     "execution_count": 31,
     "metadata": {},
     "output_type": "execute_result"
    }
   ],
   "source": [
    "glm_model = LogisticRegression()\n",
    "glm_model.fit(X_train, y_train)"
   ]
  },
  {
   "cell_type": "code",
   "execution_count": 32,
   "metadata": {},
   "outputs": [],
   "source": [
    "y_pred = glm_model.predict(X_test)\n",
    "y_pred_prob = glm_model.predict_proba(X_test) [:, 1]"
   ]
  },
  {
   "cell_type": "code",
   "execution_count": 33,
   "metadata": {},
   "outputs": [
    {
     "data": {
      "image/png": "[encoded data removed]",
      "text/plain": [
       "<matplotlib.figure.Figure at 0x10fed2d30>"
      ]
     },
     "metadata": {},
     "output_type": "display_data"
    }
   ],
   "source": [
    "fpr, tpr, threshold = roc_curve(y_test, y_pred_prob)\n",
    "auc_score = roc_auc_score(y_test, y_pred_prob)\n",
    "plt.title('Receiving Operating Characteristics')\n",
    "plt.plot(fpr, tpr, 'b', label = 'AUC = %0.2f'%auc_score)\n",
    "plt.legend(loc = 'lower right')\n",
    "plt.plot([0,1], [0,1], 'r--')\n",
    "plt.xlim([0,1])\n",
    "plt.ylim([0,1])\n",
    "plt.xlabel('False Positive Rate')\n",
    "plt.ylabel('True Positive Rate')\n",
    "plt.show()"
   ]
  },
  {
   "cell_type": "code",
   "execution_count": 34,
   "metadata": {},
   "outputs": [
    {
     "data": {
      "text/plain": [
       "DecisionTreeClassifier(class_weight=None, criterion='gini', max_depth=None,\n",
       "            max_features=None, max_leaf_nodes=None,\n",
       "            min_impurity_decrease=0.0, min_impurity_split=None,\n",
       "            min_samples_leaf=1, min_samples_split=2,\n",
       "            min_weight_fraction_leaf=0.0, presort=False, random_state=None,\n",
       "            splitter='best')"
      ]
     },
     "execution_count": 34,
     "metadata": {},
     "output_type": "execute_result"
    }
   ],
   "source": [
    "dtc_model = DecisionTreeClassifier()\n",
    "dtc_model.fit(X_train, y_train)"
   ]
  },
  {
   "cell_type": "code",
   "execution_count": 35,
   "metadata": {},
   "outputs": [],
   "source": [
    "y_pred_dtc = dtc_model.predict(X_test)\n",
    "y_pred_prob_dtc = dtc_model.predict_proba(X_test) [:, 1]"
   ]
  },
  {
   "cell_type": "code",
   "execution_count": 36,
   "metadata": {},
   "outputs": [
    {
     "data": {
      "image/png": "[encoded data removed]",
      "text/plain": [
       "<matplotlib.figure.Figure at 0x12b6d9d30>"
      ]
     },
     "metadata": {},
     "output_type": "display_data"
    }
   ],
   "source": [
    "fpr, tpr, threshold = roc_curve(y_test, y_pred_prob_dtc)\n",
    "auc_score = roc_auc_score(y_test, y_pred_prob_dtc)\n",
    "plt.title('Receiving Operating Characteristics')\n",
    "plt.plot(fpr, tpr, 'b', label = 'AUC = %0.2f'%auc_score)\n",
    "plt.legend(loc = 'lower right')\n",
    "plt.plot([0,1], [0,1], 'r--')\n",
    "plt.xlim([0,1])\n",
    "plt.ylim([0,1])\n",
    "plt.xlabel('False Positive Rate')\n",
    "plt.ylabel('True Positive Rate')\n",
    "plt.show()"
   ]
  },
  {
   "cell_type": "code",
   "execution_count": 38,
   "metadata": {},
   "outputs": [
    {
     "data": {
      "text/plain": [
       "RandomForestClassifier(bootstrap=True, class_weight=None, criterion='gini',\n",
       "            max_depth=None, max_features='auto', max_leaf_nodes=None,\n",
       "            min_impurity_decrease=0.0, min_impurity_split=None,\n",
       "            min_samples_leaf=1, min_samples_split=2,\n",
       "            min_weight_fraction_leaf=0.0, n_estimators=1000, n_jobs=1,\n",
       "            oob_score=False, random_state=None, verbose=0,\n",
       "            warm_start=False)"
      ]
     },
     "execution_count": 38,
     "metadata": {},
     "output_type": "execute_result"
    }
   ],
   "source": [
    "rf_model = RandomForestClassifier(n_estimators=1000)\n",
    "rf_model.fit(X_train, y_train)"
   ]
  },
  {
   "cell_type": "code",
   "execution_count": 39,
   "metadata": {},
   "outputs": [],
   "source": [
    "y_pred_rf = rf_model.predict(X_test)\n",
    "y_pred_prob_rf = rf_model.predict_proba(X_test) [:, 1]"
   ]
  },
  {
   "cell_type": "code",
   "execution_count": 40,
   "metadata": {},
   "outputs": [
    {
     "data": {
      "image/png": "[encoded data removed]",
      "text/plain": [
       "<matplotlib.figure.Figure at 0x12a376d30>"
      ]
     },
     "metadata": {},
     "output_type": "display_data"
    }
   ],
   "source": [
    "fpr, tpr, threshold = roc_curve(y_test, y_pred_prob_rf)\n",
    "auc_score = roc_auc_score(y_test, y_pred_prob_rf)\n",
    "plt.title('Receiving Operating Characteristics')\n",
    "plt.plot(fpr, tpr, 'b', label = 'AUC = %0.2f'%auc_score)\n",
    "plt.legend(loc = 'lower right')\n",
    "plt.plot([0,1], [0,1], 'r--')\n",
    "plt.xlim([0,1])\n",
    "plt.ylim([0,1])\n",
    "plt.xlabel('False Positive Rate')\n",
    "plt.ylabel('True Positive Rate')\n",
    "plt.show()"
   ]
  },
  {
   "cell_type": "code",
   "execution_count": 41,
   "metadata": {},
   "outputs": [
    {
     "data": {
      "text/plain": [
       "AdaBoostClassifier(algorithm='SAMME.R', base_estimator=None,\n",
       "          learning_rate=1.0, n_estimators=50, random_state=None)"
      ]
     },
     "execution_count": 41,
     "metadata": {},
     "output_type": "execute_result"
    }
   ],
   "source": [
    "from sklearn.ensemble import AdaBoostClassifier\n",
    "\n",
    "ada_boost_model = AdaBoostClassifier()\n",
    "ada_boost_model.fit(X_train, y_train)"
   ]
  },
  {
   "cell_type": "code",
   "execution_count": 42,
   "metadata": {},
   "outputs": [],
   "source": [
    "y_pred_ada = ada_boost_model.predict(X_test)\n",
    "y_pred_prob_ada = ada_boost_model.predict_proba(X_test) [:, 1]"
   ]
  },
  {
   "cell_type": "code",
   "execution_count": 43,
   "metadata": {},
   "outputs": [
    {
     "data": {
      "image/png": "[encoded data removed]",
      "text/plain": [
       "<matplotlib.figure.Figure at 0x12abaccc0>"
      ]
     },
     "metadata": {},
     "output_type": "display_data"
    }
   ],
   "source": [
    "fpr, tpr, threshold = roc_curve(y_test, y_pred_prob_ada)\n",
    "auc_score = roc_auc_score(y_test, y_pred_prob_ada)\n",
    "plt.title('Receiving Operating Characteristics')\n",
    "plt.plot(fpr, tpr, 'b', label = 'AUC = %0.2f'%auc_score)\n",
    "plt.legend(loc = 'lower right')\n",
    "plt.plot([0,1], [0,1], 'r--')\n",
    "plt.xlim([0,1])\n",
    "plt.ylim([0,1])\n",
    "plt.xlabel('False Positive Rate')\n",
    "plt.ylabel('True Positive Rate')\n",
    "plt.show()"
   ]
  },
  {
   "cell_type": "code",
   "execution_count": 44,
   "metadata": {},
   "outputs": [
    {
     "data": {
      "text/plain": [
       "GradientBoostingClassifier(criterion='friedman_mse', init=None,\n",
       "              learning_rate=0.001, loss='deviance', max_depth=3,\n",
       "              max_features=None, max_leaf_nodes=None,\n",
       "              min_impurity_decrease=0.0, min_impurity_split=None,\n",
       "              min_samples_leaf=1, min_samples_split=2,\n",
       "              min_weight_fraction_leaf=0.0, n_estimators=100,\n",
       "              presort='auto', random_state=None, subsample=1.0, verbose=0,\n",
       "              warm_start=False)"
      ]
     },
     "execution_count": 44,
     "metadata": {},
     "output_type": "execute_result"
    }
   ],
   "source": [
    "from sklearn.ensemble import GradientBoostingClassifier\n",
    "\n",
    "gda_boost_model = GradientBoostingClassifier(learning_rate=0.001)\n",
    "gda_boost_model.fit(X_train, y_train)"
   ]
  },
  {
   "cell_type": "code",
   "execution_count": 45,
   "metadata": {},
   "outputs": [],
   "source": [
    "y_pred_gda = gda_boost_model.predict(X_test)\n",
    "y_pred_prob_gda = gda_boost_model.predict_proba(X_test) [:, 1]"
   ]
  },
  {
   "cell_type": "code",
   "execution_count": 46,
   "metadata": {},
   "outputs": [
    {
     "data": {
      "image/png": "[encoded data removed]",
      "text/plain": [
       "<matplotlib.figure.Figure at 0x12a5a0d68>"
      ]
     },
     "metadata": {},
     "output_type": "display_data"
    }
   ],
   "source": [
    "fpr, tpr, threshold = roc_curve(y_test, y_pred_prob_gda)\n",
    "auc_score = roc_auc_score(y_test, y_pred_prob_gda)\n",
    "plt.title('Receiving Operating Characteristics')\n",
    "plt.plot(fpr, tpr, 'b', label = 'AUC = %0.2f'%auc_score)\n",
    "plt.legend(loc = 'lower right')\n",
    "plt.plot([0,1], [0,1], 'r--')\n",
    "plt.xlim([0,1])\n",
    "plt.ylim([0,1])\n",
    "plt.xlabel('False Positive Rate')\n",
    "plt.ylabel('True Positive Rate')\n",
    "plt.show()"
   ]
  },
  {
   "cell_type": "code",
   "execution_count": 157,
   "metadata": {},
   "outputs": [],
   "source": [
    "under_sampling = NearMiss()\n",
    "X_new, y_new = under_sampling.fit_sample(X, y)"
   ]
  },
  {
   "cell_type": "code",
   "execution_count": 48,
   "metadata": {},
   "outputs": [],
   "source": [
    "X_train_new, X_test_new, y_train_new, y_test_new = train_test_split(X_new, y_new, test_size =0.2, random_state = 0 ) "
   ]
  },
  {
   "cell_type": "code",
   "execution_count": 49,
   "metadata": {},
   "outputs": [
    {
     "data": {
      "text/plain": [
       "AdaBoostClassifier(algorithm='SAMME.R', base_estimator=None,\n",
       "          learning_rate=1.0, n_estimators=50, random_state=None)"
      ]
     },
     "execution_count": 49,
     "metadata": {},
     "output_type": "execute_result"
    }
   ],
   "source": [
    "ada_boost_model_new = AdaBoostClassifier()\n",
    "ada_boost_model_new.fit(X_train_new, y_train_new)"
   ]
  },
  {
   "cell_type": "code",
   "execution_count": 50,
   "metadata": {},
   "outputs": [],
   "source": [
    "y_pred_ada_new = ada_boost_model_new.predict(X_test_new)\n",
    "y_pred_prob_ada_new = ada_boost_model_new.predict_proba(X_test_new) [:, 1]"
   ]
  },
  {
   "cell_type": "code",
   "execution_count": 51,
   "metadata": {},
   "outputs": [
    {
     "data": {
      "image/png": "[encoded data removed]",
      "text/plain": [
       "<matplotlib.figure.Figure at 0x12b5b7358>"
      ]
     },
     "metadata": {},
     "output_type": "display_data"
    }
   ],
   "source": [
    "fpr, tpr, threshold = roc_curve(y_test_new, y_pred_prob_ada_new)\n",
    "auc_score = roc_auc_score(y_test_new, y_pred_prob_ada_new)\n",
    "plt.title('Receiving Operating Characteristics')\n",
    "plt.plot(fpr, tpr, 'b', label = 'AUC = %0.2f'%auc_score)\n",
    "plt.legend(loc = 'lower right')\n",
    "plt.plot([0,1], [0,1], 'r--')\n",
    "plt.xlim([0,1])\n",
    "plt.ylim([0,1])\n",
    "plt.xlabel('False Positive Rate')\n",
    "plt.ylabel('True Positive Rate')\n",
    "plt.show()"
   ]
  },
  {
   "cell_type": "code",
   "execution_count": 52,
   "metadata": {},
   "outputs": [
    {
     "data": {
      "text/plain": [
       "BaggingClassifier(base_estimator=None, bootstrap=True,\n",
       "         bootstrap_features=False, max_features=1.0, max_samples=1.0,\n",
       "         n_estimators=10, n_jobs=1, oob_score=False, random_state=None,\n",
       "         verbose=0, warm_start=False)"
      ]
     },
     "execution_count": 52,
     "metadata": {},
     "output_type": "execute_result"
    }
   ],
   "source": [
    "bagging_model = BaggingClassifier()\n",
    "bagging_model.fit(X_train_new, y_train_new)"
   ]
  },
  {
   "cell_type": "code",
   "execution_count": 53,
   "metadata": {},
   "outputs": [],
   "source": [
    "y_pred_bagging = bagging_model.predict(X_test_new)\n",
    "y_pred_prob_bagging = bagging_model.predict_proba(X_test_new) [:, 1]"
   ]
  },
  {
   "cell_type": "code",
   "execution_count": 54,
   "metadata": {},
   "outputs": [
    {
     "data": {
      "image/png": "[encoded data removed]",
      "text/plain": [
       "<matplotlib.figure.Figure at 0x12b9b8fd0>"
      ]
     },
     "metadata": {},
     "output_type": "display_data"
    }
   ],
   "source": [
    "fpr, tpr, threshold = roc_curve(y_test_new, y_pred_prob_bagging)\n",
    "auc_score = roc_auc_score(y_test_new, y_pred_prob_bagging)\n",
    "plt.title('Receiving Operating Characteristics')\n",
    "plt.plot(fpr, tpr, 'b', label = 'AUC = %0.2f'%auc_score)\n",
    "plt.legend(loc = 'lower right')\n",
    "plt.plot([0,1], [0,1], 'r--')\n",
    "plt.xlim([0,1])\n",
    "plt.ylim([0,1])\n",
    "plt.xlabel('False Positive Rate')\n",
    "plt.ylabel('True Positive Rate')\n",
    "plt.show()"
   ]
  },
  {
   "cell_type": "code",
   "execution_count": 55,
   "metadata": {},
   "outputs": [
    {
     "data": {
      "text/plain": [
       "GaussianNB(priors=None)"
      ]
     },
     "execution_count": 55,
     "metadata": {},
     "output_type": "execute_result"
    }
   ],
   "source": [
    "from sklearn.naive_bayes import GaussianNB\n",
    "gnb_model = GaussianNB()\n",
    "gnb_model.fit(X_train_new, y_train_new)"
   ]
  },
  {
   "cell_type": "code",
   "execution_count": 56,
   "metadata": {},
   "outputs": [],
   "source": [
    "y_pred_gnb = gnb_model.predict(X_test_new)\n",
    "y_pred_prob_gnb = gnb_model.predict_proba(X_test_new) [:, 1]"
   ]
  },
  {
   "cell_type": "code",
   "execution_count": 57,
   "metadata": {},
   "outputs": [
    {
     "data": {
      "image/png": "[encoded data removed]",
      "text/plain": [
       "<matplotlib.figure.Figure at 0x12a376b38>"
      ]
     },
     "metadata": {},
     "output_type": "display_data"
    }
   ],
   "source": [
    "fpr, tpr, threshold = roc_curve(y_test_new, y_pred_prob_gnb)\n",
    "auc_score = roc_auc_score(y_test_new, y_pred_prob_gnb)\n",
    "plt.title('Receiving Operating Characteristics')\n",
    "plt.plot(fpr, tpr, 'b', label = 'AUC = %0.2f'%auc_score)\n",
    "plt.legend(loc = 'lower right')\n",
    "plt.plot([0,1], [0,1], 'r--')\n",
    "plt.xlim([0,1])\n",
    "plt.ylim([0,1])\n",
    "plt.xlabel('False Positive Rate')\n",
    "plt.ylabel('True Positive Rate')\n",
    "plt.show()"
   ]
  },
  {
   "cell_type": "markdown",
   "metadata": {},
   "source": [
    "# We observed that Adaptive Boosting gave us the best results. Hence, we will predict the 2016 Q2 data and train our model using Adaptive Boosting on Quarter 1 data. "
   ]
  },
  {
   "cell_type": "code",
   "execution_count": 158,
   "metadata": {},
   "outputs": [],
   "source": [
    "df_test = pd.read_csv('LoanStats_2016Q2.csv', engine = 'python', skipinitialspace=True, skiprows = 1)"
   ]
  },
  {
   "cell_type": "code",
   "execution_count": 159,
   "metadata": {},
   "outputs": [
    {
     "data": {
      "text/html": [
       "<div>\n",
       "<style scoped>\n",
       "    .dataframe tbody tr th:only-of-type {\n",
       "        vertical-align: middle;\n",
       "    }\n",
       "\n",
       "    .dataframe tbody tr th {\n",
       "        vertical-align: top;\n",
       "    }\n",
       "\n",
       "    .dataframe thead th {\n",
       "        text-align: right;\n",
       "    }\n",
       "</style>\n",
       "<table border=\"1\" class=\"dataframe\">\n",
       "  <thead>\n",
       "    <tr style=\"text-align: right;\">\n",
       "      <th></th>\n",
       "      <th>id</th>\n",
       "      <th>member_id</th>\n",
       "      <th>loan_amnt</th>\n",
       "      <th>funded_amnt</th>\n",
       "      <th>funded_amnt_inv</th>\n",
       "      <th>term</th>\n",
       "      <th>int_rate</th>\n",
       "      <th>installment</th>\n",
       "      <th>grade</th>\n",
       "      <th>sub_grade</th>\n",
       "      <th>...</th>\n",
       "      <th>hardship_payoff_balance_amount</th>\n",
       "      <th>hardship_last_payment_amount</th>\n",
       "      <th>disbursement_method</th>\n",
       "      <th>debt_settlement_flag</th>\n",
       "      <th>debt_settlement_flag_date</th>\n",
       "      <th>settlement_status</th>\n",
       "      <th>settlement_date</th>\n",
       "      <th>settlement_amount</th>\n",
       "      <th>settlement_percentage</th>\n",
       "      <th>settlement_term</th>\n",
       "    </tr>\n",
       "  </thead>\n",
       "  <tbody>\n",
       "    <tr>\n",
       "      <th>0</th>\n",
       "      <td>NaN</td>\n",
       "      <td>nan</td>\n",
       "      <td>12000.000</td>\n",
       "      <td>12000.000</td>\n",
       "      <td>12000.000</td>\n",
       "      <td>36 months</td>\n",
       "      <td>15.59%</td>\n",
       "      <td>419.460</td>\n",
       "      <td>C</td>\n",
       "      <td>C5</td>\n",
       "      <td>...</td>\n",
       "      <td>nan</td>\n",
       "      <td>nan</td>\n",
       "      <td>Cash</td>\n",
       "      <td>N</td>\n",
       "      <td>NaN</td>\n",
       "      <td>NaN</td>\n",
       "      <td>NaN</td>\n",
       "      <td>nan</td>\n",
       "      <td>nan</td>\n",
       "      <td>nan</td>\n",
       "    </tr>\n",
       "    <tr>\n",
       "      <th>1</th>\n",
       "      <td>NaN</td>\n",
       "      <td>nan</td>\n",
       "      <td>2000.000</td>\n",
       "      <td>2000.000</td>\n",
       "      <td>2000.000</td>\n",
       "      <td>36 months</td>\n",
       "      <td>16.99%</td>\n",
       "      <td>71.300</td>\n",
       "      <td>D</td>\n",
       "      <td>D1</td>\n",
       "      <td>...</td>\n",
       "      <td>nan</td>\n",
       "      <td>nan</td>\n",
       "      <td>Cash</td>\n",
       "      <td>N</td>\n",
       "      <td>NaN</td>\n",
       "      <td>NaN</td>\n",
       "      <td>NaN</td>\n",
       "      <td>nan</td>\n",
       "      <td>nan</td>\n",
       "      <td>nan</td>\n",
       "    </tr>\n",
       "    <tr>\n",
       "      <th>2</th>\n",
       "      <td>NaN</td>\n",
       "      <td>nan</td>\n",
       "      <td>10000.000</td>\n",
       "      <td>10000.000</td>\n",
       "      <td>10000.000</td>\n",
       "      <td>36 months</td>\n",
       "      <td>17.99%</td>\n",
       "      <td>361.480</td>\n",
       "      <td>D</td>\n",
       "      <td>D2</td>\n",
       "      <td>...</td>\n",
       "      <td>nan</td>\n",
       "      <td>nan</td>\n",
       "      <td>Cash</td>\n",
       "      <td>N</td>\n",
       "      <td>NaN</td>\n",
       "      <td>NaN</td>\n",
       "      <td>NaN</td>\n",
       "      <td>nan</td>\n",
       "      <td>nan</td>\n",
       "      <td>nan</td>\n",
       "    </tr>\n",
       "    <tr>\n",
       "      <th>3</th>\n",
       "      <td>NaN</td>\n",
       "      <td>nan</td>\n",
       "      <td>32000.000</td>\n",
       "      <td>32000.000</td>\n",
       "      <td>32000.000</td>\n",
       "      <td>36 months</td>\n",
       "      <td>13.99%</td>\n",
       "      <td>1093.530</td>\n",
       "      <td>C</td>\n",
       "      <td>C3</td>\n",
       "      <td>...</td>\n",
       "      <td>nan</td>\n",
       "      <td>nan</td>\n",
       "      <td>Cash</td>\n",
       "      <td>N</td>\n",
       "      <td>NaN</td>\n",
       "      <td>NaN</td>\n",
       "      <td>NaN</td>\n",
       "      <td>nan</td>\n",
       "      <td>nan</td>\n",
       "      <td>nan</td>\n",
       "    </tr>\n",
       "    <tr>\n",
       "      <th>4</th>\n",
       "      <td>NaN</td>\n",
       "      <td>nan</td>\n",
       "      <td>30000.000</td>\n",
       "      <td>30000.000</td>\n",
       "      <td>30000.000</td>\n",
       "      <td>60 months</td>\n",
       "      <td>24.49%</td>\n",
       "      <td>871.600</td>\n",
       "      <td>E</td>\n",
       "      <td>E3</td>\n",
       "      <td>...</td>\n",
       "      <td>nan</td>\n",
       "      <td>nan</td>\n",
       "      <td>Cash</td>\n",
       "      <td>N</td>\n",
       "      <td>NaN</td>\n",
       "      <td>NaN</td>\n",
       "      <td>NaN</td>\n",
       "      <td>nan</td>\n",
       "      <td>nan</td>\n",
       "      <td>nan</td>\n",
       "    </tr>\n",
       "  </tbody>\n",
       "</table>\n",
       "<p>5 rows × 145 columns</p>\n",
       "</div>"
      ],
      "text/plain": [
       "    id  member_id  loan_amnt  funded_amnt  funded_amnt_inv        term  \\\n",
       "0  NaN        nan  12000.000    12000.000        12000.000   36 months   \n",
       "1  NaN        nan   2000.000     2000.000         2000.000   36 months   \n",
       "2  NaN        nan  10000.000    10000.000        10000.000   36 months   \n",
       "3  NaN        nan  32000.000    32000.000        32000.000   36 months   \n",
       "4  NaN        nan  30000.000    30000.000        30000.000   60 months   \n",
       "\n",
       "  int_rate  installment grade sub_grade       ...        \\\n",
       "0   15.59%      419.460     C        C5       ...         \n",
       "1   16.99%       71.300     D        D1       ...         \n",
       "2   17.99%      361.480     D        D2       ...         \n",
       "3   13.99%     1093.530     C        C3       ...         \n",
       "4   24.49%      871.600     E        E3       ...         \n",
       "\n",
       "  hardship_payoff_balance_amount hardship_last_payment_amount  \\\n",
       "0                            nan                          nan   \n",
       "1                            nan                          nan   \n",
       "2                            nan                          nan   \n",
       "3                            nan                          nan   \n",
       "4                            nan                          nan   \n",
       "\n",
       "  disbursement_method  debt_settlement_flag debt_settlement_flag_date  \\\n",
       "0                Cash                     N                       NaN   \n",
       "1                Cash                     N                       NaN   \n",
       "2                Cash                     N                       NaN   \n",
       "3                Cash                     N                       NaN   \n",
       "4                Cash                     N                       NaN   \n",
       "\n",
       "  settlement_status settlement_date settlement_amount  settlement_percentage  \\\n",
       "0               NaN             NaN               nan                    nan   \n",
       "1               NaN             NaN               nan                    nan   \n",
       "2               NaN             NaN               nan                    nan   \n",
       "3               NaN             NaN               nan                    nan   \n",
       "4               NaN             NaN               nan                    nan   \n",
       "\n",
       "  settlement_term  \n",
       "0             nan  \n",
       "1             nan  \n",
       "2             nan  \n",
       "3             nan  \n",
       "4             nan  \n",
       "\n",
       "[5 rows x 145 columns]"
      ]
     },
     "execution_count": 159,
     "metadata": {},
     "output_type": "execute_result"
    }
   ],
   "source": [
    "df_test.head()"
   ]
  },
  {
   "cell_type": "code",
   "execution_count": 160,
   "metadata": {},
   "outputs": [],
   "source": [
    "df_test_select = df_test[['loan_amnt', 'term', 'int_rate', 'installment', 'grade', 'home_ownership'\n",
    "              , 'annual_inc', 'verification_status', 'loan_status', 'pymnt_plan', 'purpose']]"
   ]
  },
  {
   "cell_type": "code",
   "execution_count": 161,
   "metadata": {},
   "outputs": [
    {
     "name": "stderr",
     "output_type": "stream",
     "text": [
      "/anaconda3/lib/python3.6/site-packages/ipykernel_launcher.py:2: SettingWithCopyWarning: \n",
      "A value is trying to be set on a copy of a slice from a DataFrame.\n",
      "Try using .loc[row_indexer,col_indexer] = value instead\n",
      "\n",
      "See the caveats in the documentation: http://pandas.pydata.org/pandas-docs/stable/indexing.html#indexing-view-versus-copy\n",
      "  \n"
     ]
    }
   ],
   "source": [
    "df_test_select['new_loan_status'] = np.where(df_test_select['loan_status'] == 'Current', 'Good', \n",
    "         (np.where(df_test_select['loan_status'] == 'Fully Paid', 'Good','Bad')))"
   ]
  },
  {
   "cell_type": "code",
   "execution_count": 162,
   "metadata": {},
   "outputs": [
    {
     "data": {
      "text/html": [
       "<div>\n",
       "<style scoped>\n",
       "    .dataframe tbody tr th:only-of-type {\n",
       "        vertical-align: middle;\n",
       "    }\n",
       "\n",
       "    .dataframe tbody tr th {\n",
       "        vertical-align: top;\n",
       "    }\n",
       "\n",
       "    .dataframe thead th {\n",
       "        text-align: right;\n",
       "    }\n",
       "</style>\n",
       "<table border=\"1\" class=\"dataframe\">\n",
       "  <thead>\n",
       "    <tr style=\"text-align: right;\">\n",
       "      <th></th>\n",
       "      <th>loan_amnt</th>\n",
       "      <th>term</th>\n",
       "      <th>int_rate</th>\n",
       "      <th>installment</th>\n",
       "      <th>grade</th>\n",
       "      <th>home_ownership</th>\n",
       "      <th>annual_inc</th>\n",
       "      <th>verification_status</th>\n",
       "      <th>loan_status</th>\n",
       "      <th>pymnt_plan</th>\n",
       "      <th>purpose</th>\n",
       "      <th>new_loan_status</th>\n",
       "    </tr>\n",
       "  </thead>\n",
       "  <tbody>\n",
       "    <tr>\n",
       "      <th>0</th>\n",
       "      <td>12000.000</td>\n",
       "      <td>36 months</td>\n",
       "      <td>15.59%</td>\n",
       "      <td>419.460</td>\n",
       "      <td>C</td>\n",
       "      <td>MORTGAGE</td>\n",
       "      <td>70000.000</td>\n",
       "      <td>Verified</td>\n",
       "      <td>Current</td>\n",
       "      <td>n</td>\n",
       "      <td>debt_consolidation</td>\n",
       "      <td>Good</td>\n",
       "    </tr>\n",
       "    <tr>\n",
       "      <th>1</th>\n",
       "      <td>2000.000</td>\n",
       "      <td>36 months</td>\n",
       "      <td>16.99%</td>\n",
       "      <td>71.300</td>\n",
       "      <td>D</td>\n",
       "      <td>OWN</td>\n",
       "      <td>153000.000</td>\n",
       "      <td>Verified</td>\n",
       "      <td>Current</td>\n",
       "      <td>n</td>\n",
       "      <td>other</td>\n",
       "      <td>Good</td>\n",
       "    </tr>\n",
       "    <tr>\n",
       "      <th>2</th>\n",
       "      <td>10000.000</td>\n",
       "      <td>36 months</td>\n",
       "      <td>17.99%</td>\n",
       "      <td>361.480</td>\n",
       "      <td>D</td>\n",
       "      <td>RENT</td>\n",
       "      <td>41556.000</td>\n",
       "      <td>Verified</td>\n",
       "      <td>Fully Paid</td>\n",
       "      <td>n</td>\n",
       "      <td>debt_consolidation</td>\n",
       "      <td>Good</td>\n",
       "    </tr>\n",
       "    <tr>\n",
       "      <th>3</th>\n",
       "      <td>32000.000</td>\n",
       "      <td>36 months</td>\n",
       "      <td>13.99%</td>\n",
       "      <td>1093.530</td>\n",
       "      <td>C</td>\n",
       "      <td>MORTGAGE</td>\n",
       "      <td>110000.000</td>\n",
       "      <td>Verified</td>\n",
       "      <td>Current</td>\n",
       "      <td>n</td>\n",
       "      <td>debt_consolidation</td>\n",
       "      <td>Good</td>\n",
       "    </tr>\n",
       "    <tr>\n",
       "      <th>4</th>\n",
       "      <td>30000.000</td>\n",
       "      <td>60 months</td>\n",
       "      <td>24.49%</td>\n",
       "      <td>871.600</td>\n",
       "      <td>E</td>\n",
       "      <td>RENT</td>\n",
       "      <td>323000.000</td>\n",
       "      <td>Verified</td>\n",
       "      <td>Fully Paid</td>\n",
       "      <td>n</td>\n",
       "      <td>major_purchase</td>\n",
       "      <td>Good</td>\n",
       "    </tr>\n",
       "  </tbody>\n",
       "</table>\n",
       "</div>"
      ],
      "text/plain": [
       "   loan_amnt        term int_rate  installment grade home_ownership  \\\n",
       "0  12000.000   36 months   15.59%      419.460     C       MORTGAGE   \n",
       "1   2000.000   36 months   16.99%       71.300     D            OWN   \n",
       "2  10000.000   36 months   17.99%      361.480     D           RENT   \n",
       "3  32000.000   36 months   13.99%     1093.530     C       MORTGAGE   \n",
       "4  30000.000   60 months   24.49%      871.600     E           RENT   \n",
       "\n",
       "   annual_inc verification_status loan_status pymnt_plan             purpose  \\\n",
       "0   70000.000            Verified     Current          n  debt_consolidation   \n",
       "1  153000.000            Verified     Current          n               other   \n",
       "2   41556.000            Verified  Fully Paid          n  debt_consolidation   \n",
       "3  110000.000            Verified     Current          n  debt_consolidation   \n",
       "4  323000.000            Verified  Fully Paid          n      major_purchase   \n",
       "\n",
       "  new_loan_status  \n",
       "0            Good  \n",
       "1            Good  \n",
       "2            Good  \n",
       "3            Good  \n",
       "4            Good  "
      ]
     },
     "execution_count": 162,
     "metadata": {},
     "output_type": "execute_result"
    }
   ],
   "source": [
    "df_test_select.head()"
   ]
  },
  {
   "cell_type": "code",
   "execution_count": 163,
   "metadata": {},
   "outputs": [],
   "source": [
    "df_test_final = df_test_select.drop(['loan_status'], axis =1)"
   ]
  },
  {
   "cell_type": "code",
   "execution_count": 164,
   "metadata": {},
   "outputs": [],
   "source": [
    "df_test_final.int_rate = df_test_final.int_rate.str.replace(\"%\", \"\").astype(\"float\")"
   ]
  },
  {
   "cell_type": "code",
   "execution_count": 165,
   "metadata": {},
   "outputs": [
    {
     "data": {
      "text/html": [
       "<div>\n",
       "<style scoped>\n",
       "    .dataframe tbody tr th:only-of-type {\n",
       "        vertical-align: middle;\n",
       "    }\n",
       "\n",
       "    .dataframe tbody tr th {\n",
       "        vertical-align: top;\n",
       "    }\n",
       "\n",
       "    .dataframe thead th {\n",
       "        text-align: right;\n",
       "    }\n",
       "</style>\n",
       "<table border=\"1\" class=\"dataframe\">\n",
       "  <thead>\n",
       "    <tr style=\"text-align: right;\">\n",
       "      <th></th>\n",
       "      <th>loan_amnt</th>\n",
       "      <th>term</th>\n",
       "      <th>int_rate</th>\n",
       "      <th>installment</th>\n",
       "      <th>grade</th>\n",
       "      <th>home_ownership</th>\n",
       "      <th>annual_inc</th>\n",
       "      <th>verification_status</th>\n",
       "      <th>pymnt_plan</th>\n",
       "      <th>purpose</th>\n",
       "      <th>new_loan_status</th>\n",
       "    </tr>\n",
       "  </thead>\n",
       "  <tbody>\n",
       "    <tr>\n",
       "      <th>0</th>\n",
       "      <td>12000.000</td>\n",
       "      <td>36 months</td>\n",
       "      <td>15.590</td>\n",
       "      <td>419.460</td>\n",
       "      <td>C</td>\n",
       "      <td>MORTGAGE</td>\n",
       "      <td>70000.000</td>\n",
       "      <td>Verified</td>\n",
       "      <td>n</td>\n",
       "      <td>debt_consolidation</td>\n",
       "      <td>Good</td>\n",
       "    </tr>\n",
       "    <tr>\n",
       "      <th>1</th>\n",
       "      <td>2000.000</td>\n",
       "      <td>36 months</td>\n",
       "      <td>16.990</td>\n",
       "      <td>71.300</td>\n",
       "      <td>D</td>\n",
       "      <td>OWN</td>\n",
       "      <td>153000.000</td>\n",
       "      <td>Verified</td>\n",
       "      <td>n</td>\n",
       "      <td>other</td>\n",
       "      <td>Good</td>\n",
       "    </tr>\n",
       "    <tr>\n",
       "      <th>2</th>\n",
       "      <td>10000.000</td>\n",
       "      <td>36 months</td>\n",
       "      <td>17.990</td>\n",
       "      <td>361.480</td>\n",
       "      <td>D</td>\n",
       "      <td>RENT</td>\n",
       "      <td>41556.000</td>\n",
       "      <td>Verified</td>\n",
       "      <td>n</td>\n",
       "      <td>debt_consolidation</td>\n",
       "      <td>Good</td>\n",
       "    </tr>\n",
       "    <tr>\n",
       "      <th>3</th>\n",
       "      <td>32000.000</td>\n",
       "      <td>36 months</td>\n",
       "      <td>13.990</td>\n",
       "      <td>1093.530</td>\n",
       "      <td>C</td>\n",
       "      <td>MORTGAGE</td>\n",
       "      <td>110000.000</td>\n",
       "      <td>Verified</td>\n",
       "      <td>n</td>\n",
       "      <td>debt_consolidation</td>\n",
       "      <td>Good</td>\n",
       "    </tr>\n",
       "    <tr>\n",
       "      <th>4</th>\n",
       "      <td>30000.000</td>\n",
       "      <td>60 months</td>\n",
       "      <td>24.490</td>\n",
       "      <td>871.600</td>\n",
       "      <td>E</td>\n",
       "      <td>RENT</td>\n",
       "      <td>323000.000</td>\n",
       "      <td>Verified</td>\n",
       "      <td>n</td>\n",
       "      <td>major_purchase</td>\n",
       "      <td>Good</td>\n",
       "    </tr>\n",
       "  </tbody>\n",
       "</table>\n",
       "</div>"
      ],
      "text/plain": [
       "   loan_amnt        term  int_rate  installment grade home_ownership  \\\n",
       "0  12000.000   36 months    15.590      419.460     C       MORTGAGE   \n",
       "1   2000.000   36 months    16.990       71.300     D            OWN   \n",
       "2  10000.000   36 months    17.990      361.480     D           RENT   \n",
       "3  32000.000   36 months    13.990     1093.530     C       MORTGAGE   \n",
       "4  30000.000   60 months    24.490      871.600     E           RENT   \n",
       "\n",
       "   annual_inc verification_status pymnt_plan             purpose  \\\n",
       "0   70000.000            Verified          n  debt_consolidation   \n",
       "1  153000.000            Verified          n               other   \n",
       "2   41556.000            Verified          n  debt_consolidation   \n",
       "3  110000.000            Verified          n  debt_consolidation   \n",
       "4  323000.000            Verified          n      major_purchase   \n",
       "\n",
       "  new_loan_status  \n",
       "0            Good  \n",
       "1            Good  \n",
       "2            Good  \n",
       "3            Good  \n",
       "4            Good  "
      ]
     },
     "execution_count": 165,
     "metadata": {},
     "output_type": "execute_result"
    }
   ],
   "source": [
    "df_test_final.head()"
   ]
  },
  {
   "cell_type": "code",
   "execution_count": 166,
   "metadata": {},
   "outputs": [
    {
     "data": {
      "text/plain": [
       "loan_amnt              2\n",
       "term                   2\n",
       "int_rate               2\n",
       "installment            2\n",
       "grade                  2\n",
       "home_ownership         2\n",
       "annual_inc             2\n",
       "verification_status    2\n",
       "pymnt_plan             2\n",
       "purpose                2\n",
       "new_loan_status        0\n",
       "dtype: int64"
      ]
     },
     "execution_count": 166,
     "metadata": {},
     "output_type": "execute_result"
    }
   ],
   "source": [
    "df_test_final.isnull().sum()"
   ]
  },
  {
   "cell_type": "code",
   "execution_count": 167,
   "metadata": {},
   "outputs": [],
   "source": [
    "df_test_final = df_test_final.dropna()"
   ]
  },
  {
   "cell_type": "code",
   "execution_count": 168,
   "metadata": {},
   "outputs": [],
   "source": [
    "X_test = df_test_final.iloc[:, [0,1,2,3,4,5,6,7,8,9]].values\n",
    "y_test = df_test_final.loc[:, \"new_loan_status\"].values"
   ]
  },
  {
   "cell_type": "code",
   "execution_count": 169,
   "metadata": {},
   "outputs": [],
   "source": [
    "label_encoder_term_test = LabelEncoder()\n",
    "label_encoder_grade_test = LabelEncoder()\n",
    "label_encoder_ho_test = LabelEncoder()\n",
    "label_encoder_vs_test = LabelEncoder()\n",
    "label_encoder_pp_test = LabelEncoder()\n",
    "label_encoder_purpose_test = LabelEncoder()\n",
    "label_encoder_ls_test = LabelEncoder()\n",
    "\n",
    "label_encoder_term_test.fit(X_test[:,1]) #never enter multiple column here, it doesn't work\n",
    "X_test[:,1] = label_encoder_term_test.transform(X_test[:,1])\n",
    "\n",
    "label_encoder_grade_test.fit(X_test[:,4]) #never enter multiple column here, it doesn't work\n",
    "X_test[:,4] = label_encoder_grade_test.transform(X_test[:,4])\n",
    "\n",
    "label_encoder_ho_test.fit(X_test[:,5]) #never enter multiple column here, it doesn't work\n",
    "X_test[:,5] = label_encoder_ho_test.transform(X_test[:,5])\n",
    "\n",
    "label_encoder_vs_test.fit(X_test[:,7]) #never enter multiple column here, it doesn't work\n",
    "X_test[:,7] = label_encoder_vs_test.transform(X_test[:,7])\n",
    "\n",
    "label_encoder_pp_test.fit(X_test[:,8]) #never enter multiple column here, it doesn't work\n",
    "X_test[:,8] = label_encoder_pp_test.transform(X_test[:,8])\n",
    "\n",
    "label_encoder_purpose_test.fit(X_test[:,9]) #never enter multiple column here, it doesn't work\n",
    "X_test[:,9] = label_encoder_purpose_test.transform(X_test[:,9])\n",
    "\n",
    "one_hot_encoder_test = OneHotEncoder(categorical_features=[1,4,5,7,8,9], sparse=False)\n",
    "one_hot_encoder_test.fit(X_test)\n",
    "X_test= one_hot_encoder_test.transform(X_test)\n",
    "\n",
    "X_test = np.delete(X_test, one_hot_encoder.feature_indices_[ : -1], 1)\n",
    "\n",
    "label_encoder_ls_test.fit(y_test) #never enter multiple column here, it doesn't work\n",
    "y_test = label_encoder_ls_test.transform(y_test)"
   ]
  },
  {
   "cell_type": "markdown",
   "metadata": {},
   "source": [
    "# Logistic Regression"
   ]
  },
  {
   "cell_type": "code",
   "execution_count": 170,
   "metadata": {},
   "outputs": [
    {
     "data": {
      "text/plain": [
       "LogisticRegression(C=1.0, class_weight=None, dual=False, fit_intercept=True,\n",
       "          intercept_scaling=1, max_iter=100, multi_class='ovr', n_jobs=1,\n",
       "          penalty='l2', random_state=None, solver='liblinear', tol=0.0001,\n",
       "          verbose=0, warm_start=False)"
      ]
     },
     "execution_count": 170,
     "metadata": {},
     "output_type": "execute_result"
    }
   ],
   "source": [
    "glm_model_final = LogisticRegression()\n",
    "glm_model_final.fit(X_new, y_new)"
   ]
  },
  {
   "cell_type": "code",
   "execution_count": 171,
   "metadata": {},
   "outputs": [],
   "source": [
    "y_pred_glm_final = glm_model_final.predict(X_test)\n",
    "y_pred_prob_glm_final = glm_model_final.predict_proba(X_test) [:, 1]"
   ]
  },
  {
   "cell_type": "code",
   "execution_count": 172,
   "metadata": {},
   "outputs": [
    {
     "data": {
      "text/plain": [
       "0.5015533345596501"
      ]
     },
     "execution_count": 172,
     "metadata": {},
     "output_type": "execute_result"
    }
   ],
   "source": [
    "accuracy_score(y_test, y_pred_glm_final)"
   ]
  },
  {
   "cell_type": "code",
   "execution_count": 173,
   "metadata": {},
   "outputs": [
    {
     "data": {
      "image/png": "[encoded data removed]",
      "text/plain": [
       "<matplotlib.figure.Figure at 0x119ddb898>"
      ]
     },
     "metadata": {},
     "output_type": "display_data"
    }
   ],
   "source": [
    "fpr, tpr, threshold = roc_curve(y_test, y_pred_prob_glm_final)\n",
    "auc_score = roc_auc_score(y_test, y_pred_prob_glm_final)\n",
    "plt.title('Logistic Regression Receiving Operating Characteristics')\n",
    "plt.plot(fpr, tpr, 'b', label = 'AUC = %0.2f'%auc_score)\n",
    "plt.legend(loc = 'lower right')\n",
    "plt.plot([0,1], [0,1], 'r--')\n",
    "plt.xlim([0,1])\n",
    "plt.ylim([0,1])\n",
    "plt.xlabel('False Positive Rate')\n",
    "plt.ylabel('True Positive Rate')\n",
    "plt.show()"
   ]
  },
  {
   "cell_type": "code",
   "execution_count": 198,
   "metadata": {},
   "outputs": [
    {
     "data": {
      "text/plain": [
       "array([[10216,  3647],\n",
       "       [45128, 38863]])"
      ]
     },
     "execution_count": 198,
     "metadata": {},
     "output_type": "execute_result"
    }
   ],
   "source": [
    "confusion_matrix(y_test, y_pred_glm_final)"
   ]
  },
  {
   "cell_type": "markdown",
   "metadata": {},
   "source": [
    "# Adaptive Boosting"
   ]
  },
  {
   "cell_type": "code",
   "execution_count": 174,
   "metadata": {},
   "outputs": [
    {
     "data": {
      "text/plain": [
       "AdaBoostClassifier(algorithm='SAMME.R', base_estimator=None,\n",
       "          learning_rate=0.001, n_estimators=100, random_state=1)"
      ]
     },
     "execution_count": 174,
     "metadata": {},
     "output_type": "execute_result"
    }
   ],
   "source": [
    "ada_boost_model_final = AdaBoostClassifier(n_estimators = 100, learning_rate = 0.001, random_state = 1)\n",
    "ada_boost_model_final.fit(X_new, y_new)"
   ]
  },
  {
   "cell_type": "code",
   "execution_count": 175,
   "metadata": {},
   "outputs": [],
   "source": [
    "y_pred_ada_final = ada_boost_model_final.predict(X_test)\n",
    "y_pred_prob_ada_final = ada_boost_model_final.predict_proba(X_test) [:, 1]"
   ]
  },
  {
   "cell_type": "code",
   "execution_count": 176,
   "metadata": {},
   "outputs": [
    {
     "data": {
      "text/plain": [
       "0.7285139084758927"
      ]
     },
     "execution_count": 176,
     "metadata": {},
     "output_type": "execute_result"
    }
   ],
   "source": [
    "accuracy_score(y_test, y_pred_ada_final)"
   ]
  },
  {
   "cell_type": "code",
   "execution_count": 177,
   "metadata": {},
   "outputs": [
    {
     "data": {
      "image/png": "[encoded data removed]",
      "text/plain": [
       "<matplotlib.figure.Figure at 0x125143a58>"
      ]
     },
     "metadata": {},
     "output_type": "display_data"
    }
   ],
   "source": [
    "fpr, tpr, threshold = roc_curve(y_test, y_pred_prob_ada_final)\n",
    "auc_score = roc_auc_score(y_test, y_pred_prob_ada_final)\n",
    "plt.title('Adaptive Boosting Receiving Operating Characteristics')\n",
    "plt.plot(fpr, tpr, 'b', label = 'AUC = %0.2f'%auc_score)\n",
    "plt.legend(loc = 'lower right')\n",
    "plt.plot([0,1], [0,1], 'r--')\n",
    "plt.xlim([0,1])\n",
    "plt.ylim([0,1])\n",
    "plt.xlabel('False Positive Rate')\n",
    "plt.ylabel('True Positive Rate')\n",
    "plt.show()"
   ]
  },
  {
   "cell_type": "markdown",
   "metadata": {},
   "source": [
    "# Gradient Boosting"
   ]
  },
  {
   "cell_type": "code",
   "execution_count": 178,
   "metadata": {},
   "outputs": [
    {
     "data": {
      "text/plain": [
       "GradientBoostingClassifier(criterion='friedman_mse', init=None,\n",
       "              learning_rate=0.001, loss='deviance', max_depth=3,\n",
       "              max_features=None, max_leaf_nodes=None,\n",
       "              min_impurity_decrease=0.0, min_impurity_split=None,\n",
       "              min_samples_leaf=1, min_samples_split=2,\n",
       "              min_weight_fraction_leaf=0.0, n_estimators=100,\n",
       "              presort='auto', random_state=None, subsample=1.0, verbose=0,\n",
       "              warm_start=False)"
      ]
     },
     "execution_count": 178,
     "metadata": {},
     "output_type": "execute_result"
    }
   ],
   "source": [
    "gda_boost_model_final = GradientBoostingClassifier(learning_rate=0.001)\n",
    "gda_boost_model_final.fit(X_new, y_new)"
   ]
  },
  {
   "cell_type": "code",
   "execution_count": 179,
   "metadata": {},
   "outputs": [],
   "source": [
    "y_pred_gda_final = gda_boost_model_final.predict(X_test)\n",
    "y_pred_prob_gda_final = gda_boost_model_final.predict_proba(X_test) [:, 1]"
   ]
  },
  {
   "cell_type": "code",
   "execution_count": 180,
   "metadata": {},
   "outputs": [
    {
     "data": {
      "text/plain": [
       "0.6440002452633515"
      ]
     },
     "execution_count": 180,
     "metadata": {},
     "output_type": "execute_result"
    }
   ],
   "source": [
    "accuracy_score(y_test, y_pred_gda_final)"
   ]
  },
  {
   "cell_type": "code",
   "execution_count": 181,
   "metadata": {},
   "outputs": [
    {
     "data": {
      "image/png": "[encoded data removed]",
      "text/plain": [
       "<matplotlib.figure.Figure at 0x125142438>"
      ]
     },
     "metadata": {},
     "output_type": "display_data"
    }
   ],
   "source": [
    "fpr, tpr, threshold = roc_curve(y_test, y_pred_prob_gda_final)\n",
    "auc_score = roc_auc_score(y_test, y_pred_prob_gda_final)\n",
    "plt.title('Gradient Boosting Receiving Operating Characteristics')\n",
    "plt.plot(fpr, tpr, 'b', label = 'AUC = %0.2f'%auc_score)\n",
    "plt.legend(loc = 'lower right')\n",
    "plt.plot([0,1], [0,1], 'r--')\n",
    "plt.xlim([0,1])\n",
    "plt.ylim([0,1])\n",
    "plt.xlabel('False Positive Rate')\n",
    "plt.ylabel('True Positive Rate')\n",
    "plt.show()"
   ]
  },
  {
   "cell_type": "markdown",
   "metadata": {},
   "source": [
    "# Bagging"
   ]
  },
  {
   "cell_type": "code",
   "execution_count": 182,
   "metadata": {},
   "outputs": [
    {
     "data": {
      "text/plain": [
       "BaggingClassifier(base_estimator=None, bootstrap=True,\n",
       "         bootstrap_features=False, max_features=1.0, max_samples=0.001,\n",
       "         n_estimators=10, n_jobs=1, oob_score=False, random_state=None,\n",
       "         verbose=0, warm_start=False)"
      ]
     },
     "execution_count": 182,
     "metadata": {},
     "output_type": "execute_result"
    }
   ],
   "source": [
    "bagging_model_final = BaggingClassifier(n_estimators = 10, max_samples = 0.001)\n",
    "bagging_model_final.fit(X_new, y_new)"
   ]
  },
  {
   "cell_type": "code",
   "execution_count": 183,
   "metadata": {},
   "outputs": [],
   "source": [
    "y_pred_bagging_final = bagging_model_final.predict(X_test)\n",
    "y_pred_prob_bagging_final = bagging_model_final.predict_proba(X_test) [:, 1]"
   ]
  },
  {
   "cell_type": "code",
   "execution_count": 185,
   "metadata": {},
   "outputs": [
    {
     "data": {
      "text/plain": [
       "0.4874404725407239"
      ]
     },
     "execution_count": 185,
     "metadata": {},
     "output_type": "execute_result"
    }
   ],
   "source": [
    "accuracy_score(y_test, y_pred_bagging_final)"
   ]
  },
  {
   "cell_type": "code",
   "execution_count": 184,
   "metadata": {},
   "outputs": [
    {
     "data": {
      "image/png": "[encoded data removed]",
      "text/plain": [
       "<matplotlib.figure.Figure at 0x118504e10>"
      ]
     },
     "metadata": {},
     "output_type": "display_data"
    }
   ],
   "source": [
    "fpr, tpr, threshold = roc_curve(y_test, y_pred_prob_bagging_final)\n",
    "auc_score = roc_auc_score(y_test, y_pred_prob_bagging_final)\n",
    "plt.title('Bagging Receiving Operating Characteristics')\n",
    "plt.plot(fpr, tpr, 'b', label = 'AUC = %0.2f'%auc_score)\n",
    "plt.legend(loc = 'lower right')\n",
    "plt.plot([0,1], [0,1], 'r--')\n",
    "plt.xlim([0,1])\n",
    "plt.ylim([0,1])\n",
    "plt.xlabel('False Positive Rate')\n",
    "plt.ylabel('True Positive Rate')\n",
    "plt.show()"
   ]
  },
  {
   "cell_type": "markdown",
   "metadata": {},
   "source": [
    "# Decision Tree"
   ]
  },
  {
   "cell_type": "code",
   "execution_count": 186,
   "metadata": {},
   "outputs": [
    {
     "data": {
      "text/plain": [
       "DecisionTreeClassifier(class_weight=None, criterion='gini', max_depth=None,\n",
       "            max_features=None, max_leaf_nodes=None,\n",
       "            min_impurity_decrease=0.0, min_impurity_split=None,\n",
       "            min_samples_leaf=1, min_samples_split=2,\n",
       "            min_weight_fraction_leaf=0.0, presort=False, random_state=None,\n",
       "            splitter='best')"
      ]
     },
     "execution_count": 186,
     "metadata": {},
     "output_type": "execute_result"
    }
   ],
   "source": [
    "dtc_model_final = DecisionTreeClassifier()\n",
    "dtc_model_final.fit(X_new, y_new)"
   ]
  },
  {
   "cell_type": "code",
   "execution_count": 187,
   "metadata": {},
   "outputs": [],
   "source": [
    "y_pred_dtc_final = dtc_model_final.predict(X_test)\n",
    "y_pred_prob_dtc_final = dtc_model_final.predict_proba(X_test) [:, 1]"
   ]
  },
  {
   "cell_type": "code",
   "execution_count": 188,
   "metadata": {},
   "outputs": [
    {
     "data": {
      "text/plain": [
       "0.33338442986490074"
      ]
     },
     "execution_count": 188,
     "metadata": {},
     "output_type": "execute_result"
    }
   ],
   "source": [
    "accuracy_score(y_test, y_pred_dtc_final)"
   ]
  },
  {
   "cell_type": "code",
   "execution_count": 189,
   "metadata": {},
   "outputs": [
    {
     "data": {
      "image/png": "[encoded data removed]",
      "text/plain": [
       "<matplotlib.figure.Figure at 0x11784bc88>"
      ]
     },
     "metadata": {},
     "output_type": "display_data"
    }
   ],
   "source": [
    "fpr, tpr, threshold = roc_curve(y_test, y_pred_prob_dtc_final)\n",
    "auc_score = roc_auc_score(y_test, y_pred_prob_dtc_final)\n",
    "plt.title('Decision Tree Receiving Operating Characteristics')\n",
    "plt.plot(fpr, tpr, 'b', label = 'AUC = %0.2f'%auc_score)\n",
    "plt.legend(loc = 'lower right')\n",
    "plt.plot([0,1], [0,1], 'r--')\n",
    "plt.xlim([0,1])\n",
    "plt.ylim([0,1])\n",
    "plt.xlabel('False Positive Rate')\n",
    "plt.ylabel('True Positive Rate')\n",
    "plt.show()"
   ]
  },
  {
   "cell_type": "markdown",
   "metadata": {},
   "source": [
    "# Naive Bayes Classification"
   ]
  },
  {
   "cell_type": "code",
   "execution_count": 190,
   "metadata": {},
   "outputs": [
    {
     "data": {
      "text/plain": [
       "GaussianNB(priors=None)"
      ]
     },
     "execution_count": 190,
     "metadata": {},
     "output_type": "execute_result"
    }
   ],
   "source": [
    "gnb_model_final = GaussianNB()\n",
    "gnb_model_final.fit(X_new, y_new)"
   ]
  },
  {
   "cell_type": "code",
   "execution_count": 191,
   "metadata": {},
   "outputs": [],
   "source": [
    "y_pred_gnb_final = gnb_model_final.predict(X_test)\n",
    "y_pred_prob_gnb_final = gnb_model_final.predict_proba(X_test) [:, 1]"
   ]
  },
  {
   "cell_type": "code",
   "execution_count": 197,
   "metadata": {},
   "outputs": [
    {
     "data": {
      "text/plain": [
       "0.687534490158808"
      ]
     },
     "execution_count": 197,
     "metadata": {},
     "output_type": "execute_result"
    }
   ],
   "source": [
    "accuracy_score(y_test, y_pred_gnb_final)"
   ]
  },
  {
   "cell_type": "code",
   "execution_count": 192,
   "metadata": {},
   "outputs": [
    {
     "data": {
      "image/png": "[encoded data removed]",
      "text/plain": [
       "<matplotlib.figure.Figure at 0x11c5288d0>"
      ]
     },
     "metadata": {},
     "output_type": "display_data"
    }
   ],
   "source": [
    "fpr, tpr, threshold = roc_curve(y_test, y_pred_prob_gnb_final)\n",
    "auc_score = roc_auc_score(y_test, y_pred_prob_gnb_final)\n",
    "plt.title('Naive Bayes Receiving Operating Characteristics')\n",
    "plt.plot(fpr, tpr, 'b', label = 'AUC = %0.2f'%auc_score)\n",
    "plt.legend(loc = 'lower right')\n",
    "plt.plot([0,1], [0,1], 'r--')\n",
    "plt.xlim([0,1])\n",
    "plt.ylim([0,1])\n",
    "plt.xlabel('False Positive Rate')\n",
    "plt.ylabel('True Positive Rate')\n",
    "plt.show()"
   ]
  },
  {
   "cell_type": "markdown",
   "metadata": {},
   "source": [
    "# Random Forest"
   ]
  },
  {
   "cell_type": "code",
   "execution_count": 193,
   "metadata": {},
   "outputs": [
    {
     "data": {
      "text/plain": [
       "RandomForestClassifier(bootstrap=True, class_weight=None, criterion='gini',\n",
       "            max_depth=None, max_features='auto', max_leaf_nodes=None,\n",
       "            min_impurity_decrease=0.0, min_impurity_split=None,\n",
       "            min_samples_leaf=1, min_samples_split=2,\n",
       "            min_weight_fraction_leaf=0.0, n_estimators=1000, n_jobs=1,\n",
       "            oob_score=False, random_state=None, verbose=0,\n",
       "            warm_start=False)"
      ]
     },
     "execution_count": 193,
     "metadata": {},
     "output_type": "execute_result"
    }
   ],
   "source": [
    "rf_model_final = RandomForestClassifier(n_estimators=1000)\n",
    "rf_model_final.fit(X_new, y_new)"
   ]
  },
  {
   "cell_type": "code",
   "execution_count": 194,
   "metadata": {},
   "outputs": [],
   "source": [
    "y_pred_rf_final = rf_model_final.predict(X_test)\n",
    "y_pred_prob_rf_final = rf_model_final.predict_proba(X_test) [:, 1]"
   ]
  },
  {
   "cell_type": "code",
   "execution_count": 195,
   "metadata": {},
   "outputs": [
    {
     "data": {
      "text/plain": [
       "0.3983894373249944"
      ]
     },
     "execution_count": 195,
     "metadata": {},
     "output_type": "execute_result"
    }
   ],
   "source": [
    "accuracy_score(y_test, y_pred_rf_final)"
   ]
  },
  {
   "cell_type": "code",
   "execution_count": 196,
   "metadata": {},
   "outputs": [
    {
     "data": {
      "image/png": "[encoded data removed]",
      "text/plain": [
       "<matplotlib.figure.Figure at 0x12bdba9b0>"
      ]
     },
     "metadata": {},
     "output_type": "display_data"
    }
   ],
   "source": [
    "fpr, tpr, threshold = roc_curve(y_test, y_pred_prob_rf_final)\n",
    "auc_score = roc_auc_score(y_test, y_pred_prob_rf_final)\n",
    "plt.title('Random Forest Receiving Operating Characteristics')\n",
    "plt.plot(fpr, tpr, 'b', label = 'AUC = %0.2f'%auc_score)\n",
    "plt.legend(loc = 'lower right')\n",
    "plt.plot([0,1], [0,1], 'r--')\n",
    "plt.xlim([0,1])\n",
    "plt.ylim([0,1])\n",
    "plt.xlabel('False Positive Rate')\n",
    "plt.ylabel('True Positive Rate')\n",
    "plt.show()"
   ]
  },
  {
   "cell_type": "markdown",
   "metadata": {},
   "source": [
    "# Predicting Q3 data"
   ]
  },
  {
   "cell_type": "code",
   "execution_count": 113,
   "metadata": {},
   "outputs": [],
   "source": [
    "df_Q3 = pd.read_csv('LoanStats_2016Q3.csv', engine = 'python', skipinitialspace=True, skiprows = 1)"
   ]
  },
  {
   "cell_type": "code",
   "execution_count": 114,
   "metadata": {},
   "outputs": [],
   "source": [
    "df_Q3_test_select = df_Q3[['loan_amnt', 'term', 'int_rate', 'installment', 'grade', 'home_ownership'\n",
    "              , 'annual_inc', 'verification_status', 'loan_status', 'pymnt_plan', 'purpose']]"
   ]
  },
  {
   "cell_type": "code",
   "execution_count": 115,
   "metadata": {},
   "outputs": [
    {
     "name": "stderr",
     "output_type": "stream",
     "text": [
      "/anaconda3/lib/python3.6/site-packages/ipykernel_launcher.py:2: SettingWithCopyWarning: \n",
      "A value is trying to be set on a copy of a slice from a DataFrame.\n",
      "Try using .loc[row_indexer,col_indexer] = value instead\n",
      "\n",
      "See the caveats in the documentation: http://pandas.pydata.org/pandas-docs/stable/indexing.html#indexing-view-versus-copy\n",
      "  \n"
     ]
    }
   ],
   "source": [
    "df_Q3_test_select['new_loan_status'] = np.where(df_Q3_test_select['loan_status'] == 'Current', 'Good', \n",
    "         (np.where(df_Q3_test_select['loan_status'] == 'Fully Paid', 'Good','Bad')))"
   ]
  },
  {
   "cell_type": "code",
   "execution_count": 116,
   "metadata": {},
   "outputs": [],
   "source": [
    "df_Q3_test_final = df_Q3_test_select.drop(['loan_status'], axis =1)"
   ]
  },
  {
   "cell_type": "code",
   "execution_count": 117,
   "metadata": {},
   "outputs": [],
   "source": [
    "df_Q3_test_final.int_rate = df_Q3_test_final.int_rate.str.replace(\"%\", \"\").astype(\"float\")"
   ]
  },
  {
   "cell_type": "code",
   "execution_count": 118,
   "metadata": {},
   "outputs": [
    {
     "data": {
      "text/html": [
       "<div>\n",
       "<style scoped>\n",
       "    .dataframe tbody tr th:only-of-type {\n",
       "        vertical-align: middle;\n",
       "    }\n",
       "\n",
       "    .dataframe tbody tr th {\n",
       "        vertical-align: top;\n",
       "    }\n",
       "\n",
       "    .dataframe thead th {\n",
       "        text-align: right;\n",
       "    }\n",
       "</style>\n",
       "<table border=\"1\" class=\"dataframe\">\n",
       "  <thead>\n",
       "    <tr style=\"text-align: right;\">\n",
       "      <th></th>\n",
       "      <th>loan_amnt</th>\n",
       "      <th>term</th>\n",
       "      <th>int_rate</th>\n",
       "      <th>installment</th>\n",
       "      <th>grade</th>\n",
       "      <th>home_ownership</th>\n",
       "      <th>annual_inc</th>\n",
       "      <th>verification_status</th>\n",
       "      <th>pymnt_plan</th>\n",
       "      <th>purpose</th>\n",
       "      <th>new_loan_status</th>\n",
       "    </tr>\n",
       "  </thead>\n",
       "  <tbody>\n",
       "    <tr>\n",
       "      <th>0</th>\n",
       "      <td>35000.000</td>\n",
       "      <td>60 months</td>\n",
       "      <td>17.990</td>\n",
       "      <td>888.580</td>\n",
       "      <td>D</td>\n",
       "      <td>MORTGAGE</td>\n",
       "      <td>70000.000</td>\n",
       "      <td>Not Verified</td>\n",
       "      <td>n</td>\n",
       "      <td>debt_consolidation</td>\n",
       "      <td>Good</td>\n",
       "    </tr>\n",
       "    <tr>\n",
       "      <th>1</th>\n",
       "      <td>12000.000</td>\n",
       "      <td>60 months</td>\n",
       "      <td>9.490</td>\n",
       "      <td>251.970</td>\n",
       "      <td>B</td>\n",
       "      <td>MORTGAGE</td>\n",
       "      <td>70000.000</td>\n",
       "      <td>Source Verified</td>\n",
       "      <td>n</td>\n",
       "      <td>debt_consolidation</td>\n",
       "      <td>Good</td>\n",
       "    </tr>\n",
       "    <tr>\n",
       "      <th>2</th>\n",
       "      <td>15000.000</td>\n",
       "      <td>36 months</td>\n",
       "      <td>13.990</td>\n",
       "      <td>512.600</td>\n",
       "      <td>C</td>\n",
       "      <td>RENT</td>\n",
       "      <td>67000.000</td>\n",
       "      <td>Verified</td>\n",
       "      <td>n</td>\n",
       "      <td>credit_card</td>\n",
       "      <td>Good</td>\n",
       "    </tr>\n",
       "    <tr>\n",
       "      <th>3</th>\n",
       "      <td>7000.000</td>\n",
       "      <td>36 months</td>\n",
       "      <td>10.990</td>\n",
       "      <td>229.140</td>\n",
       "      <td>B</td>\n",
       "      <td>MORTGAGE</td>\n",
       "      <td>38000.000</td>\n",
       "      <td>Not Verified</td>\n",
       "      <td>n</td>\n",
       "      <td>debt_consolidation</td>\n",
       "      <td>Good</td>\n",
       "    </tr>\n",
       "    <tr>\n",
       "      <th>4</th>\n",
       "      <td>7000.000</td>\n",
       "      <td>36 months</td>\n",
       "      <td>12.790</td>\n",
       "      <td>235.160</td>\n",
       "      <td>C</td>\n",
       "      <td>RENT</td>\n",
       "      <td>45386.000</td>\n",
       "      <td>Verified</td>\n",
       "      <td>n</td>\n",
       "      <td>debt_consolidation</td>\n",
       "      <td>Good</td>\n",
       "    </tr>\n",
       "  </tbody>\n",
       "</table>\n",
       "</div>"
      ],
      "text/plain": [
       "   loan_amnt        term  int_rate  installment grade home_ownership  \\\n",
       "0  35000.000   60 months    17.990      888.580     D       MORTGAGE   \n",
       "1  12000.000   60 months     9.490      251.970     B       MORTGAGE   \n",
       "2  15000.000   36 months    13.990      512.600     C           RENT   \n",
       "3   7000.000   36 months    10.990      229.140     B       MORTGAGE   \n",
       "4   7000.000   36 months    12.790      235.160     C           RENT   \n",
       "\n",
       "   annual_inc verification_status pymnt_plan             purpose  \\\n",
       "0   70000.000        Not Verified          n  debt_consolidation   \n",
       "1   70000.000     Source Verified          n  debt_consolidation   \n",
       "2   67000.000            Verified          n         credit_card   \n",
       "3   38000.000        Not Verified          n  debt_consolidation   \n",
       "4   45386.000            Verified          n  debt_consolidation   \n",
       "\n",
       "  new_loan_status  \n",
       "0            Good  \n",
       "1            Good  \n",
       "2            Good  \n",
       "3            Good  \n",
       "4            Good  "
      ]
     },
     "execution_count": 118,
     "metadata": {},
     "output_type": "execute_result"
    }
   ],
   "source": [
    "df_Q3_test_final.head()"
   ]
  },
  {
   "cell_type": "code",
   "execution_count": 119,
   "metadata": {},
   "outputs": [
    {
     "data": {
      "text/plain": [
       "loan_amnt              2\n",
       "term                   2\n",
       "int_rate               2\n",
       "installment            2\n",
       "grade                  2\n",
       "home_ownership         2\n",
       "annual_inc             2\n",
       "verification_status    2\n",
       "pymnt_plan             2\n",
       "purpose                2\n",
       "new_loan_status        0\n",
       "dtype: int64"
      ]
     },
     "execution_count": 119,
     "metadata": {},
     "output_type": "execute_result"
    }
   ],
   "source": [
    "df_Q3_test_final.isnull().sum()"
   ]
  },
  {
   "cell_type": "code",
   "execution_count": 120,
   "metadata": {},
   "outputs": [],
   "source": [
    "df_Q3_test_final = df_Q3_test_final.dropna()"
   ]
  },
  {
   "cell_type": "code",
   "execution_count": 122,
   "metadata": {},
   "outputs": [],
   "source": [
    "X_test_1 = df_Q3_test_final.iloc[:, [0,1,2,3,4,5,6,7,8,9]].values\n",
    "y_test_1 = df_Q3_test_final.loc[:, \"new_loan_status\"].values"
   ]
  },
  {
   "cell_type": "code",
   "execution_count": 123,
   "metadata": {},
   "outputs": [],
   "source": [
    "label_encoder_term_test = LabelEncoder()\n",
    "label_encoder_grade_test = LabelEncoder()\n",
    "label_encoder_ho_test = LabelEncoder()\n",
    "label_encoder_vs_test = LabelEncoder()\n",
    "label_encoder_pp_test = LabelEncoder()\n",
    "label_encoder_purpose_test = LabelEncoder()\n",
    "label_encoder_ls_test = LabelEncoder()\n",
    "\n",
    "label_encoder_term_test.fit(X_test_1[:,1]) #never enter multiple column here, it doesn't work\n",
    "X_test_1[:,1] = label_encoder_term_test.transform(X_test_1[:,1])\n",
    "\n",
    "label_encoder_grade_test.fit(X_test_1[:,4]) #never enter multiple column here, it doesn't work\n",
    "X_test_1[:,4] = label_encoder_grade_test.transform(X_test_1[:,4])\n",
    "\n",
    "label_encoder_ho_test.fit(X_test_1[:,5]) #never enter multiple column here, it doesn't work\n",
    "X_test_1[:,5] = label_encoder_ho_test.transform(X_test_1[:,5])\n",
    "\n",
    "label_encoder_vs_test.fit(X_test_1[:,7]) #never enter multiple column here, it doesn't work\n",
    "X_test_1[:,7] = label_encoder_vs_test.transform(X_test_1[:,7])\n",
    "\n",
    "label_encoder_pp_test.fit(X_test_1[:,8]) #never enter multiple column here, it doesn't work\n",
    "X_test_1[:,8] = label_encoder_pp_test.transform(X_test_1[:,8])\n",
    "\n",
    "label_encoder_purpose_test.fit(X_test_1[:,9]) #never enter multiple column here, it doesn't work\n",
    "X_test_1[:,9] = label_encoder_purpose_test.transform(X_test_1[:,9])\n",
    "\n",
    "one_hot_encoder_test = OneHotEncoder(categorical_features=[1,4,5,7,8,9], sparse=False)\n",
    "one_hot_encoder_test.fit(X_test_1)\n",
    "X_test_1= one_hot_encoder_test.transform(X_test_1)\n",
    "\n",
    "X_test_1 = np.delete(X_test_1, one_hot_encoder.feature_indices_[ : -1], 1)\n",
    "\n",
    "label_encoder_ls_test.fit(y_test_1) #never enter multiple column here, it doesn't work\n",
    "y_test_1 = label_encoder_ls_test.transform(y_test_1)"
   ]
  },
  {
   "cell_type": "code",
   "execution_count": 124,
   "metadata": {},
   "outputs": [
    {
     "ename": "ValueError",
     "evalue": "Number of features of the model must match the input. Model n_features is 27 and input n_features is 29 ",
     "output_type": "error",
     "traceback": [
      "\u001b[0;31m---------------------------------------------------------------------------\u001b[0m",
      "\u001b[0;31mValueError\u001b[0m                                Traceback (most recent call last)",
      "\u001b[0;32m<ipython-input-124-5099604517b5>\u001b[0m in \u001b[0;36m<module>\u001b[0;34m()\u001b[0m\n\u001b[0;32m----> 1\u001b[0;31m \u001b[0my_pred_ada_final_1\u001b[0m \u001b[0;34m=\u001b[0m \u001b[0mada_boost_model_final\u001b[0m\u001b[0;34m.\u001b[0m\u001b[0mpredict\u001b[0m\u001b[0;34m(\u001b[0m\u001b[0mX_test_1\u001b[0m\u001b[0;34m)\u001b[0m\u001b[0;34m\u001b[0m\u001b[0m\n\u001b[0m\u001b[1;32m      2\u001b[0m \u001b[0my_pred_prob_ada_final_1\u001b[0m \u001b[0;34m=\u001b[0m \u001b[0mada_boost_model_final\u001b[0m\u001b[0;34m.\u001b[0m\u001b[0mpredict_proba\u001b[0m\u001b[0;34m(\u001b[0m\u001b[0mX_test_1\u001b[0m\u001b[0;34m)\u001b[0m \u001b[0;34m[\u001b[0m\u001b[0;34m:\u001b[0m\u001b[0;34m,\u001b[0m \u001b[0;36m1\u001b[0m\u001b[0;34m]\u001b[0m\u001b[0;34m\u001b[0m\u001b[0m\n",
      "\u001b[0;32m/anaconda3/lib/python3.6/site-packages/sklearn/ensemble/weight_boosting.py\u001b[0m in \u001b[0;36mpredict\u001b[0;34m(self, X)\u001b[0m\n\u001b[1;32m    600\u001b[0m             \u001b[0mThe\u001b[0m \u001b[0mpredicted\u001b[0m \u001b[0mclasses\u001b[0m\u001b[0;34m.\u001b[0m\u001b[0;34m\u001b[0m\u001b[0m\n\u001b[1;32m    601\u001b[0m         \"\"\"\n\u001b[0;32m--> 602\u001b[0;31m         \u001b[0mpred\u001b[0m \u001b[0;34m=\u001b[0m \u001b[0mself\u001b[0m\u001b[0;34m.\u001b[0m\u001b[0mdecision_function\u001b[0m\u001b[0;34m(\u001b[0m\u001b[0mX\u001b[0m\u001b[0;34m)\u001b[0m\u001b[0;34m\u001b[0m\u001b[0m\n\u001b[0m\u001b[1;32m    603\u001b[0m \u001b[0;34m\u001b[0m\u001b[0m\n\u001b[1;32m    604\u001b[0m         \u001b[0;32mif\u001b[0m \u001b[0mself\u001b[0m\u001b[0;34m.\u001b[0m\u001b[0mn_classes_\u001b[0m \u001b[0;34m==\u001b[0m \u001b[0;36m2\u001b[0m\u001b[0;34m:\u001b[0m\u001b[0;34m\u001b[0m\u001b[0m\n",
      "\u001b[0;32m/anaconda3/lib/python3.6/site-packages/sklearn/ensemble/weight_boosting.py\u001b[0m in \u001b[0;36mdecision_function\u001b[0;34m(self, X)\u001b[0m\n\u001b[1;32m    668\u001b[0m             \u001b[0;31m# The weights are all 1. for SAMME.R\u001b[0m\u001b[0;34m\u001b[0m\u001b[0;34m\u001b[0m\u001b[0m\n\u001b[1;32m    669\u001b[0m             pred = sum(_samme_proba(estimator, n_classes, X)\n\u001b[0;32m--> 670\u001b[0;31m                        for estimator in self.estimators_)\n\u001b[0m\u001b[1;32m    671\u001b[0m         \u001b[0;32melse\u001b[0m\u001b[0;34m:\u001b[0m   \u001b[0;31m# self.algorithm == \"SAMME\"\u001b[0m\u001b[0;34m\u001b[0m\u001b[0m\n\u001b[1;32m    672\u001b[0m             pred = sum((estimator.predict(X) == classes).T * w\n",
      "\u001b[0;32m/anaconda3/lib/python3.6/site-packages/sklearn/ensemble/weight_boosting.py\u001b[0m in \u001b[0;36m<genexpr>\u001b[0;34m(.0)\u001b[0m\n\u001b[1;32m    668\u001b[0m             \u001b[0;31m# The weights are all 1. for SAMME.R\u001b[0m\u001b[0;34m\u001b[0m\u001b[0;34m\u001b[0m\u001b[0m\n\u001b[1;32m    669\u001b[0m             pred = sum(_samme_proba(estimator, n_classes, X)\n\u001b[0;32m--> 670\u001b[0;31m                        for estimator in self.estimators_)\n\u001b[0m\u001b[1;32m    671\u001b[0m         \u001b[0;32melse\u001b[0m\u001b[0;34m:\u001b[0m   \u001b[0;31m# self.algorithm == \"SAMME\"\u001b[0m\u001b[0;34m\u001b[0m\u001b[0m\n\u001b[1;32m    672\u001b[0m             pred = sum((estimator.predict(X) == classes).T * w\n",
      "\u001b[0;32m/anaconda3/lib/python3.6/site-packages/sklearn/ensemble/weight_boosting.py\u001b[0m in \u001b[0;36m_samme_proba\u001b[0;34m(estimator, n_classes, X)\u001b[0m\n\u001b[1;32m    283\u001b[0m \u001b[0;34m\u001b[0m\u001b[0m\n\u001b[1;32m    284\u001b[0m     \"\"\"\n\u001b[0;32m--> 285\u001b[0;31m     \u001b[0mproba\u001b[0m \u001b[0;34m=\u001b[0m \u001b[0mestimator\u001b[0m\u001b[0;34m.\u001b[0m\u001b[0mpredict_proba\u001b[0m\u001b[0;34m(\u001b[0m\u001b[0mX\u001b[0m\u001b[0;34m)\u001b[0m\u001b[0;34m\u001b[0m\u001b[0m\n\u001b[0m\u001b[1;32m    286\u001b[0m \u001b[0;34m\u001b[0m\u001b[0m\n\u001b[1;32m    287\u001b[0m     \u001b[0;31m# Displace zero probabilities so the log is defined.\u001b[0m\u001b[0;34m\u001b[0m\u001b[0;34m\u001b[0m\u001b[0m\n",
      "\u001b[0;32m/anaconda3/lib/python3.6/site-packages/sklearn/tree/tree.py\u001b[0m in \u001b[0;36mpredict_proba\u001b[0;34m(self, X, check_input)\u001b[0m\n\u001b[1;32m    819\u001b[0m         \"\"\"\n\u001b[1;32m    820\u001b[0m         \u001b[0mcheck_is_fitted\u001b[0m\u001b[0;34m(\u001b[0m\u001b[0mself\u001b[0m\u001b[0;34m,\u001b[0m \u001b[0;34m'tree_'\u001b[0m\u001b[0;34m)\u001b[0m\u001b[0;34m\u001b[0m\u001b[0m\n\u001b[0;32m--> 821\u001b[0;31m         \u001b[0mX\u001b[0m \u001b[0;34m=\u001b[0m \u001b[0mself\u001b[0m\u001b[0;34m.\u001b[0m\u001b[0m_validate_X_predict\u001b[0m\u001b[0;34m(\u001b[0m\u001b[0mX\u001b[0m\u001b[0;34m,\u001b[0m \u001b[0mcheck_input\u001b[0m\u001b[0;34m)\u001b[0m\u001b[0;34m\u001b[0m\u001b[0m\n\u001b[0m\u001b[1;32m    822\u001b[0m         \u001b[0mproba\u001b[0m \u001b[0;34m=\u001b[0m \u001b[0mself\u001b[0m\u001b[0;34m.\u001b[0m\u001b[0mtree_\u001b[0m\u001b[0;34m.\u001b[0m\u001b[0mpredict\u001b[0m\u001b[0;34m(\u001b[0m\u001b[0mX\u001b[0m\u001b[0;34m)\u001b[0m\u001b[0;34m\u001b[0m\u001b[0m\n\u001b[1;32m    823\u001b[0m \u001b[0;34m\u001b[0m\u001b[0m\n",
      "\u001b[0;32m/anaconda3/lib/python3.6/site-packages/sklearn/tree/tree.py\u001b[0m in \u001b[0;36m_validate_X_predict\u001b[0;34m(self, X, check_input)\u001b[0m\n\u001b[1;32m    382\u001b[0m                              \u001b[0;34m\"match the input. Model n_features is %s and \"\u001b[0m\u001b[0;34m\u001b[0m\u001b[0m\n\u001b[1;32m    383\u001b[0m                              \u001b[0;34m\"input n_features is %s \"\u001b[0m\u001b[0;34m\u001b[0m\u001b[0m\n\u001b[0;32m--> 384\u001b[0;31m                              % (self.n_features_, n_features))\n\u001b[0m\u001b[1;32m    385\u001b[0m \u001b[0;34m\u001b[0m\u001b[0m\n\u001b[1;32m    386\u001b[0m         \u001b[0;32mreturn\u001b[0m \u001b[0mX\u001b[0m\u001b[0;34m\u001b[0m\u001b[0m\n",
      "\u001b[0;31mValueError\u001b[0m: Number of features of the model must match the input. Model n_features is 27 and input n_features is 29 "
     ]
    }
   ],
   "source": [
    "y_pred_ada_final_1 = ada_boost_model_final.predict(X_test_1)\n",
    "y_pred_prob_ada_final_1 = ada_boost_model_final.predict_proba(X_test_1) [:, 1]"
   ]
  },
  {
   "cell_type": "code",
   "execution_count": null,
   "metadata": {},
   "outputs": [],
   "source": []
  },
  {
   "cell_type": "code",
   "execution_count": null,
   "metadata": {},
   "outputs": [],
   "source": []
  }
 ],
 "metadata": {
  "kernelspec": {
   "display_name": "Python 3",
   "language": "python",
   "name": "python3"
  },
  "language_info": {
   "codemirror_mode": {
    "name": "ipython",
    "version": 3
   },
   "file_extension": ".py",
   "mimetype": "text/x-python",
   "name": "python",
   "nbconvert_exporter": "python",
   "pygments_lexer": "ipython3",
   "version": "3.6.4"
  }
 },
 "nbformat": 4,
 "nbformat_minor": 2
}
